{
 "cells": [
  {
   "cell_type": "code",
   "execution_count": null,
   "id": "4a9fdb34-a2f8-4ab4-9b91-ac31ff1fef33",
   "metadata": {},
   "outputs": [],
   "source": [
    "import os\n",
    "import re\n",
    "import pandas as pd\n",
    "import numpy as np\n",
    "import mysql.connector as sql\n",
    "import time\n",
    "import datetime\n",
    "from collections import Counter\n",
    "\n",
    "import sys\n",
    "sys.path.insert(1,'./../catpro')\n",
    "# from catpro.text.visualize_conversations import print_conversation\n",
    "from catpro.tools.sql import query_to_df\n",
    "from catpro.tools.datetime_conversions import list_months_between_interval"
   ]
  },
  {
   "cell_type": "code",
   "execution_count": null,
   "id": "7f065a9f-47e3-4056-a97d-0ab67a909c88",
   "metadata": {},
   "outputs": [],
   "source": [
    "input_dir = './../../../data/ctl/input/datasets/'"
   ]
  },
  {
   "cell_type": "code",
   "execution_count": null,
   "id": "bae6e5e4-dc73-4433-96b6-dafd5371c79a",
   "metadata": {},
   "outputs": [],
   "source": [
    "metadata_df = pd.read_csv(input_dir+'train10_train_concurrent_metadata.csv', index_col = 0)\n",
    "messages_df = pd.read_csv(input_dir+'train10_train_concurrent_messages.csv', index_col = 0)"
   ]
  },
  {
   "cell_type": "markdown",
   "id": "274af758-4bae-42ed-bf7f-65faa426d8ac",
   "metadata": {},
   "source": [
    "### Check if mapping is correct, if messages have the tag present, how easy it is to find"
   ]
  },
  {
   "cell_type": "code",
   "execution_count": null,
   "id": "cc747ba8-237d-48bb-a80f-55f8d3eb40cd",
   "metadata": {},
   "outputs": [],
   "source": [
    "concurrent_df[concurrent_df['isolated']==1]['conversation_id'].values"
   ]
  },
  {
   "cell_type": "markdown",
   "id": "dabc53ae-e235-4ec4-ba0c-7a251073c6c6",
   "metadata": {},
   "source": [
    "# Distribution of tags per year and overall"
   ]
  },
  {
   "cell_type": "code",
   "execution_count": null,
   "id": "ed787d26-f2ad-4e2c-a00d-701ef78b118e",
   "metadata": {},
   "outputs": [],
   "source": [
    "tags_list = ..."
   ]
  },
  {
   "cell_type": "code",
   "execution_count": null,
   "id": "d39e9c06-d097-4a3f-94ea-f9af5ffdc084",
   "metadata": {},
   "outputs": [],
   "source": [
    "%%time\n",
    "\n",
    "run_this = True\n",
    "if run_this:\n",
    "\n",
    "    total = 0\n",
    "    counts_df_all = []\n",
    "\n",
    "    for year in [2017,2018,2019,2022]:\n",
    "    # for year in [2018]:\n",
    "        \n",
    "        tags_list = [list(n) for n in tags.tags_sorted.tolist()]\n",
    "        tags_list = [n for i in tags_list for n in i]\n",
    "        counts_df = pd.DataFrame(Counter(tags_list), index = [f'count_{year}']).T\n",
    "        total_i = tags.shape[0]\n",
    "        total += total_i\n",
    "        counts_df[f'prop_{year}'] = (counts_df/total_i).round(6) # different than dividing by counts_df.sum() because many are empty?\n",
    "        counts_df_all.append(counts_df)\n"
   ]
  },
  {
   "cell_type": "code",
   "execution_count": null,
   "id": "ee6280d7-0cac-4087-a0b5-64799d791384",
   "metadata": {},
   "outputs": [],
   "source": [
    "counts_df_all2 = pd.concat(counts_df_all, axis=1,)\n",
    "counts_df_all2['count_total'] = counts_df_all2[[n for n in counts_df_all2.columns if 'count' in n]].sum(axis=1)\n",
    "counts_df_all2['prop_total'] = (counts_df_all2['count_total']/total).round(3)\n",
    "counts_df_all2 = counts_df_all2.sort_values('count_total')[::-1]\n",
    "counts_df_all2.round(2)"
   ]
  },
  {
   "cell_type": "code",
   "execution_count": null,
   "id": "5c3e97e5-71ee-44d9-8667-0a83ff9d259e",
   "metadata": {},
   "outputs": [],
   "source": [
    "# CAN CHANGE STYLE IN SEABORN"
   ]
  },
  {
   "cell_type": "code",
   "execution_count": null,
   "id": "3a72fccd-7911-4f0b-8d43-1102579f0a30",
   "metadata": {},
   "outputs": [],
   "source": [
    "import matplotlib.pyplot as plt\n",
    "plt.rcParams[\"font.family\"] = \"Arial\"\n",
    "plt.rcParams[\"font.size\"] = 17\n",
    "plt.rcParams[\"figure.figsize\"] = (12,8)\n",
    "x = counts_df_all2.index[:17].tolist()\n",
    "x = [n.replace('_', ' ') for n in x]\n",
    "plt.bar(x=x,height = counts_df_all2['prop_total'].iloc[:17].values.tolist(),\n",
    "       color='dodgerblue')\n",
    "plt.xticks(rotation=85, size=15)\n",
    "plt.ylabel('Proportion of conversations with crisis')\n",
    "plt.xlabel('Type of crisis')\n",
    "plt.tight_layout()\n",
    "plt.savefig('./../../../data/ctl/output/tags_proportion.png', dpi=300)\n"
   ]
  },
  {
   "cell_type": "markdown",
   "id": "503f9094-9719-4b69-a846-b520c98a40c9",
   "metadata": {},
   "source": [
    "# Message length etc\n"
   ]
  },
  {
   "cell_type": "code",
   "execution_count": null,
   "id": "1601ce4d-af25-4490-824c-e59d3608a4f7",
   "metadata": {},
   "outputs": [],
   "source": []
  }
 ],
 "metadata": {
  "kernelspec": {
   "display_name": "Python 3",
   "language": "python",
   "name": "python3"
  },
  "language_info": {
   "codemirror_mode": {
    "name": "ipython",
    "version": 3
   },
   "file_extension": ".py",
   "mimetype": "text/x-python",
   "name": "python",
   "nbconvert_exporter": "python",
   "pygments_lexer": "ipython3",
   "version": "3.7.10"
  }
 },
 "nbformat": 4,
 "nbformat_minor": 5
}
