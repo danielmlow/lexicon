{
 "cells": [
  {
   "cell_type": "markdown",
   "metadata": {},
   "source": [
    "# Takes data resulting from build_lexicon.ipynb specifically for post-session survey\n"
   ]
  },
  {
   "cell_type": "code",
   "execution_count": 1,
   "metadata": {},
   "outputs": [],
   "source": [
    "'''\n",
    "Authors: Daniel M. Low\n",
    "License: See license in github repository\n",
    "'''\n",
    "\n",
    "import os\n",
    "import pandas as pd\n",
    "import numpy as np\n",
    "import seaborn as sns\n",
    "import matplotlib.pyplot as plt\n",
    "import datetime\n",
    "\n",
    "ts = datetime.datetime.utcnow().strftime('%y-%m-%dT%H-%M-%S')\n",
    "\n",
    "pd.set_option(\"display.max_columns\", None)\n",
    "# pd.options.display.width = 0\n",
    "\n",
    "\n",
    "on_colab = False\n",
    "\n",
    "if on_colab:\n",
    "  from google.colab import drive\n",
    "  project_name = 'project_name'\n",
    "  drive.mount('/content/drive')\n",
    "  input_dir = f'/content/drive/MyDrive/datum/{project_name}/data/input/'\n",
    "  output_dir = f'/content/drive/MyDrive/datum/{project_name}/data/output/'\n",
    "else:\n",
    "  input_dir = './../../../data/ctl/input/'\n",
    "  output_dir = './../../../data/ctl/output/'\n",
    "\n",
    "\n",
    "\n",
    "     "
   ]
  },
  {
   "cell_type": "code",
   "execution_count": null,
   "metadata": {},
   "outputs": [],
   "source": [
    "year_months = list_months_between_interval(start='2017-01-01', end='2023-01-01')\n",
    "years = [2017, 2018, 2019, 2022] #removed 2020 and 2021, heavily biased by the pandemic"
   ]
  },
  {
   "cell_type": "code",
   "execution_count": 13,
   "metadata": {},
   "outputs": [
    {
     "data": {
      "text/plain": [
       "[2013, 2014, 2015, 2016, 2017, 2018, 2019, 2020, 2021, 2022]"
      ]
     },
     "execution_count": 13,
     "metadata": {},
     "output_type": "execute_result"
    }
   ],
   "source": [
    "list(range(2013,2023))"
   ]
  },
  {
   "cell_type": "code",
   "execution_count": 39,
   "metadata": {},
   "outputs": [],
   "source": [
    "# %%time\n",
    "\n",
    "# # fix duplicate rows. merge all answers together.\n",
    "\n",
    "# convo_ids_all = [] \n",
    "# years_all = []\n",
    "# years = list(range(2016,2023)) # started in 2016\n",
    "\n",
    "# for year in years:\n",
    "#     # df_main = pd.read_parquet(input_dir+f'raw_data/q_post_conversation_survey_gender_{year}_23-03-04T23-24-13.gzip', engine='pyarrow')         \n",
    "\n",
    "\n",
    "#     files_year_i = [n for n in os.listdir(input_dir+'raw_data/') if ('q_post_conversation_survey' in n and str(year) in n)]\n",
    "#     files_year_i.sort()\n",
    "    \n",
    "    \n",
    "#     for f in files_year_i:\n",
    "#         metadata_i = pd.read_parquet(input_dir+f'raw_data/{f}', engine='pyarrow')        \n",
    "#         metadata_i = metadata_i.sort_values('time_submitted')\n",
    "#         unique_convos = metadata_i['conversation_id'].unique().shape[0]\n",
    "#         all_convos = metadata_i['conversation_id'].shape[0]\n",
    "#         if unique_convos< all_convos:\n",
    "#             print(f)\n",
    "#             print(unique_convos, all_convos) \n",
    "#         # df_main = df_main.merge(metadata_i, how='left', on=['actor_id', 'conversation_id', 'time_submitted'])\n",
    "    \n",
    "#     # df_main.to_csv(input_dir+f'datasets/q_post_conversation_survey{year}.csv', index=False)\n",
    "\n",
    "\n"
   ]
  },
  {
   "cell_type": "code",
   "execution_count": 40,
   "metadata": {},
   "outputs": [
    {
     "name": "stdout",
     "output_type": "stream",
     "text": [
      "q_post_conversation_survey_main_2016_23-03-04T23-24-13.gzip\n",
      "q_post_conversation_survey_old_2016_23-03-04T23-24-13.gzip\n",
      "q_post_conversation_survey_phq_2016_23-03-04T23-24-13.gzip\n",
      "q_post_conversation_survey_race_2016_23-03-04T23-24-13.gzip\n",
      "q_post_conversation_survey_sex_2016_23-03-04T23-24-13.gzip\n",
      "q_post_conversation_survey_main_2017_23-03-04T23-24-13.gzip\n",
      "q_post_conversation_survey_old_2017_23-03-04T23-24-13.gzip\n",
      "q_post_conversation_survey_phq_2017_23-03-04T23-24-13.gzip\n",
      "q_post_conversation_survey_race_2017_23-03-04T23-24-13.gzip\n",
      "q_post_conversation_survey_sex_2017_23-03-04T23-24-13.gzip\n",
      "q_post_conversation_survey_main_2018_23-03-04T23-24-13.gzip\n",
      "q_post_conversation_survey_old_2018_23-03-04T23-24-13.gzip\n",
      "q_post_conversation_survey_phq_2018_23-03-04T23-24-13.gzip\n",
      "q_post_conversation_survey_race_2018_23-03-04T23-24-13.gzip\n",
      "q_post_conversation_survey_sex_2018_23-03-04T23-24-13.gzip\n",
      "q_post_conversation_survey_main_2019_23-03-04T23-24-13.gzip\n",
      "q_post_conversation_survey_old_2019_23-03-04T23-24-13.gzip\n",
      "q_post_conversation_survey_phq_2019_23-03-04T23-24-13.gzip\n",
      "q_post_conversation_survey_race_2019_23-03-04T23-24-13.gzip\n",
      "q_post_conversation_survey_sex_2019_23-03-04T23-24-13.gzip\n",
      "q_post_conversation_survey_main_2020_23-03-04T23-24-13.gzip\n",
      "q_post_conversation_survey_old_2020_23-03-04T23-24-13.gzip\n",
      "q_post_conversation_survey_phq_2020_23-03-04T23-24-13.gzip\n",
      "q_post_conversation_survey_race_2020_23-03-04T23-24-13.gzip\n",
      "q_post_conversation_survey_sex_2020_23-03-04T23-24-13.gzip\n",
      "q_post_conversation_survey_main_2021_23-03-04T23-24-13.gzip\n",
      "q_post_conversation_survey_old_2021_23-03-04T23-24-13.gzip\n",
      "q_post_conversation_survey_phq_2021_23-03-04T23-24-13.gzip\n",
      "q_post_conversation_survey_race_2021_23-03-04T23-24-13.gzip\n",
      "q_post_conversation_survey_sex_2021_23-03-04T23-24-13.gzip\n",
      "q_post_conversation_survey_main_2022_23-03-04T23-24-13.gzip\n",
      "q_post_conversation_survey_old_2022_23-03-04T23-24-13.gzip\n",
      "q_post_conversation_survey_phq_2022_23-03-04T23-24-13.gzip\n",
      "q_post_conversation_survey_race_2022_23-03-04T23-24-13.gzip\n",
      "q_post_conversation_survey_sex_2022_23-03-04T23-24-13.gzip\n",
      "CPU times: user 29.8 s, sys: 1.46 s, total: 31.2 s\n",
      "Wall time: 31.5 s\n"
     ]
    }
   ],
   "source": [
    "%%time\n",
    "\n",
    "convo_ids_all = [] \n",
    "years_all = []\n",
    "years = list(range(2016,2023)) # started in 2016\n",
    "\n",
    "for year in years:\n",
    "    df_main = pd.read_parquet(input_dir+f'raw_data/q_post_conversation_survey_gender_{year}_23-03-04T23-24-13.gzip', engine='pyarrow')         \n",
    "\n",
    "\n",
    "    files_year_i = [n for n in os.listdir(input_dir+'raw_data/') if ('q_post_conversation_survey' in n and str(year) in n and 'gender' not in n)]\n",
    "    files_year_i.sort()\n",
    "    \n",
    "    \n",
    "    for f in files_year_i:\n",
    "        print(f)\n",
    "        metadata_i = pd.read_parquet(input_dir+f'raw_data/{f}', engine='pyarrow')        \n",
    "        metadata_i = metadata_i.sort_values('time_submitted')\n",
    "        df_main = df_main.merge(metadata_i, how='left', on=['actor_id', 'conversation_id', 'time_submitted'])\n",
    "    \n",
    "    df_main.to_csv(input_dir+f'datasets/q_post_conversation_survey{year}.csv', index=False)\n",
    "\n",
    "\n"
   ]
  },
  {
   "cell_type": "code",
   "execution_count": 29,
   "metadata": {},
   "outputs": [
    {
     "data": {
      "text/plain": [
       "Nearly every day           117535\n",
       "Several days                46048\n",
       "NaN                         43542\n",
       "More than half the days     34674\n",
       "Not at all                  21696\n",
       "More                            4\n",
       "Name: gad2_2, dtype: int64"
      ]
     },
     "execution_count": 29,
     "metadata": {},
     "output_type": "execute_result"
    }
   ],
   "source": [
    "df_main['gad2_2'].value_counts(dropna=False)"
   ]
  },
  {
   "cell_type": "code",
   "execution_count": 41,
   "metadata": {},
   "outputs": [
    {
     "name": "stderr",
     "output_type": "stream",
     "text": [
      "/Users/danielmlow/miniconda3/envs/ctl/lib/python3.7/site-packages/IPython/core/interactiveshell.py:3156: DtypeWarning: Columns (26) have mixed types.Specify dtype option on import or set low_memory=False.\n",
      "  interactivity=interactivity, compiler=compiler, result=result)\n",
      "/Users/danielmlow/miniconda3/envs/ctl/lib/python3.7/site-packages/IPython/core/interactiveshell.py:3156: DtypeWarning: Columns (8,20,21,22,23,24,25,26,27,28) have mixed types.Specify dtype option on import or set low_memory=False.\n",
      "  interactivity=interactivity, compiler=compiler, result=result)\n",
      "/Users/danielmlow/miniconda3/envs/ctl/lib/python3.7/site-packages/IPython/core/interactiveshell.py:3156: DtypeWarning: Columns (20,21,22,23,24,25,26,27,28,29) have mixed types.Specify dtype option on import or set low_memory=False.\n",
      "  interactivity=interactivity, compiler=compiler, result=result)\n",
      "/Users/danielmlow/miniconda3/envs/ctl/lib/python3.7/site-packages/IPython/core/interactiveshell.py:3156: DtypeWarning: Columns (10,11,12,13,14,15,16) have mixed types.Specify dtype option on import or set low_memory=False.\n",
      "  interactivity=interactivity, compiler=compiler, result=result)\n",
      "/Users/danielmlow/miniconda3/envs/ctl/lib/python3.7/site-packages/IPython/core/interactiveshell.py:3156: DtypeWarning: Columns (10,11,12,13,14,15,16,27) have mixed types.Specify dtype option on import or set low_memory=False.\n",
      "  interactivity=interactivity, compiler=compiler, result=result)\n"
     ]
    }
   ],
   "source": [
    "\n",
    "files = os.listdir(input_dir+'datasets/')\n",
    "files = [n for n in files if 'q_post_conversation_survey' in n]\n",
    "all_dfs = []\n",
    "for file in files:\n",
    "    all_dfs.append(pd.read_csv(input_dir+'datasets/'+file))\n",
    "\n",
    "all_dfs = pd.concat(all_dfs)"
   ]
  },
  {
   "cell_type": "code",
   "execution_count": 61,
   "metadata": {},
   "outputs": [],
   "source": [
    "all_dfs.to_csv(input_dir+'datasets/q_post_conversation_survey.csv', index=False)"
   ]
  },
  {
   "cell_type": "code",
   "execution_count": 53,
   "metadata": {},
   "outputs": [],
   "source": [
    "for convo_id in all_dfs['conversation_id'].unique():\n",
    "    all_dfs_i = all_dfs[all_dfs['conversation_id']==convo_id]\n",
    "    if all_dfs_i.shape[0]>1:\n",
    "        break\n"
   ]
  },
  {
   "cell_type": "code",
   "execution_count": 60,
   "metadata": {},
   "outputs": [
    {
     "data": {
      "text/plain": [
       "0.015052808474882736"
      ]
     },
     "execution_count": 60,
     "metadata": {},
     "output_type": "execute_result"
    }
   ],
   "source": [
    "all_dfs['gender'].value_counts(dropna=False).loc['Write in how you identify']/752152"
   ]
  },
  {
   "cell_type": "code",
   "execution_count": 34,
   "metadata": {},
   "outputs": [
    {
     "data": {
      "text/plain": [
       "(752152,)"
      ]
     },
     "execution_count": 34,
     "metadata": {},
     "output_type": "execute_result"
    }
   ],
   "source": [
    "all_dfs['conversation_id'].unique().shape\n"
   ]
  },
  {
   "cell_type": "code",
   "execution_count": 62,
   "metadata": {},
   "outputs": [
    {
     "data": {
      "text/plain": [
       "0.1671448888888889"
      ]
     },
     "execution_count": 62,
     "metadata": {},
     "output_type": "execute_result"
    }
   ],
   "source": [
    "752152/4500000"
   ]
  }
 ],
 "metadata": {
  "kernelspec": {
   "display_name": "ctl",
   "language": "python",
   "name": "python3"
  },
  "language_info": {
   "codemirror_mode": {
    "name": "ipython",
    "version": 3
   },
   "file_extension": ".py",
   "mimetype": "text/x-python",
   "name": "python",
   "nbconvert_exporter": "python",
   "pygments_lexer": "ipython3",
   "version": "3.7.10"
  },
  "orig_nbformat": 4
 },
 "nbformat": 4,
 "nbformat_minor": 2
}
