{
 "cells": [
  {
   "cell_type": "markdown",
   "metadata": {
    "id": "eF1sxaSKmT9A"
   },
   "source": [
    "Author: Daniel Low\n",
    "\n",
    "Based on tutorials:\n",
    "- https://github.com/huggingface/notebooks/blob/e1983033bf88432e1e371996e1deec2f6ef1c52a/examples/text_classification.ipynb\n",
    "- https://huggingface.co/blog/ray-tune\n",
    "- https://huggingface.co/docs/transformers/training"
   ]
  },
  {
   "cell_type": "code",
   "execution_count": 2,
   "metadata": {
    "colab": {
     "base_uri": "https://localhost:8080/"
    },
    "id": "A4Dc8SGM0hkC",
    "outputId": "c99538e0-0b3d-4fdf-f0b2-da0dea515600"
   },
   "outputs": [
    {
     "name": "stdout",
     "output_type": "stream",
     "text": [
      "Python 3.10.12\r\n"
     ]
    }
   ],
   "source": [
    "# python and package Versions used\n",
    "\n",
    "!python --version # I ran on python==3.10.12"
   ]
  },
  {
   "cell_type": "code",
   "execution_count": 3,
   "metadata": {
    "colab": {
     "base_uri": "https://localhost:8080/"
    },
    "id": "8PFR1gT-0d7t",
    "outputId": "d4ce2a42-11ca-455d-a0d6-ef1ad5562dfb"
   },
   "outputs": [],
   "source": [
    "# !pip install -q torch==2.0.1 datasets==2.14.3 transformers==4.28.1 accelerate==0.15.0 optuna==3.2.0 evaluate\n",
    "#imbalanced-learn==0.11.0\n",
    "\n"
   ]
  },
  {
   "cell_type": "code",
   "execution_count": 4,
   "metadata": {},
   "outputs": [
    {
     "name": "stdout",
     "output_type": "stream",
     "text": [
      "Thu Mar 28 15:11:08 2024       \r\n",
      "+-----------------------------------------------------------------------------------------+\r\n",
      "| NVIDIA-SMI 550.54.14              Driver Version: 550.54.14      CUDA Version: 12.4     |\r\n",
      "|-----------------------------------------+------------------------+----------------------+\r\n",
      "| GPU  Name                 Persistence-M | Bus-Id          Disp.A | Volatile Uncorr. ECC |\r\n",
      "| Fan  Temp   Perf          Pwr:Usage/Cap |           Memory-Usage | GPU-Util  Compute M. |\r\n",
      "|                                         |                        |               MIG M. |\r\n",
      "|=========================================+========================+======================|\r\n",
      "|   0  Quadro RTX 6000                On  |   00000000:5E:00.0 Off |                  Off |\r\n",
      "| 33%   35C    P8             17W /  260W |       0MiB /  24576MiB |      0%      Default |\r\n",
      "|                                         |                        |                  N/A |\r\n",
      "+-----------------------------------------+------------------------+----------------------+\r\n",
      "                                                                                         \r\n",
      "+-----------------------------------------------------------------------------------------+\r\n",
      "| Processes:                                                                              |\r\n",
      "|  GPU   GI   CI        PID   Type   Process name                              GPU Memory |\r\n",
      "|        ID   ID                                                               Usage      |\r\n",
      "|=========================================================================================|\r\n",
      "|  No running processes found                                                             |\r\n",
      "+-----------------------------------------------------------------------------------------+\r\n"
     ]
    }
   ],
   "source": [
    "!nvidia-smi\n"
   ]
  },
  {
   "cell_type": "code",
   "execution_count": 5,
   "metadata": {
    "colab": {
     "base_uri": "https://localhost:8080/"
    },
    "id": "bNzeFzgY0d7u",
    "outputId": "2ea9d5fb-9374-4d88-e14d-0662044cd025"
   },
   "outputs": [
    {
     "name": "stdout",
     "output_type": "stream",
     "text": [
      "Number of GPUs available: 1\n",
      "GPU 0:\n",
      "\tName: Quadro RTX 6000\n",
      "\tCompute Capability: (7, 5)\n",
      "\tTotal Memory: 25.381175296 GB\n",
      "_CudaDeviceProperties(name='Quadro RTX 6000', major=7, minor=5, total_memory=24205MB, multi_processor_count=72)\n"
     ]
    }
   ],
   "source": [
    "import torch\n",
    "\n",
    "# Check if CUDA is available\n",
    "if torch.cuda.is_available():\n",
    "    # Print number of GPUs available\n",
    "    print(\"Number of GPUs available:\", torch.cuda.device_count())\n",
    "\n",
    "    for i in range(torch.cuda.device_count()):\n",
    "        print(f\"GPU {i}:\")\n",
    "        print(f\"\\tName: {torch.cuda.get_device_name(i)}\")\n",
    "        print(f\"\\tCompute Capability: {torch.cuda.get_device_capability(i)}\")\n",
    "        print(f\"\\tTotal Memory: {torch.cuda.get_device_properties(i).total_memory / 1e9} GB\")\n",
    "        print(torch.cuda.get_device_properties(i))\n",
    "        # Additional details can be accessed via `torch.cuda.get_device_properties(i)`\n",
    "else:\n",
    "    print(\"CUDA is not available. Please check your installation and if your hardware supports CUDA.\")\n"
   ]
  },
  {
   "cell_type": "code",
   "execution_count": 6,
   "metadata": {
    "colab": {
     "base_uri": "https://localhost:8080/"
    },
    "id": "_08Q5Rf1Wcqt",
    "outputId": "0ee46b00-a90e-4b6b-f982-28c98aaa9304"
   },
   "outputs": [],
   "source": [
    "'''\n",
    "Authors: Daniel M. Low\n",
    "License: See license in github repository\n",
    "'''\n",
    "\n",
    "import os\n",
    "import pandas as pd\n",
    "import numpy as np\n",
    "import seaborn as sns\n",
    "import matplotlib.pyplot as plt\n",
    "import datetime\n",
    "\n",
    "pd.set_option(\"display.max_columns\", None)\n",
    "# pd.options.display.width = 0\n",
    "\n",
    "\n",
    "location = 'openmind' \n",
    "\n",
    "\n",
    "\n",
    "if location == 'colab':\n",
    "  from google.colab import drive\n",
    "  project_name = 'concept_tracker'\n",
    "  drive.mount('/content/drive')\n",
    "  input_dir = f'/content/drive/MyDrive/datum/{project_name}/data/ctl/'\n",
    "  output_dir = f'/content/drive/MyDrive/datum/{project_name}/data/output/lexicon_paper/'\n",
    "elif location == 'openmind':\n",
    "  input_dir = '/nese/mit/group/sig/projects/dlow/ctl/'\n",
    "  output_dir = '/home/dlow/datum/lexicon/data/output/mpnet/'\n",
    "elif location =='local':\n",
    "  input_dir = './data/ctl/'\n",
    "  output_dir = '/home/dlow/datum/lexicon/data/output/mpnet/'\n",
    "\n",
    "os.makedirs(output_dir, exist_ok=True)\n"
   ]
  },
  {
   "cell_type": "code",
   "execution_count": 7,
   "metadata": {
    "id": "wOxL5QWm0d7u"
   },
   "outputs": [
    {
     "name": "stderr",
     "output_type": "stream",
     "text": [
      "/om2/user/dlow/anaconda/envs/rallypoint_stb_detector/lib/python3.10/site-packages/tqdm/auto.py:21: TqdmWarning: IProgress not found. Please update jupyter and ipywidgets. See https://ipywidgets.readthedocs.io/en/stable/user_install.html\n",
      "  from .autonotebook import tqdm as notebook_tqdm\n"
     ]
    }
   ],
   "source": [
    "import datasets\n",
    "import random\n",
    "import pandas as pd\n",
    "from IPython.display import display, HTML\n",
    "from datasets.dataset_dict import DatasetDict\n",
    "from datasets import Dataset\n",
    "from datasets import load_dataset, load_metric\n",
    "from datasets import list_metrics\n",
    "# from imblearn.over_sampling import RandomOverSampler\n"
   ]
  },
  {
   "cell_type": "markdown",
   "metadata": {
    "id": "rEJBSTyZIrIb"
   },
   "source": [
    "# Fine-tuning a model on a text classification task"
   ]
  },
  {
   "cell_type": "code",
   "execution_count": 8,
   "metadata": {
    "id": "zVvslsfMIrIh"
   },
   "outputs": [],
   "source": [
    "toy = False\n",
    "regression = True # False for classification\n",
    "task = \"suicide_risk\"\n",
    "text_col = 'text'\n",
    "y_col = 'y'\n",
    "model_checkpoint = \"microsoft/mpnet-base\" #\"distilbert-base-uncased\" # \"microsoft/mpnet-base\" # \"distilbert-base-uncased\"\n",
    "num_labels = 1 # Use 1 for regression\n",
    "metrics_to_report = 'all'\n",
    "metric_name = \"rmse\"\n",
    "training_set_n = 'all' #{'all', 150, 300}\n",
    "n = training_set_n\n",
    "validation_key = 'validation'\n",
    "imbalanced = False # if True, will use custom function. False = leave imabalance or balance through oversampling/undersampling/etc"
   ]
  },
  {
   "cell_type": "markdown",
   "metadata": {
    "id": "VlcYdA8-0d7v"
   },
   "source": [
    "### training or hyperparameter search arguments"
   ]
  },
  {
   "cell_type": "code",
   "execution_count": 9,
   "metadata": {
    "id": "NTiDFLpB0d7v"
   },
   "outputs": [],
   "source": [
    "\n",
    "# if finetuning without hypeparameter search\n",
    "batch_size = 16 #not higher due to GPU memory usage limit issues\n",
    "if toy:\n",
    "    epochs = 1\n",
    "else:\n",
    "    epochs = 3 #  used only if not hyperparameter search\n",
    "\n",
    "\n",
    "# hyperparameter search args\n",
    "do_hyperparameter_search = True\n",
    "hyperparameter_shards = False #False or int # 10 means you use 10th of the data from hyperparameter search\n",
    "hyperparameter_search_n_trials = 10\n",
    "hyperparameter_search_direction = 'minimize' # maximize for classification metric, minimize for loss"
   ]
  },
  {
   "cell_type": "code",
   "execution_count": 10,
   "metadata": {},
   "outputs": [],
   "source": [
    "# Warning: change epochs back to 5"
   ]
  },
  {
   "cell_type": "code",
   "execution_count": 11,
   "metadata": {
    "id": "7SufSyMT0xvF"
   },
   "outputs": [],
   "source": [
    "# if searching with hyperparameter search, options are default of optuna or specified here:\n",
    "\n",
    "\n",
    "# default optuna decided by transformers: https://github.com/huggingface/transformers/blob/dcbfd93d7aeb14f8ff08a48866d2a68950d4c69a/src/transformers/trainer_utils.py#L248\n",
    "\n",
    "# https://optuna.readthedocs.io/en/stable/tutorial/10_key_features/002_configurations.html#sphx-glr-tutorial-10-key-features-002-configurations-py\n",
    "\n",
    "def optuna_hp_space(trial):\n",
    "    return {\n",
    "        \"learning_rate\": trial.suggest_float(\"learning_rate\", 1e-6, 1e-4, log=True),\n",
    "        \"num_train_epochs\": trial.suggest_int(\"num_train_epochs\", 1,5, step=1),\n",
    "        \"weight_decay\": trial.suggest_float(\"weight_decay\", 1e-10, 1e-3, log=True)\n",
    "    }\n"
   ]
  },
  {
   "cell_type": "markdown",
   "metadata": {
    "id": "whPRbBNbIrIl"
   },
   "source": [
    "## Loading the dataset"
   ]
  },
  {
   "cell_type": "code",
   "execution_count": 12,
   "metadata": {
    "colab": {
     "base_uri": "https://localhost:8080/"
    },
    "id": "wuRSvvu0Ags-",
    "outputId": "81bfc512-c52a-4198-f776-778b1f8c65b9"
   },
   "outputs": [
    {
     "name": "stdout",
     "output_type": "stream",
     "text": [
      "(5654, 3) (5353, 3) (5353, 3)\n"
     ]
    }
   ],
   "source": [
    "balanced_validation_set = False #False: setting it to True had very bad performance). It uses 20% the training set as balanced validation, similar to other models that do 5-fold CV\n",
    "\n",
    "\n",
    "train = pd.read_csv(input_dir+'train10_train_30perc_text_y_balanced_regression.csv', index_col=0)\n",
    "val = pd.read_csv(input_dir+'train10_val_15perc_text_y_regression.csv', index_col=0)\n",
    "test = pd.read_csv(input_dir+'train10_test_15perc_text_y_regression.csv', index_col=0)\n",
    "\n",
    "\n",
    "train = train.dropna()\n",
    "val = val.dropna()\n",
    "test = test.dropna()\n",
    "\n",
    "\n",
    "print(train.shape, val.shape, test.shape)\n",
    "\n",
    "if balanced_validation_set:\n",
    "  from sklearn.model_selection import train_test_split\n",
    "  train, val = train_test_split(train, test_size=0.2, random_state=42)\n",
    "  print(train.shape, val.shape, test.shape)"
   ]
  },
  {
   "cell_type": "code",
   "execution_count": 13,
   "metadata": {},
   "outputs": [
    {
     "data": {
      "text/plain": [
       "1.0    1887\n",
       "2.0    1884\n",
       "3.0    1883\n",
       "Name: y, dtype: int64"
      ]
     },
     "execution_count": 13,
     "metadata": {},
     "output_type": "execute_result"
    }
   ],
   "source": [
    "train['y'].value_counts()"
   ]
  },
  {
   "cell_type": "code",
   "execution_count": 14,
   "metadata": {},
   "outputs": [
    {
     "data": {
      "text/plain": [
       "1.0    4271\n",
       "2.0     955\n",
       "3.0     127\n",
       "Name: y, dtype: int64"
      ]
     },
     "execution_count": 14,
     "metadata": {},
     "output_type": "execute_result"
    }
   ],
   "source": [
    "test['y'].value_counts()"
   ]
  },
  {
   "cell_type": "code",
   "execution_count": null,
   "metadata": {},
   "outputs": [],
   "source": []
  },
  {
   "cell_type": "code",
   "execution_count": 15,
   "metadata": {},
   "outputs": [
    {
     "data": {
      "text/plain": [
       "1.0    4252\n",
       "2.0     994\n",
       "3.0     107\n",
       "Name: y, dtype: int64"
      ]
     },
     "execution_count": 15,
     "metadata": {},
     "output_type": "execute_result"
    }
   ],
   "source": [
    "val['y'].value_counts()"
   ]
  },
  {
   "cell_type": "code",
   "execution_count": 16,
   "metadata": {
    "scrolled": true
   },
   "outputs": [
    {
     "name": "stdout",
     "output_type": "stream",
     "text": [
      "1.0    107\n",
      "3.0    107\n",
      "2.0    107\n",
      "Name: y, dtype: int64\n"
     ]
    }
   ],
   "source": [
    "class_counts = val['y'].value_counts()\n",
    "\n",
    "# Find the minority class and its count\n",
    "minority_class = class_counts.idxmin()\n",
    "minority_count = class_counts.min()\n",
    "\n",
    "# Reduce majority classes to the minority amount\n",
    "balanced_data = pd.concat([\n",
    "    val[val['y'] == minority_class],\n",
    "    val[val['y'] == 1.0].sample(n=minority_count, random_state=42),\n",
    "    val[val['y'] == 2.0].sample(n=minority_count, random_state=42)  # Include missing value 2\n",
    "])\n",
    "\n",
    "# Shuffle the balanced data to mix minority and majority class samples\n",
    "val = balanced_data.sample(frac=1, random_state=42).reset_index(drop=True)\n",
    "\n",
    "# Check the new class distribution\n",
    "print(val['y'].value_counts())\n"
   ]
  },
  {
   "cell_type": "code",
   "execution_count": 17,
   "metadata": {
    "colab": {
     "base_uri": "https://localhost:8080/"
    },
    "id": "NWEsMYA2a3Cz",
    "outputId": "f62ca6a1-24e4-4b67-be6a-9e5c43e89aaa"
   },
   "outputs": [
    {
     "name": "stdout",
     "output_type": "stream",
     "text": [
      "(5654, 3) (5353, 3)\n",
      "train labels: Counter({1.0: 1887, 2.0: 1884, 3.0: 1883})\n",
      "(5654,) (5654,)\n"
     ]
    }
   ],
   "source": [
    "\n",
    "\n",
    "\n",
    "if training_set_n != 'all':\n",
    "  train = train.sample(training_set_n, random_state = 42)\n",
    "\n",
    "\n",
    "\n",
    "\n",
    "from collections import Counter\n",
    "\n",
    "print(train.shape, test.shape)\n",
    "\n",
    "if toy:\n",
    "  train = train.sample(frac = 0.1)\n",
    "  val = val.sample(frac = 0.1)\n",
    "  test = test.sample(frac = 0.1)\n",
    "\n",
    "\n",
    "X_train = train[text_col].values\n",
    "y_train = train[y_col].values\n",
    "\n",
    "print('train labels:', Counter(y_train))\n",
    "\n",
    "X_val = val[text_col].values\n",
    "y_val = val[y_col].values\n",
    "\n",
    "X_test = test[text_col].values\n",
    "y_test = test[y_col].values\n",
    "\n",
    "# Oversample to match method of model with metadata approach\n",
    "# ros = RandomOverSampler(random_state=0)\n",
    "# X_train, y_train = ros.fit_resample(X_train.reshape(-1, 1), y_train)\n",
    "# X_train = X_train.flatten()\n",
    "\n",
    "print(X_train.shape, y_train.shape)\n",
    "\n",
    "d = {'train':Dataset.from_dict({'label':y_train,'text':X_train}),\n",
    "     'validation':Dataset.from_dict({'label':y_val,'text':X_val}),\n",
    "     'test':Dataset.from_dict({'label':y_test,'text':X_test})\n",
    "     }\n",
    "\n",
    "\n",
    "\n",
    "\n",
    "dataset = DatasetDict(d)\n"
   ]
  },
  {
   "cell_type": "code",
   "execution_count": 18,
   "metadata": {
    "colab": {
     "base_uri": "https://localhost:8080/"
    },
    "id": "EdJjoNGk10C_",
    "outputId": "8b44cd29-c853-4c81-911a-d372b7069379"
   },
   "outputs": [
    {
     "data": {
      "text/plain": [
       "[2.0, 2.0, 2.0, 1.0, 3.0, 3.0, 1.0, 1.0, 1.0, 1.0]"
      ]
     },
     "execution_count": 18,
     "metadata": {},
     "output_type": "execute_result"
    }
   ],
   "source": [
    "dataset['train']['label'][:10]"
   ]
  },
  {
   "cell_type": "code",
   "execution_count": 19,
   "metadata": {},
   "outputs": [],
   "source": [
    "# !pip install evaluate"
   ]
  },
  {
   "cell_type": "code",
   "execution_count": 20,
   "metadata": {
    "colab": {
     "base_uri": "https://localhost:8080/",
     "height": 138,
     "referenced_widgets": [
      "673b18442a334a0c9b82caa05592838f",
      "9a8f178e44d541cfba0678e0b7554020",
      "f4408edbff1e4435808e0ac0f331990b",
      "8de1a27343cc40bc91d332325155ad84",
      "c88959dfaaac459d8ce9bbef6b756943",
      "47bc4cef398d47119be3ee5b973f24ae",
      "cece95f0bb134c3ab60758b5ca42fe2c",
      "89dc733ddfcc4d77b35c4d9c7d2c0b9e",
      "f02419ba317a4e8f8af8eb347274f710",
      "7d2a4322115840e1af2c96b81c13e744",
      "a47c6bd118f54b84b9681575759c0452"
     ]
    },
    "id": "vt07O_LYlCJC",
    "outputId": "e2f59b3a-d914-4553-8a26-4b0c605204ee"
   },
   "outputs": [
    {
     "name": "stderr",
     "output_type": "stream",
     "text": [
      "/tmp/ipykernel_3484333/4073946541.py:4: FutureWarning: list_metrics is deprecated and will be removed in the next major version of datasets. Use 'evaluate.list_evaluation_modules' instead, from the new library 🤗 Evaluate: https://huggingface.co/docs/evaluate\n",
      "  metrics_list = list_metrics()\n"
     ]
    },
    {
     "name": "stdout",
     "output_type": "stream",
     "text": [
      "233\n",
      "['accuracy', 'bertscore', 'bleu', 'bleurt', 'brier_score', 'cer', 'character', 'charcut_mt', 'chrf', 'code_eval', 'comet', 'competition_math', 'confusion_matrix', 'coval', 'cuad', 'exact_match', 'f1', 'frugalscore', 'glue', 'google_bleu', 'indic_glue', 'mae', 'mahalanobis', 'mape', 'mase', 'matthews_correlation', 'mauve', 'mean_iou', 'meteor', 'mse', 'nist_mt', 'pearsonr', 'perplexity', 'poseval', 'precision', 'r_squared', 'recall', 'rl_reliability', 'roc_auc', 'rouge', 'sacrebleu', 'sari', 'seqeval', 'smape', 'spearmanr', 'squad', 'squad_v2', 'super_glue', 'ter', 'trec_eval', 'wer', 'wiki_split', 'xnli', 'xtreme_s', 'Aledade/extraction_evaluation', 'AlhitawiMohammed22/CER_Hu-Evaluation-Metrics', 'Bekhouche/NED', 'BucketHeadP65/confusion_matrix', 'BucketHeadP65/roc_curve', 'CZLC/rouge_raw', 'DaliaCaRo/accents_unplugged_eval', 'DarrenChensformer/action_generation', 'DarrenChensformer/eval_keyphrase', 'DarrenChensformer/relation_extraction', 'DoctorSlimm/bangalore_score', 'DoctorSlimm/kaushiks_criteria', 'Drunper/metrica_tesi', 'Felipehonorato/eer', 'Fritz02/execution_accuracy', 'GMFTBY/dailydialog_evaluate', 'GMFTBY/dailydialogevaluate', 'He-Xingwei/sari_metric', 'Ikala-allen/relation_extraction', 'JP-SystemsX/nDCG', 'Josh98/nl2bash_m', 'KevinSpaghetti/accuracyk', 'LottieW/accents_unplugged_eval', 'LuckiestOne/valid_efficiency_score', 'Merle456/accents_unplugged_eval', 'Muennighoff/code_eval_octopack', 'NCSOFT/harim_plus', 'Natooz/ece', 'Ndyyyy/bertscore', 'NikitaMartynov/spell-check-metric', 'NimaBoscarino/weat', 'Ochiroo/rouge_mn', 'Pipatpong/perplexity', 'Qui-nn/accents_unplugged_eval', 'RiciHuggingFace/accents_unplugged_eval', 'SEA-AI/det-metrics', 'SEA-AI/mot-metrics', 'Soroor/cer', 'SpfIo/wer_checker', 'Splend1dchan/cosine_similarity', 'TelEl/accents_unplugged_eval', 'Vallp/ter', 'Vertaix/vendiscore', 'Vickyage/accents_unplugged_eval', 'Viona/fuzzy_reordering', 'Viona/infolm', 'Viona/kendall_tau', 'Vipitis/shadermatch', 'Vlasta/pr_auc', 'Yeshwant123/mcc', 'abdusah/aradiawer', 'abidlabs/mean_iou', 'abidlabs/mean_iou2', 'agkphysics/ccc', 'akki2825/accents_unplugged_eval', 'alvinasvk/accents_unplugged_eval', 'amitness/perplexity', 'andstor/code_perplexity', 'angelasophie/accents_unplugged_eval', 'angelina-wang/directional_bias_amplification', 'anz2/iliauniiccocrevaluation', 'arthurvqin/pr_auc', 'aryopg/roc_auc_skip_uniform_labels', 'bascobasculino/mot-metrics', 'bdsaglam/jer', 'berkatil/map', 'boschar/accents_unplugged_eval', 'brian920128/doc_retrieve_metrics', 'bstrai/classification_report', 'buelfhood/fbeta_score', 'bugbounty1806/accuracy', 'cakiki/ndcg', 'carletoncognitivescience/peak_signal_to_noise_ratio', 'chanelcolgate/average_precision', 'chimene/accents_unplugged_eval', 'ckb/unigram', 'codeparrot/apps_metric', 'cpllab/syntaxgym', 'd-matrix/dmx_perplexity', 'daiyizheng/valid', 'danieldux/hierarchical_softmax_loss', 'danieldux/isco_hierarchical_accuracy', 'davebulaval/meaningbert', 'dayil100/accents_unplugged_eval', 'dayil100/accents_unplugged_eval_WER', 'dgfh76564/accents_unplugged_eval', 'dvitel/codebleu', 'ecody726/bertscore', 'erntkn/dice_coefficient', 'fnvls/bleu1234', 'fnvls/bleu_1234', 'franzi2505/detection_metric', 'fschlatt/ner_eval', 'gabeorlanski/bc_eval', 'ginic/phone_errors', 'giulio98/code_eval_outputs', 'giulio98/codebleu', 'gjacob/bertimbauscore', 'gjacob/chrf', 'gjacob/google_bleu', 'gjacob/wiki_split', 'gnail/cosine_similarity', 'gorkaartola/metric_for_tp_fp_samples', 'guydav/restrictedpython_code_eval', 'hack/test_metric', 'haotongye-shopee/ppl', 'harshhpareek/bertscore', 'hpi-dhc/FairEval', 'huanghuayu/multiclass_brier_score', 'hynky/sklearn_proxy', 'hyperml/balanced_accuracy', 'iNeil77/code_eval_octopack', 'idsedykh/codebleu', 'idsedykh/codebleu2', 'idsedykh/megaglue', 'idsedykh/metric', 'illorca/FairEval', 'ingyu/klue_mrc', 'jialinsong/apps_metric', 'jjkim0807/code_eval', 'jordyvl/ece', 'jpxkqx/peak_signal_to_noise_ratio', 'jpxkqx/signal_to_reconstruction_error', 'juliakaczor/accents_unplugged_eval', 'jzm-mailchimp/joshs_second_test_metric', 'k4black/codebleu', 'kashif/mape', 'kedudzic/charmatch', 'kyokote/my_metric2', 'langdonholmes/cohen_weighted_kappa', 'leslyarun/fbeta_score', 'lhy/hamming_loss', 'lhy/ranking_loss', 'livvie/accents_unplugged_eval', 'loubnabnl/apps_metric2', 'lvwerra/accuracy_score', 'lvwerra/bary_score', 'lvwerra/test', 'maksymdolgikh/seqeval_with_fbeta', 'manueldeprada/beer', 'mfumanelli/geometric_mean', 'mgfrantz/roc_auc_macro', 'mtc/fragments', 'nevikw39/specificity', 'nlpln/tst', 'ola13/precision_at_k', 'omidf/squad_precision_recall', 'posicube/mean_reciprocal_rank', 'red1bluelost/evaluate_genericify_cpp', 'repllabs/mean_average_precision', 'repllabs/mean_reciprocal_rank', 'ronaldahmed/nwentfaithfulness', 'saicharan2804/my_metric', 'sakusakumura/bertscore', 'shalakasatheesh/squad', 'shalakasatheesh/squad_v2', 'shirayukikun/sescore', 'shunzh/apps_metric', 'sma2023/wil', 'sportlosos/sescore', 'transZ/sbert_cosine', 'transZ/test_parascore', 'transformersegmentation/segmentation_scores', 'unitxt/metric', 'unnati/kendall_tau_distance', 'vichyt/metric-codebleu', 'weiqis/pajm', 'xu1998hz/sescore', 'xu1998hz/sescore_english_coco', 'xu1998hz/sescore_english_mt', 'xu1998hz/sescore_english_webnlg', 'xu1998hz/sescore_german_mt', 'ybelkada/cocoevaluate', 'yonting/average_precision_score', 'yqsong/execution_accuracy', 'yulong-me/yl_metric', 'yuyijiong/quad_match_score', 'yzha/ctc_eval', 'zbeloki/m2']\n"
     ]
    }
   ],
   "source": [
    "from evaluate import load\n",
    "\n",
    "\n",
    "metrics_list = list_metrics()\n",
    "print(len(metrics_list))\n",
    "print(metrics_list)\n",
    "if regression:\n",
    "  metric = load('mse')\n",
    "else:\n",
    "  metric = load_metric(\"f1\")\n",
    "\n"
   ]
  },
  {
   "cell_type": "markdown",
   "metadata": {
    "id": "RzfPtOMoIrIu"
   },
   "source": [
    "The `dataset` object itself is [`DatasetDict`](https://huggingface.co/docs/datasets/package_reference/main_classes.html#datasetdict), which contains one key for the training, validation and test set (with more keys for the mismatched validation and test set in the special case of `mnli`)."
   ]
  },
  {
   "cell_type": "code",
   "execution_count": 21,
   "metadata": {
    "id": "i3j8APAoIrI3"
   },
   "outputs": [],
   "source": [
    "\n",
    "\n",
    "def show_random_elements(dataset, num_examples=10):\n",
    "    assert num_examples <= len(dataset), \"Can't pick more elements than there are in the dataset.\"\n",
    "    picks = []\n",
    "    for _ in range(num_examples):\n",
    "        pick = random.randint(0, len(dataset)-1)\n",
    "        while pick in picks:\n",
    "            pick = random.randint(0, len(dataset)-1)\n",
    "        picks.append(pick)\n",
    "\n",
    "    df = pd.DataFrame(dataset[picks])\n",
    "    for column, typ in dataset.features.items():\n",
    "        if isinstance(typ, datasets.ClassLabel):\n",
    "            df[column] = df[column].transform(lambda i: typ.names[i])\n",
    "    display(HTML(df.to_html()))"
   ]
  },
  {
   "cell_type": "code",
   "execution_count": 22,
   "metadata": {
    "id": "SZy5tRB_IrI7"
   },
   "outputs": [],
   "source": [
    "# show_random_elements(dataset[\"train\"], num_examples=3)"
   ]
  },
  {
   "cell_type": "markdown",
   "metadata": {
    "id": "jAWdqcUBIrJC"
   },
   "source": [
    "You can call its `compute` method with your predictions and labels directly and it will return a dictionary with the metric(s) value:"
   ]
  },
  {
   "cell_type": "code",
   "execution_count": 23,
   "metadata": {
    "colab": {
     "base_uri": "https://localhost:8080/"
    },
    "id": "6XN1Rq0aIrJC",
    "outputId": "5a322976-777e-43c9-90a0-2fc500e0cea6"
   },
   "outputs": [
    {
     "data": {
      "text/plain": [
       "{'mse': 0.53125}"
      ]
     },
     "execution_count": 23,
     "metadata": {},
     "output_type": "execute_result"
    }
   ],
   "source": [
    "import numpy as np\n",
    "\n",
    "fake_preds = np.random.randint(0, 2, size=(64,))\n",
    "fake_labels = np.random.randint(0, 2, size=(64,))\n",
    "metric.compute(predictions=fake_preds, references=fake_labels)"
   ]
  },
  {
   "cell_type": "markdown",
   "metadata": {
    "id": "n9qywopnIrJH"
   },
   "source": [
    "## Preprocessing the data"
   ]
  },
  {
   "cell_type": "markdown",
   "metadata": {
    "id": "YVx71GdAIrJH"
   },
   "source": [
    "Before we can feed those texts to our model, we need to preprocess them. This is done by a 🤗 Transformers `Tokenizer` which will (as the name indicates) tokenize the inputs (including converting the tokens to their corresponding IDs in the pretrained vocabulary) and put it in a format the model expects, as well as generate the other inputs that model requires.\n",
    "\n",
    "To do all of this, we instantiate our tokenizer with the `AutoTokenizer.from_pretrained` method, which will ensure:\n",
    "\n",
    "- we get a tokenizer that corresponds to the model architecture we want to use,\n",
    "- we download the vocabulary used when pretraining this specific checkpoint.\n",
    "\n",
    "That vocabulary will be cached, so it's not downloaded again the next time we run the cell."
   ]
  },
  {
   "cell_type": "code",
   "execution_count": 24,
   "metadata": {
    "colab": {
     "base_uri": "https://localhost:8080/",
     "height": 269,
     "referenced_widgets": [
      "babfe22387d24874a455402662e5ba6d",
      "bd20aff07a744d1787590d6088a4fafa",
      "4cdd5620181a4475baed987ffa3aba0d",
      "6fbee1fd037f4767b57ae0033144bad4",
      "0b9e8523a4dd4563933913e64672fb0c",
      "6e2cce7d913a43b6997f365971cfd9ec",
      "65629f70cb0d47dbb49ee2cc1eeef9a5",
      "126d38f77f7d421ca9b4e720cab76fef",
      "6828ac88a2b54a1dbe96b3b2a6b0da5b",
      "816258ace26b4f219640c1a010fbaf18",
      "84af485e67d14294a79d59b32c7ce610",
      "752472f007894371997f6498776d4e19",
      "e8ec57893e3646cab01bdc6a89183268",
      "49ff7090d4134f94819619d48ef69f72",
      "4ff105f2848e48f4a6c992448ceb0dc5",
      "b4d802b70d454afeb9b068f7d13c4d08",
      "5b3d813f029c43ca84e71e32004af539",
      "2d03412a552b4726a7aaba7781c3245d",
      "8a83b6e282c2493f92b48d37a660254e",
      "e0c9b3e78f8f4be7adea14ee3c67228d",
      "e68cc1b1bb434bc4ae18171d8cacedac",
      "d2a86f063a0c431981230192de901f65",
      "6c40b2a4562541feb56a330894936d54",
      "6e29b06b65d0410182b20a6fc0447179",
      "954e5aecb42f42f6a660523aed7151c6",
      "a096bc06c9664a8db17a611746c5c1ff",
      "a250af98945c4793b5de4b2659fe5116",
      "820671d161374250ac943393b9824c15",
      "ef54818c883f4324a68a7cbcf72f61f7",
      "3d3edc4164394d8cae4f585ff1a90023",
      "ca139a49b31a4bc9a36de7ff52fa4b69",
      "0765ece58edd46d0926273a2d0d6de2e",
      "95c386ba5c064567a6e33a847caca751",
      "30cadd7a903c47f9888afd3e2cd18a99",
      "ff196cc6b6c942eaa7500693f76896b8",
      "70eaaf65de72421e8702ff49244a9850",
      "9e9fcf8256c944a18767b7b08735e839",
      "152e390d5c6c47fc94900e92068b263b",
      "fb7502847dc8427f9aa3b572beec533e",
      "5a6eb86157d94d6bbbab2ff845421b43",
      "c624aa25ad62468fb1a844664a700502",
      "a56b93011d3448b2a10eba8fd685f2d4",
      "e787149cd6214f29977b690f0f161770",
      "3bc1c71238dc44a385fbfc31fce7f285"
     ]
    },
    "id": "eXNLu_-nIrJI",
    "outputId": "f39b0830-0228-488c-f349-1b71aa1135f3"
   },
   "outputs": [],
   "source": [
    "from transformers import AutoTokenizer\n",
    "\n",
    "tokenizer = AutoTokenizer.from_pretrained(model_checkpoint, use_fast=True)"
   ]
  },
  {
   "cell_type": "markdown",
   "metadata": {
    "id": "Vl6IidfdIrJK"
   },
   "source": [
    "We pass along `use_fast=True` to the call above to use one of the fast tokenizers (backed by Rust) from the 🤗 Tokenizers library. Those fast tokenizers are available for almost all models, but if you got an error with the previous call, remove that argument."
   ]
  },
  {
   "cell_type": "markdown",
   "metadata": {
    "id": "rowT4iCLIrJK"
   },
   "source": [
    "You can directly call this tokenizer on one sentence or a pair of sentences:"
   ]
  },
  {
   "cell_type": "code",
   "execution_count": 25,
   "metadata": {
    "colab": {
     "base_uri": "https://localhost:8080/"
    },
    "id": "a5hBlsrHIrJL",
    "outputId": "4138da23-816e-45bb-ad9d-3c157d3842f1"
   },
   "outputs": [
    {
     "data": {
      "text/plain": [
       "{'input_ids': [0, 7596, 1014, 2027, 2032, 6255, 1003, 2, 2, 2002, 2027, 6255, 3636, 2011, 2013, 1016, 2], 'attention_mask': [1, 1, 1, 1, 1, 1, 1, 1, 1, 1, 1, 1, 1, 1, 1, 1, 1]}"
      ]
     },
     "execution_count": 25,
     "metadata": {},
     "output_type": "execute_result"
    }
   ],
   "source": [
    "tokenizer(\"Hello, this one sentence!\", \"And this sentence goes with it.\")"
   ]
  },
  {
   "cell_type": "markdown",
   "metadata": {
    "id": "qo_0B1M2IrJM"
   },
   "source": [
    "Depending on the model you selected, you will see different keys in the dictionary returned by the cell above. They don't matter much for what we're doing here (just know they are required by the model we will instantiate later), you can learn more about them in [this tutorial](https://huggingface.co/transformers/preprocessing.html) if you're interested.\n",
    "\n",
    "To preprocess our dataset, we will thus need the names of the columns containing the sentence(s). The following dictionary keeps track of the correspondence task to column names:"
   ]
  },
  {
   "cell_type": "code",
   "execution_count": 26,
   "metadata": {
    "id": "fyGdtK9oIrJM"
   },
   "outputs": [],
   "source": [
    "\n",
    "task_to_keys = {\n",
    "    'stb': (\"text\", None),\n",
    "    'suicide_risk': (\"text\", None),\n",
    "}"
   ]
  },
  {
   "cell_type": "markdown",
   "metadata": {
    "id": "xbqtC4MrIrJO"
   },
   "source": [
    "We can double check it does work on our current dataset:"
   ]
  },
  {
   "cell_type": "code",
   "execution_count": 27,
   "metadata": {
    "colab": {
     "base_uri": "https://localhost:8080/"
    },
    "id": "19GG646uIrJO",
    "outputId": "3a28730a-28fa-408f-f836-7a6febdf912c"
   },
   "outputs": [
    {
     "name": "stdout",
     "output_type": "stream",
     "text": [
      "Sentence: Hello. I feel so worthless. I want all this pain to be over. I'm so tired of trying. I don't see a reason to keep going. Kinda. I want to die, I really see no reason to keep going. I know people would be sad if I died though. I don't know why they would be sad. Yeah. I want to take pills but my mom hid all of them. I've been hospitalized 2 times for suicide attempts already. Thank you. I feel so depressed. I don't think anything will get better anymore. I don't feel brave. Thank you very much. I don't really know :/. Hopelessness. I just feel like there's no reason to be happy anymore and I should just let myself fall. Also I have plans for 2017 and my mom always says I don't deserve any of it. She always says I'm faking my depression too. She tries but no a lot and thank you. No one anymore really. Thank you so so much. I'm feeling better, thank you so much. Remember that you are also loved and people care. Have an amazing night! Y.\n"
     ]
    }
   ],
   "source": [
    "sentence1_key, sentence2_key = task_to_keys[task]\n",
    "\n",
    "\n",
    "\n",
    "if sentence2_key is None:\n",
    "    print(f\"Sentence: {dataset['train'][0][sentence1_key]}\")\n",
    "else:\n",
    "    print(f\"Sentence 1: {dataset['train'][0][sentence1_key]}\")\n",
    "    print(f\"Sentence 2: {dataset['train'][0][sentence2_key]}\")"
   ]
  },
  {
   "cell_type": "code",
   "execution_count": 28,
   "metadata": {
    "id": "vc0BSBLIIrJQ"
   },
   "outputs": [],
   "source": [
    "def preprocess_function(examples):\n",
    "    if sentence2_key is None:\n",
    "        return tokenizer(examples[sentence1_key], truncation=True)\n",
    "    return tokenizer(examples[sentence1_key], examples[sentence2_key], truncation=True)"
   ]
  },
  {
   "cell_type": "markdown",
   "metadata": {
    "id": "0lm8ozrJIrJR"
   },
   "source": [
    "This function works with one or several examples. In the case of several examples, the tokenizer will return a list of lists for each key:"
   ]
  },
  {
   "cell_type": "code",
   "execution_count": 29,
   "metadata": {
    "colab": {
     "base_uri": "https://localhost:8080/"
    },
    "id": "-b70jh26IrJS",
    "outputId": "10fab4ca-74c2-424c-bdc4-689d29cb8ec8"
   },
   "outputs": [
    {
     "data": {
      "text/plain": [
       "{'input_ids': [[0, 7596, 1016, 1049, 2518, 2065, 22696, 1016, 1049, 2219, 2039, 2027, 3259, 2004, 2026, 2062, 1016, 1049, 1009, 1053, 2065, 5462, 2001, 2671, 1016, 1049, 2127, 1009, 1060, 2160, 1041, 3118, 2004, 2566, 2187, 1016, 17708, 1016, 1049, 2219, 2004, 3284, 1014, 1049, 2432, 2160, 2057, 3118, 2004, 2566, 2187, 1016, 1049, 2117, 2115, 2056, 2026, 6521, 2069, 1049, 2355, 2299, 1016, 1049, 2127, 1009, 1060, 2117, 2343, 2031, 2056, 2026, 6521, 1016, 3402, 1016, 1049, 2219, 2004, 2206, 15349, 2025, 2030, 3570, 11045, 2039, 2001, 2072, 1016, 1049, 1009, 2314, 2046, 24739, 1020, 2339, 2009, 5924, 4744, 2529, 1016, 4071, 2021, 1016, 1049, 2518, 2065, 14781, 1016, 1049, 2127, 1009, 1060, 2232, 2509, 2101, 2135, 2492, 4906, 1016, 1049, 2127, 1009, 1060, 2518, 9195, 1016, 4071, 2021, 2204, 2176, 1016, 1049, 2127, 1009, 1060, 2432, 2117, 1028, 1017, 1016, 20629, 2795, 1016, 1049, 2078, 2518, 2070, 2049, 1009, 1059, 2057, 3118, 2004, 2026, 3411, 4906, 2002, 1049, 2327, 2078, 2296, 2874, 2995, 1016, 2040, 1049, 2035, 3492, 2009, 2422, 2002, 2030, 3570, 2471, 2762, 1049, 2127, 1009, 1060, 10111, 2155, 2001, 2013, 1016, 2020, 2471, 2762, 1049, 1009, 1053, 6908, 6838, 2030, 6249, 2209, 1016, 2020, 5367, 2025, 2057, 1041, 2847, 2002, 4071, 2021, 1016, 2057, 2032, 4906, 2432, 1016, 4071, 2021, 2065, 2065, 2176, 1016, 1049, 1009, 1053, 3114, 2492, 1014, 4071, 2021, 2065, 2176, 1016, 3346, 2012, 2021, 2028, 2040, 3870, 2002, 2115, 2733, 1016, 2035, 2023, 6433, 2309, 1003, 1065, 1016, 2], [0, 7596, 1016, 4935, 1049, 1009, 1053, 2387, 26098, 4305, 2010, 1041, 3184, 3982, 2002, 1049, 2346, 2397, 3558, 2072, 1016, 1049, 2127, 1009, 1060, 2219, 2004, 2026, 2000, 2715, 1049, 2576, 1016, 2473, 2065, 1049, 2160, 2039, 2001, 2030, 12750, 2044, 2448, 1041, 3823, 2170, 2002, 2044, 2302, 3823, 2471, 2002, 1049, 1009, 1053, 2471, 2000, 2032, 2191, 2045, 3114, 4899, 13970, 2001, 2170, 2003, 2240, 1016, 1065, 1016, 2], [0, 1022, 26445, 1016, 7636, 1049, 1009, 1053, 1035, 27824, 1037, 1014, 2387, 1041, 2432, 2432, 2923, 2309, 2078, 2219, 2004, 10440, 1016, 1016, 1016, 2065, 14781, 2002, 2030, 10093, 2007, 2923, 2002, 2078, 2219, 2004, 2973, 7390, 1016, 2013, 1009, 1059, 2046, 2187, 2010, 2009, 1041, 2100, 2078, 3896, 2035, 2022, 2013, 1016, 3402, 1016, 2788, 3056, 2193, 14929, 2106, 1016, 2078, 2068, 1009, 1060, 3070, 2011, 2027, 4906, 1016, 2057, 1016, 1049, 2127, 1009, 1060, 2117, 1014, 9830, 2127, 1009, 1060, 2219, 2004, 2448, 4906, 1016, 1016, 1049, 1009, 1053, 2010, 1041, 3812, 2937, 2065, 2068, 1009, 1060, 2083, 2509, 2025, 2069, 1049, 2703, 2432, 2528, 2767, 1016, 1049, 2127, 1009, 1060, 2117, 1016, 7933, 1016, 2058, 2083, 1061, 2816, 1033, 2013, 1009, 1059, 7933, 1016, 2127, 1009, 1060, 6530, 4906, 1016, 1016, 1016, 2502, 1016, 2473, 1016, 7933, 1016, 2990, 1016, 3104, 4287, 1028, 1010, 1016, 2473, 1016, 5613, 1016, 1022, 26445, 1016, 1049, 2068, 1009, 1060, 2206, 2027, 1049, 9830, 2068, 1009, 1060, 1049, 1009, 1053, 2065, 2593, 2011, 3896, 1049, 2078, 2219, 2004, 3106, 2874, 1049, 1009, 1053, 2065, 14781, 2078, 2005, 2010, 2186, 1041, 2214, 2982, 3287, 1016, 1049, 2068, 1009, 1060, 2206, 2027, 3896, 4906, 2069, 1049, 2351, 1009, 1060, 2010, 1041, 3812, 2937, 1049, 2056, 2207, 2013, 2161, 2089, 2002, 2127, 1009, 1060, 2219, 2004, 2179, 2071, 2004, 2000, 2906, 2157, 1028, 1010, 1016, 2], [0, 2179, 1016, 2030, 6902, 2002, 1049, 2257, 2004, 2160, 2014, 2159, 4282, 1035, 27824, 1037, 2189, 2009, 2000, 11942, 1016, 2006, 3635, 2043, 2011, 2037, 1014, 3635, 2030, 2486, 1014, 2002, 2089, 1049, 1009, 1053, 5885, 6599, 2011, 2036, 2009, 2000, 2309, 2034, 2671, 2004, 2195, 2013, 2192, 2011, 2629, 2088, 2535, 1006, 1016, 2030, 3570, 2991, 1009, 1060, 2219, 2037, 2004, 2685, 2131, 2000, 2855, 2055, 2065, 1049, 2068, 2160, 2096, 2442, 2004, 3302, 2025, 1049, 2127, 1009, 1060, 2219, 2004, 2026, 2109, 2036, 2155, 2940, 1016, 2030, 2175, 2007, 1035, 27824, 1037, 1016, 2648, 1016, 2], [0, 5006, 1016, 5006, 1016, 1049, 2937, 4292, 2874, 1049, 2068, 1009, 1060, 3237, 2013, 4906, 1016, 1049, 2937, 4292, 2874, 1049, 2068, 1009, 1060, 3237, 2013, 4906, 1016, 7933, 1016, 7933, 1016, 2030, 2159, 2991, 1009, 1060, 2297, 2037, 4906, 1049, 1009, 1053, 2127, 1009, 1060, 2518, 3870, 1049, 2457, 2008, 2096, 3284, 1016, 2030, 2159, 2991, 1009, 1060, 2297, 2037, 4906, 1049, 1009, 1053, 2127, 1009, 1060, 2518, 3870, 1049, 2457, 2008, 2096, 3284, 1016, 1049, 2035, 1041, 2055, 1016, 1049, 2035, 1041, 2055, 1016, 2752, 21694, 2874, 2011, 1041, 5446, 3896, 1016, 2752, 21694, 2874, 2011, 1041, 5446, 3896, 1016, 2752, 1016, 2752, 1016, 3535, 2127, 1009, 1060, 2429, 2030, 3012, 1016, 3535, 2127, 1009, 1060, 2429, 2030, 3012, 1016, 3402, 2078, 1041, 3375, 1016, 3402, 2078, 1041, 3375, 1016, 3104, 1049, 2408, 2013, 2412, 2000, 2286, 1016, 3104, 1049, 2408, 2013, 2412, 2000, 2286, 1016, 2089, 2058, 1033, 2089, 2058, 1033, 1049, 1009, 1053, 2897, 17003, 2015, 2030, 2273, 2002, 2030, 3570, 2529, 2355, 1016, 1049, 1009, 1053, 2897, 17003, 2015, 2030, 2273, 2002, 2030, 3570, 2529, 2355, 1016, 2002, 2061, 2085, 1041, 1035, 27824, 1037, 2002, 2061, 2085, 1041, 1035, 27824, 1037, 2020, 2060, 1004, 2069, 2021, 2416, 2207, 2043, 2000, 2130, 1049, 2083, 2127, 1009, 1060, 3017, 2002, 9019, 2070, 1049, 1009, 1044, 2110, 1004, 1016, 2020, 2060, 1004, 2069, 2021, 2416, 2207, 2043, 2000, 2130, 1049, 2083, 2127, 1009, 1060, 3017, 2002, 9019, 2070, 1049, 1009, 1044, 2110, 1004, 1016, 2020, 2355, 2017, 2672, 3283, 2017, 1041, 3017, 1016, 2020, 2355, 2017, 2672, 3283, 2017, 1041, 3017, 1016, 1049, 1009, 1053, 2000, 2073, 2779, 1016, 1049, 1009, 1053, 2000, 2073, 2779, 1016, 2053, 2078, 2528, 2004, 2835, 2059, 2018, 3378, 1016, 2053, 2078, 2528, 2004, 2835, 2059, 2018, 3378, 1016, 3402, 2020, 2005, 2471, 2049, 2047, 2030, 3615, 4205, 1041, 2196, 2010, 2037, 2025, 2089, 2053, 2078, 2502, 2025, 14042, 2019, 1016, 3402, 2020, 2005, 2471, 2049, 2047, 2030, 3615, 4205, 1041, 2196, 2010, 2037, 2025, 2089, 2053, 2078, 2502, 2025, 14042, 2019, 1016, 2825, 2057, 2006, 1009, 1059, 2750, 1016, 2825, 2057, 2006, 1009, 1059, 2750, 1016, 2006, 2078, 7585, 2016, 2037, 1003, 1030, 8491, 2469, 1031, 1004, 7865, 29151, 2076, 7865, 29151, 2076, 2491, 2550, 2579, 2479, 2098, 1004, 1032, 1030, 1017, 8491, 1032, 1030, 8491, 2469, 1031, 1004, 7865, 29151, 2076, 7865, 29151, 2076, 2491, 2550, 2579, 2479, 2098, 1004, 1032, 1030, 1017, 8491, 1032, 1030, 8491, 2469, 1031, 1004, 7865, 29151, 2076, 7865, 29151, 2076, 2491, 2550, 2579, 2479, 2098, 1004, 1032, 1030, 1017, 8491, 1032, 1030, 8491, 2469, 1031, 1004, 7865, 29151, 2076, 7865, 29151, 2076, 2491, 2550, 2579, 2479, 2098, 1004, 1032, 1030, 1017, 8491, 1032, 1030, 8491, 2469, 1031, 1004, 7865, 29151, 2076, 7865, 29151, 2076, 2491, 2550, 2579, 2479, 2098, 1004, 1032, 1030, 1017, 8491, 1032, 2006, 2078, 7585, 2016, 2037, 1003, 1030, 8491, 2469, 1031, 1004, 7865, 29151, 2076, 7865, 29151, 2076, 2491, 2550, 2579, 2479, 2098, 1004, 1032, 1030, 1017, 8491, 1032, 1030, 8491, 2469, 1031, 1004, 7865, 29151, 2076, 7865, 29151, 2076, 2491, 2]], 'attention_mask': [[1, 1, 1, 1, 1, 1, 1, 1, 1, 1, 1, 1, 1, 1, 1, 1, 1, 1, 1, 1, 1, 1, 1, 1, 1, 1, 1, 1, 1, 1, 1, 1, 1, 1, 1, 1, 1, 1, 1, 1, 1, 1, 1, 1, 1, 1, 1, 1, 1, 1, 1, 1, 1, 1, 1, 1, 1, 1, 1, 1, 1, 1, 1, 1, 1, 1, 1, 1, 1, 1, 1, 1, 1, 1, 1, 1, 1, 1, 1, 1, 1, 1, 1, 1, 1, 1, 1, 1, 1, 1, 1, 1, 1, 1, 1, 1, 1, 1, 1, 1, 1, 1, 1, 1, 1, 1, 1, 1, 1, 1, 1, 1, 1, 1, 1, 1, 1, 1, 1, 1, 1, 1, 1, 1, 1, 1, 1, 1, 1, 1, 1, 1, 1, 1, 1, 1, 1, 1, 1, 1, 1, 1, 1, 1, 1, 1, 1, 1, 1, 1, 1, 1, 1, 1, 1, 1, 1, 1, 1, 1, 1, 1, 1, 1, 1, 1, 1, 1, 1, 1, 1, 1, 1, 1, 1, 1, 1, 1, 1, 1, 1, 1, 1, 1, 1, 1, 1, 1, 1, 1, 1, 1, 1, 1, 1, 1, 1, 1, 1, 1, 1, 1, 1, 1, 1, 1, 1, 1, 1, 1, 1, 1, 1, 1, 1, 1, 1, 1, 1, 1, 1, 1, 1, 1, 1, 1, 1, 1, 1, 1, 1, 1, 1, 1, 1, 1, 1, 1, 1, 1, 1, 1, 1, 1, 1, 1, 1], [1, 1, 1, 1, 1, 1, 1, 1, 1, 1, 1, 1, 1, 1, 1, 1, 1, 1, 1, 1, 1, 1, 1, 1, 1, 1, 1, 1, 1, 1, 1, 1, 1, 1, 1, 1, 1, 1, 1, 1, 1, 1, 1, 1, 1, 1, 1, 1, 1, 1, 1, 1, 1, 1, 1, 1, 1, 1, 1, 1, 1, 1, 1, 1, 1, 1, 1, 1, 1, 1, 1], [1, 1, 1, 1, 1, 1, 1, 1, 1, 1, 1, 1, 1, 1, 1, 1, 1, 1, 1, 1, 1, 1, 1, 1, 1, 1, 1, 1, 1, 1, 1, 1, 1, 1, 1, 1, 1, 1, 1, 1, 1, 1, 1, 1, 1, 1, 1, 1, 1, 1, 1, 1, 1, 1, 1, 1, 1, 1, 1, 1, 1, 1, 1, 1, 1, 1, 1, 1, 1, 1, 1, 1, 1, 1, 1, 1, 1, 1, 1, 1, 1, 1, 1, 1, 1, 1, 1, 1, 1, 1, 1, 1, 1, 1, 1, 1, 1, 1, 1, 1, 1, 1, 1, 1, 1, 1, 1, 1, 1, 1, 1, 1, 1, 1, 1, 1, 1, 1, 1, 1, 1, 1, 1, 1, 1, 1, 1, 1, 1, 1, 1, 1, 1, 1, 1, 1, 1, 1, 1, 1, 1, 1, 1, 1, 1, 1, 1, 1, 1, 1, 1, 1, 1, 1, 1, 1, 1, 1, 1, 1, 1, 1, 1, 1, 1, 1, 1, 1, 1, 1, 1, 1, 1, 1, 1, 1, 1, 1, 1, 1, 1, 1, 1, 1, 1, 1, 1, 1, 1, 1, 1, 1, 1, 1, 1, 1, 1, 1, 1, 1, 1, 1, 1, 1, 1, 1, 1, 1, 1, 1, 1, 1, 1, 1, 1, 1, 1, 1, 1, 1, 1, 1, 1, 1, 1, 1, 1, 1, 1, 1, 1, 1, 1], [1, 1, 1, 1, 1, 1, 1, 1, 1, 1, 1, 1, 1, 1, 1, 1, 1, 1, 1, 1, 1, 1, 1, 1, 1, 1, 1, 1, 1, 1, 1, 1, 1, 1, 1, 1, 1, 1, 1, 1, 1, 1, 1, 1, 1, 1, 1, 1, 1, 1, 1, 1, 1, 1, 1, 1, 1, 1, 1, 1, 1, 1, 1, 1, 1, 1, 1, 1, 1, 1, 1, 1, 1, 1, 1, 1, 1, 1, 1, 1, 1, 1, 1, 1, 1, 1, 1, 1, 1, 1, 1, 1, 1, 1, 1, 1, 1, 1, 1], [1, 1, 1, 1, 1, 1, 1, 1, 1, 1, 1, 1, 1, 1, 1, 1, 1, 1, 1, 1, 1, 1, 1, 1, 1, 1, 1, 1, 1, 1, 1, 1, 1, 1, 1, 1, 1, 1, 1, 1, 1, 1, 1, 1, 1, 1, 1, 1, 1, 1, 1, 1, 1, 1, 1, 1, 1, 1, 1, 1, 1, 1, 1, 1, 1, 1, 1, 1, 1, 1, 1, 1, 1, 1, 1, 1, 1, 1, 1, 1, 1, 1, 1, 1, 1, 1, 1, 1, 1, 1, 1, 1, 1, 1, 1, 1, 1, 1, 1, 1, 1, 1, 1, 1, 1, 1, 1, 1, 1, 1, 1, 1, 1, 1, 1, 1, 1, 1, 1, 1, 1, 1, 1, 1, 1, 1, 1, 1, 1, 1, 1, 1, 1, 1, 1, 1, 1, 1, 1, 1, 1, 1, 1, 1, 1, 1, 1, 1, 1, 1, 1, 1, 1, 1, 1, 1, 1, 1, 1, 1, 1, 1, 1, 1, 1, 1, 1, 1, 1, 1, 1, 1, 1, 1, 1, 1, 1, 1, 1, 1, 1, 1, 1, 1, 1, 1, 1, 1, 1, 1, 1, 1, 1, 1, 1, 1, 1, 1, 1, 1, 1, 1, 1, 1, 1, 1, 1, 1, 1, 1, 1, 1, 1, 1, 1, 1, 1, 1, 1, 1, 1, 1, 1, 1, 1, 1, 1, 1, 1, 1, 1, 1, 1, 1, 1, 1, 1, 1, 1, 1, 1, 1, 1, 1, 1, 1, 1, 1, 1, 1, 1, 1, 1, 1, 1, 1, 1, 1, 1, 1, 1, 1, 1, 1, 1, 1, 1, 1, 1, 1, 1, 1, 1, 1, 1, 1, 1, 1, 1, 1, 1, 1, 1, 1, 1, 1, 1, 1, 1, 1, 1, 1, 1, 1, 1, 1, 1, 1, 1, 1, 1, 1, 1, 1, 1, 1, 1, 1, 1, 1, 1, 1, 1, 1, 1, 1, 1, 1, 1, 1, 1, 1, 1, 1, 1, 1, 1, 1, 1, 1, 1, 1, 1, 1, 1, 1, 1, 1, 1, 1, 1, 1, 1, 1, 1, 1, 1, 1, 1, 1, 1, 1, 1, 1, 1, 1, 1, 1, 1, 1, 1, 1, 1, 1, 1, 1, 1, 1, 1, 1, 1, 1, 1, 1, 1, 1, 1, 1, 1, 1, 1, 1, 1, 1, 1, 1, 1, 1, 1, 1, 1, 1, 1, 1, 1, 1, 1, 1, 1, 1, 1, 1, 1, 1, 1, 1, 1, 1, 1, 1, 1, 1, 1, 1, 1, 1, 1, 1, 1, 1, 1, 1, 1, 1, 1, 1, 1, 1, 1, 1, 1, 1, 1, 1, 1, 1, 1, 1, 1, 1, 1, 1, 1, 1, 1, 1, 1, 1, 1, 1, 1, 1, 1, 1, 1, 1, 1, 1, 1, 1, 1, 1, 1, 1, 1, 1, 1, 1, 1, 1, 1, 1, 1, 1, 1, 1, 1, 1, 1, 1, 1, 1, 1, 1, 1, 1, 1, 1, 1, 1, 1, 1, 1, 1, 1, 1, 1, 1, 1, 1, 1, 1, 1, 1, 1, 1, 1, 1, 1, 1, 1, 1]]}"
      ]
     },
     "execution_count": 29,
     "metadata": {},
     "output_type": "execute_result"
    }
   ],
   "source": [
    "sentence1_key, sentence2_key = task_to_keys[task]\n",
    "\n",
    "preprocess_function(dataset['train'][:5])"
   ]
  },
  {
   "cell_type": "markdown",
   "metadata": {
    "id": "zS-6iXTkIrJT"
   },
   "source": [
    "To apply this function on all the sentences (or pairs of sentences) in our dataset, we just use the `map` method of our `dataset` object we created earlier. This will apply the function on all the elements of all the splits in `dataset`, so our training, validation and testing data will be preprocessed in one single command."
   ]
  },
  {
   "cell_type": "code",
   "execution_count": 30,
   "metadata": {
    "colab": {
     "base_uri": "https://localhost:8080/",
     "height": 113,
     "referenced_widgets": [
      "a7824de558a043bb8ec9d93cb95eb6ff",
      "5a5c10df54f24f4c9f7320463b6fbcc1",
      "310f2c2d45b94f73b2cb992af57f9da4",
      "16d3c5934cc445118cb85cd1528c553f",
      "751e9763024743129a68331dc5226589",
      "39b7bdf6dd314ee284536bf94ccf86e8",
      "58193ea4533b4403ae12659bca64f6bc",
      "7e58d327a050456da4e08c674b599b44",
      "6dffb73c9f3d4b5395fcd6be6552c6a0",
      "8c02566cc69543eead529b189b5608b4",
      "593a3e5d6d2b474a86d29f0bd11f2e47",
      "aceecde2ef1844da90967172f503e1ab",
      "343c514d132e497899d7b29a4dd88e3f",
      "1c688ff37a2a4ae9b68b4d13fec3f299",
      "4c0350e476124b5598a1c888955c052b",
      "a786a0912e4d45a6b50c64989a067ca6",
      "06485c02911746eaa33d042af7bee3bb",
      "5218f4d8361043d3b2d0f832557efdf8",
      "399ae801d983450a86a912b0a34928e7",
      "1412a65e79a74d29a2d8956f64641850",
      "f5d27449ce594a15a02bbca028264e01",
      "74773b19035d4c82838d4013e8a855ac",
      "78bbc50c7ba04c9785979ac5bf011952",
      "259cf20ba07b463c880927c780167ba3",
      "e06be40484834d1d8e0ed5e741025e40",
      "117eb0476cdb4ba8b4f1e15f568d7aa7",
      "b542d1e759aa418a87049dcbe3589bb0",
      "d7880ee40fb9429cb0038d5a70f5a8a0",
      "69325dbe2afb4ccdb49fa48a1d0adf80",
      "e9a81ce557ad434ab3e13d59370102db",
      "bc9525f120484f7f85e5642791b5ca5b",
      "a233edfff7e24a779486e27865c42cd7",
      "ced3d8a4eede48af9c37981c85abb633"
     ]
    },
    "id": "DDtsaJeVIrJT",
    "outputId": "7b34e486-9e33-402b-f7fa-7eb3151185f7"
   },
   "outputs": [
    {
     "name": "stderr",
     "output_type": "stream",
     "text": [
      "Map: 100%|██████████████████████████| 5654/5654 [00:05<00:00, 976.07 examples/s]\n",
      "Map: 100%|███████████████████████████| 321/321 [00:00<00:00, 1037.42 examples/s]\n",
      "Map: 100%|█████████████████████████| 5353/5353 [00:03<00:00, 1405.16 examples/s]\n"
     ]
    }
   ],
   "source": [
    "encoded_dataset = dataset.map(preprocess_function, batched=True)"
   ]
  },
  {
   "cell_type": "markdown",
   "metadata": {
    "id": "voWiw8C7IrJV"
   },
   "source": [
    "Even better, the results are automatically cached by the 🤗 Datasets library to avoid spending time on this step the next time you run your notebook. The 🤗 Datasets library is normally smart enough to detect when the function you pass to map has changed (and thus requires to not use the cache data). For instance, it will properly detect if you change the task in the first cell and rerun the notebook. 🤗 Datasets warns you when it uses cached files, you can pass `load_from_cache_file=False` in the call to `map` to not use the cached files and force the preprocessing to be applied again.\n",
    "\n",
    "Note that we passed `batched=True` to encode the texts by batches together. This is to leverage the full benefit of the fast tokenizer we loaded earlier, which will use multi-threading to treat the texts in a batch concurrently."
   ]
  },
  {
   "cell_type": "markdown",
   "metadata": {
    "id": "545PP3o8IrJV"
   },
   "source": [
    "## Fine-tuning the model with or without hyperparameter search"
   ]
  },
  {
   "cell_type": "code",
   "execution_count": 31,
   "metadata": {
    "id": "fcT7B52c0d7y"
   },
   "outputs": [],
   "source": [
    "from sklearn import metrics\n",
    "import numpy as np\n",
    "import pandas as pd\n",
    "import matplotlib.pyplot as plt\n",
    "from sklearn.metrics import confusion_matrix, ConfusionMatrixDisplay, roc_auc_score, recall_score, precision_score, f1_score, auc, precision_recall_curve, classification_report\n",
    "from transformers import AutoModelForSequenceClassification, TrainingArguments, Trainer\n",
    "from sklearn.metrics import mean_squared_error\n",
    "\n",
    "\n",
    "\n",
    "\n",
    "\n",
    "# def compute_metrics(eval_pred):\n",
    "#     from evaluate import load\n",
    "#     predictions, labels = eval_pred\n",
    "#     metric = load('mse')\n",
    "#     return metric.compute(predictions=predictions, references=labels, squared=False)\n",
    "\n",
    "\n",
    "# def compute_metrics(eval_pred):\n",
    "#     predictions, labels = eval_pred\n",
    "#     if task != \"stsb\":\n",
    "#         predictions = np.argmax(predictions, axis=1)\n",
    "#     else:\n",
    "#         predictions = predictions[:, 0]\n",
    "#     return metric.compute(predictions=predictions, references=labels)\n",
    "\n",
    "def metrics_report_cm(y_true, y_pred, output_dir, model_name, ts, save=True):\n",
    "\n",
    "    cm = confusion_matrix(y_true, y_pred,normalize=None)\n",
    "    cm_df = pd.DataFrame(cm, index=['SITB-', 'SITB+'], columns=['SITB-', 'SITB+'])\n",
    "    cm_df_meaning = pd.DataFrame([['TN', 'FP'],['FN','TP']], index=['SITB-', 'SITB+'], columns=['SITB-', 'SITB+'])\n",
    "\n",
    "    cm_norm = confusion_matrix(y_true, y_pred,normalize='all')\n",
    "    cm_norm = (cm_norm*100).round(2)\n",
    "    cm_df_norm = pd.DataFrame(cm_norm, index=['SITB-', 'SITB+'], columns=['SITB-', 'SITB+'])\n",
    "\n",
    "\n",
    "    plt.rcParams['figure.figsize'] = [4,4]\n",
    "    cm_display = ConfusionMatrixDisplay(cm_norm,display_labels=['SITB-', 'SITB+']).plot()\n",
    "    # todo save\n",
    "\n",
    "    if save:\n",
    "        cm_df_meaning.to_csv(output_dir+f'cm_meaning_{model_name}_{ts}.csv')\n",
    "        cm_df.to_csv(output_dir+f'cm_{model_name}_{ts}.csv')\n",
    "        cm_df_norm.to_csv(output_dir+f'cm_norm_{model_name}_{ts}.csv')\n",
    "\n",
    "\n",
    "\n",
    "    return cm_df_meaning, cm_df, cm_df_norm\n",
    "\n",
    "\n",
    "\n",
    "\n",
    "\n",
    "\n",
    "def metrics_report_classification_report(y_true, y_pred,y_pred_proba_1, output_dir, model_name, ts):\n",
    "\n",
    "    tn, fp, fn, tp = confusion_matrix(y_true, y_pred).ravel()\n",
    "    np.set_printoptions(suppress=True)\n",
    "    roc_auc = roc_auc_score(y_true,y_pred)\n",
    "    f1 = f1_score(y_true,y_pred)\n",
    "\n",
    "    # calculate precision and recall for each threshold\n",
    "    lr_precision, lr_recall, thresholds = precision_recall_curve(y_true, y_pred_proba_1)\n",
    "\n",
    "    # TODO: add best threshold\n",
    "    fscore = (2 * lr_precision * lr_recall) / (lr_precision + lr_recall)\n",
    "    fscore[np.isnan(fscore)] = 0\n",
    "    ix = np.argmax(fscore)\n",
    "    best_threshold = thresholds[ix].item()\n",
    "\n",
    "\n",
    "    pr_auc = auc(lr_recall, lr_precision)\n",
    "    # AU P-R curve is also approximated by avg. precision\n",
    "    # avg_pr = metrics.average_precision_score(y_true,y_pred_proba_1)\n",
    "\n",
    "    sensitivity = recall_score(y_true,y_pred)\n",
    "    specificity = tn / (tn+fp) # OR: recall_score(y_true,y_pred, pos_label=0)\n",
    "    precision = precision_score(y_true,y_pred)\n",
    "\n",
    "    results = pd.DataFrame([sensitivity, specificity,precision,f1, roc_auc,pr_auc, best_threshold],\n",
    "                        index = ['Sensitivity', 'Specificity', 'Precision', 'F1', 'ROC AUC','PR AUC', 'Best th PR AUC']).T.round(2)\n",
    "\n",
    "    results.to_csv(output_dir+f'results_{model_name}_{ts}.csv')\n",
    "    return results\n",
    "\n",
    "\n",
    "\n",
    "from matplotlib import pyplot as plt\n",
    "from sklearn import metrics\n",
    "from scipy.stats import pearsonr, spearmanr\n",
    "\n",
    "\n",
    "\n",
    "\n",
    "from sklearn import metrics\n",
    "def regression_report(y_test,y_pred,y_train=None,gridsearch=None, best_params=None,feature_vector=None,model_name=None,metrics_to_report = 'all', plot = True, save_fig_path = None, n = 'all', round_to = 2, figsize=(4,8), ordinal_ticks = True):\n",
    "\t'''\n",
    "\tmetrics = {'all', ['MAE','RMSE','rho', 'Best parameters']\n",
    "\t}\n",
    "\t'''\n",
    "\n",
    "\t# Metrics\n",
    "\t# https://scikit-learn.org/stable/modules/classes.html#module-sklearn.metrics\n",
    "\trmse = metrics.mean_squared_error(y_test, y_pred, squared=False )\n",
    "\tmae = metrics.mean_absolute_error(y_test, y_pred)\n",
    "\tr2 = metrics.r2_score(y_test, y_pred)\n",
    "\tr, p = pearsonr(y_test, y_pred)\n",
    "\trho, p = spearmanr(y_test, y_pred)\n",
    "\n",
    "\tresults_dict = {\n",
    "\t\t'Features':feature_vector,\n",
    "\t\t'Estimator':model_name,\n",
    "\t\t'n':n,\n",
    "\t\t'y_train_min': np.min(y_train),\n",
    "\t\t'y_train_max': np.max(y_train),\n",
    "\t\t'RMSE':np.round(rmse,round_to ),\n",
    "\t\t'MAE':np.round(mae,round_to ),\n",
    "\t\t'R^2':np.round(r2,round_to ),\n",
    "\t\t'r':np.round(r,round_to ),\n",
    "\t\t'rho':np.round(rho,round_to ),\n",
    "\t\t'gridsearch':gridsearch,\n",
    "\t\t'Best parameters': str(best_params),\n",
    "\t\t}\n",
    "\tresults = pd.DataFrame(results_dict, index=[model_name]).round(3)\n",
    "\t# results_all.append(results)\n",
    "\n",
    "\tif metrics_to_report == 'all' or ('RMSE per value' in metrics_to_report and 'MAE per value' in metrics_to_report):\n",
    "\t\ty_pred_test = {}\n",
    "\t\ty_pred_test['RMSE per value'] = []\n",
    "\t\ty_pred_test['MAE per value'] = []\n",
    "\t\tfor value in np.unique(y_test):\n",
    "\t\t\ty_pred_test_i = [[pred,test] for pred,test in zip(y_pred,y_test) if test == value]\n",
    "\t\t\ty_pred_test[value] = np.array(y_pred_test_i)\n",
    "\t\t\ty_pred_i = [n[0] for n in y_pred_test_i]\n",
    "\t\t\ty_test_i = [n[1] for n in y_pred_test_i]\n",
    "\t\t\trmse_i = metrics.mean_squared_error(y_test_i, y_pred_i, squared=False )\n",
    "\t\t\tmae_i = metrics.mean_absolute_error(y_test_i, y_pred_i)\n",
    "\t\t\ty_pred_test['RMSE per value'].append(np.round(rmse_i,round_to ))\n",
    "\t\t\ty_pred_test['MAE per value'].append(np.round(mae_i,round_to ))\n",
    "\t\t# print(y_pred_test['RMSE per value'])\n",
    "\t\tresults_dict.update({\n",
    "\t\t'RMSE per value':f\"{y_pred_test['RMSE per value']}\",\n",
    "\t\t'MAE per value':f\"{y_pred_test['MAE per value']}\"\n",
    "\t\t})\n",
    "\t\tmacro_avg_rmse = np.round(np.mean(y_pred_test['RMSE per value']), round_to)\n",
    "\t\tmacro_avg_mae = np.round(np.mean(y_pred_test['MAE per value']), round_to)\n",
    "\n",
    "\t\tresults_dict.update({\n",
    "\t\t'Macro avg. RMSE':f\"{macro_avg_rmse}\",\n",
    "\t\t'Macro avg. MAE':f\"{macro_avg_mae}\",\n",
    "\t\t})\n",
    "\n",
    "\t\t# metrics_to_report_2 = metrics_to_report.copy()\n",
    "\t\t# metrics_to_report_2.remove('RMSE') #redudant\n",
    "\t\t# metrics_to_report_2.remove('MAE') #redudant\n",
    "\t\tresults = pd.DataFrame(results_dict, index=[model_name]) # replace with updated metrics\n",
    "\t\t# results = results[metrics_to_report_2]\n",
    "\n",
    "\n",
    "\t# Plot result for a regression task: true value vs predicted values\n",
    "\t# ============================================================\n",
    "\tplt.clf()\n",
    "\tplt.figure(figsize=figsize)  # Width=10 inches, Height=6 inches\n",
    "\n",
    "\tplt.style.use('default')  # Example of applying the 'ggplot' style\n",
    "\tplt.scatter(y_test, y_pred, alpha = 0.05)\n",
    "\t# plt.title(f\"{feature_vector.capitalize().replace('_',' ')}\")\n",
    "\tplt.xlabel('True values')\n",
    "\tplt.ylabel('Predicted values')\n",
    "\n",
    "\n",
    "\tticks = list(np.unique(y_test))\n",
    "\tif ordinal_ticks and len(ticks)<12:\n",
    "\t\tplt.xticks(ticks=ticks,labels = [str(int(n)) for n in ticks])\n",
    "\n",
    "\tplt.tight_layout()\n",
    "\tif save_fig_path:\n",
    "\t\tplt.savefig(save_fig_path+'.png', dpi=300)\n",
    "\t# plt.show()\n",
    "\treturn results\n",
    "\n"
   ]
  },
  {
   "cell_type": "markdown",
   "metadata": {
    "id": "FBiW8UpKIrJW"
   },
   "source": [
    "Now that our data is ready, we can download the pretrained model and fine-tune it. Since all our tasks are about sentence classification, we use the `AutoModelForSequenceClassification` class. Like with the tokenizer, the `from_pretrained` method will download and cache the model for us. The only thing we have to specify is the number of labels for our problem (which is always 2, except for STS-B which is a regression problem and MNLI where we have 3 labels):"
   ]
  },
  {
   "cell_type": "markdown",
   "metadata": {
    "id": "hmP65aNS0d7y"
   },
   "source": [
    "### Custom Trainer to add class weights if you have class imbalance"
   ]
  },
  {
   "cell_type": "code",
   "execution_count": 32,
   "metadata": {
    "colab": {
     "base_uri": "https://localhost:8080/"
    },
    "id": "bFw1-qEB0d7y",
    "outputId": "6bf1a60d-bf35-4a10-94e5-c9f24cc97b96"
   },
   "outputs": [
    {
     "name": "stdout",
     "output_type": "stream",
     "text": [
      "[0.99876347 1.00035386 1.00088511]\n"
     ]
    }
   ],
   "source": [
    "\n",
    "from torch import nn\n",
    "from transformers import Trainer\n",
    "\n",
    "from sklearn.utils.class_weight import compute_class_weight\n",
    "\n",
    "class_weights =  compute_class_weight(class_weight = \"balanced\", classes= np.unique(y_train), y= y_train)\n",
    "print(class_weights)\n",
    "\n",
    "class CustomTrainer(Trainer):\n",
    "    def compute_loss(self, model, inputs, return_outputs=False):\n",
    "        labels = inputs.get(\"labels\")\n",
    "        # forward pass\n",
    "        outputs = model(**inputs)\n",
    "        logits = outputs.get(\"logits\")\n",
    "        # compute custom loss (suppose one has 3 labels with different weights)\n",
    "        loss_fct = nn.CrossEntropyLoss(weight=torch.tensor(class_weights, device=model.device).float())\n",
    "        loss = loss_fct(logits.view(-1, self.model.config.num_labels), labels.view(-1))\n",
    "        return (loss, outputs) if return_outputs else loss"
   ]
  },
  {
   "cell_type": "markdown",
   "metadata": {
    "id": "qNxrpAkW0d7y"
   },
   "source": [
    "### define or download model and define training arguments"
   ]
  },
  {
   "cell_type": "code",
   "execution_count": 33,
   "metadata": {
    "colab": {
     "base_uri": "https://localhost:8080/"
    },
    "id": "TlqNaB8jIrJW",
    "outputId": "543ff137-3598-45f6-a4e1-290ac6429792"
   },
   "outputs": [
    {
     "name": "stdout",
     "output_type": "stream",
     "text": [
      "CPU times: user 3.74 ms, sys: 11 µs, total: 3.75 ms\n",
      "Wall time: 3.56 ms\n"
     ]
    }
   ],
   "source": [
    "%%time\n",
    "\n",
    "# Finetuning no hyperparameter search:\n",
    "# distilroberta 18m (4 epochs)\n",
    "# roberta-base 35m (3 epochs)\n",
    "\n",
    "\n",
    "def compute_metrics(eval_pred):\n",
    "\n",
    "    predictions, labels = eval_pred\n",
    "    if regression:\n",
    "      rmse = mean_squared_error(labels, predictions, squared=False)\n",
    "      return {\"rmse\": rmse}\n",
    "    else:\n",
    "      if task != \"stb\":\n",
    "          predictions = np.argmax(predictions, axis=1)\n",
    "      else:\n",
    "          predictions = predictions[:, 0]\n",
    "      return metric.compute(predictions=predictions, references=labels)\n",
    "\n",
    "model_name = model_checkpoint.split(\"/\")[-1]\n",
    "\n",
    "args = TrainingArguments(\n",
    "    f\"{model_name}-finetuned-{task}\",\n",
    "    evaluation_strategy = \"epoch\",\n",
    "    save_strategy = \"epoch\",\n",
    "    learning_rate=2e-5,\n",
    "    per_device_train_batch_size=batch_size,\n",
    "    per_device_eval_batch_size=batch_size,\n",
    "    num_train_epochs=epochs,\n",
    "    weight_decay=0.01,\n",
    "    load_best_model_at_end=True,\n",
    "    metric_for_best_model=metric_name,\n",
    "\n",
    "  push_to_hub=False,\n",
    "\n",
    ")\n",
    "\n",
    "\n",
    "# specify model and model_init\n",
    "\n",
    "# Regression also works with AutoModelForSequenceClassification but with num_labels =1 . Then the compute_metrics will be different\n",
    "if do_hyperparameter_search:\n",
    "    model = None\n",
    "    def create_model_init():\n",
    "        return AutoModelForSequenceClassification.from_pretrained(model_checkpoint, num_labels=num_labels)\n",
    "\n",
    "    model_init = create_model_init\n",
    "\n",
    "\n",
    "else:\n",
    "    model = AutoModelForSequenceClassification.from_pretrained(model_checkpoint, num_labels=num_labels)\n",
    "    model_init=None\n",
    "\n",
    "\n",
    "def define_trainer(encoded_train_set, encoded_val_set, model=None, model_init=None, compute_metrics = None, imbalanced = imbalanced):\n",
    "    if not imbalanced:\n",
    "        trainer = Trainer(\n",
    "            model = model,\n",
    "            model_init = model_init,\n",
    "            args = args,\n",
    "            train_dataset=encoded_train_set,\n",
    "            eval_dataset=encoded_val_set,\n",
    "            tokenizer=tokenizer,\n",
    "          compute_metrics=compute_metrics,\n",
    "        )\n",
    "\n",
    "    else:\n",
    "        # here we use a CustomTrainer for class weights\n",
    "        trainer = CustomTrainer(\n",
    "            model = model,\n",
    "            model_init = model_init,\n",
    "            args = args,\n",
    "            train_dataset=encoded_train_set,\n",
    "            eval_dataset=encoded_val_set,\n",
    "            tokenizer=tokenizer,\n",
    "            compute_metrics=compute_metrics\n",
    "        )\n",
    "    return trainer\n",
    "\n"
   ]
  },
  {
   "cell_type": "markdown",
   "metadata": {
    "id": "CczA5lJlIrJX"
   },
   "source": [
    "The warning is telling us we are throwing away some weights (the `vocab_transform` and `vocab_layer_norm` layers) and randomly initializing some other (the `pre_classifier` and `classifier` layers). This is absolutely normal in this case, because we are removing the head used to pretrain the model on a masked language modeling objective and replacing it with a new head for which we don't have pretrained weights, so the library warns us we should fine-tune this model before using it for inference, which is exactly what we are going to do."
   ]
  },
  {
   "cell_type": "markdown",
   "metadata": {
    "id": "_N8urzhyIrJY"
   },
   "source": [
    "To instantiate a `Trainer`, we will need to define two more things. The most important is the [`TrainingArguments`](https://huggingface.co/transformers/main_classes/trainer.html#transformers.TrainingArguments), which is a class that contains all the attributes to customize the training. It requires one folder name, which will be used to save the checkpoints of the model, and all other arguments are optional:"
   ]
  },
  {
   "cell_type": "markdown",
   "metadata": {
    "id": "km3pGVdTIrJc"
   },
   "source": [
    "Here we set the evaluation to be done at the end of each epoch, tweak the learning rate, use the `batch_size` defined at the top of the notebook and customize the number of epochs for training, as well as the weight decay. Since the best model might not be the one at the end of training, we ask the `Trainer` to load the best model it saved (according to `metric_name`) at the end of training.\n",
    "\n",
    "The last argument to setup everything so we can push the model to the [Hub](https://huggingface.co/models) regularly during training. Remove it if you didn't follow the installation steps at the top of the notebook. If you want to save your model locally in a name that is different than the name of the repository it will be pushed, or if you want to push your model under an organization and not your name space, use the `hub_model_id` argument to set the repo name (it needs to be the full name, including your namespace: for instance `\"sgugger/bert-finetuned-mrpc\"` or `\"huggingface/bert-finetuned-mrpc\"`)."
   ]
  },
  {
   "cell_type": "markdown",
   "metadata": {
    "id": "7sZOdRlRIrJd"
   },
   "source": [
    "The last thing to define for our `Trainer` is how to compute the metrics from the predictions. We need to define a function for this, which will just use the `metric` we loaded earlier, the only preprocessing we have to do is to take the argmax of our predicted logits (our just squeeze the last axis in the case of STS-B):"
   ]
  },
  {
   "cell_type": "markdown",
   "metadata": {
    "id": "ibWGmvxbIrJg"
   },
   "source": [
    "You might wonder why we pass along the `tokenizer` when we already preprocessed our data. This is because we will use it once last time to make all the samples we gather the same length by applying padding, which requires knowing the model's preferences regarding padding (to the left or right? with which token?). The `tokenizer` has a pad method that will do all of this right for us, and the `Trainer` will use it. You can customize this part by defining and passing your own `data_collator` which will receive the samples like the dictionaries seen above and will need to return a dictionary of tensors."
   ]
  },
  {
   "cell_type": "markdown",
   "metadata": {
    "id": "CdzABDVcIrJg"
   },
   "source": [
    "We can now finetune our model by just calling the `train` method:"
   ]
  },
  {
   "cell_type": "markdown",
   "metadata": {
    "id": "TlI6tq8l0d7z"
   },
   "source": [
    "# Train and save model"
   ]
  },
  {
   "cell_type": "code",
   "execution_count": null,
   "metadata": {},
   "outputs": [],
   "source": []
  },
  {
   "cell_type": "code",
   "execution_count": 34,
   "metadata": {
    "colab": {
     "base_uri": "https://localhost:8080/",
     "height": 1000,
     "referenced_widgets": [
      "53c6fbe23a7649e3b824fbf51b9d8a2b",
      "85cac5af0dc9496f8deddf03fe8658e4",
      "2d43e5c57d394b61aa43142354025d75",
      "48dc7ba6ed2f49c7bd288f6b05f51f06",
      "d45b46ea1a684f2599b627a5fef59afb",
      "31bcd229aea640ffb0218616a911da24",
      "378876fa9111413dbba4e21ed49e60bd",
      "09aeb9597a934e039144f2e6978b8759",
      "e6eeadbcae61444ab07189813f8465e7",
      "e2cd4ce9e0c9407c9a2fdb1122d66b72",
      "3d43aa6ba7564880875f33b34ea5b2d5"
     ]
    },
    "id": "IEnt09bX0d7z",
    "outputId": "06928ade-02f2-42eb-b841-21ced2f0e6ee"
   },
   "outputs": [
    {
     "name": "stderr",
     "output_type": "stream",
     "text": [
      "Detected kernel version 4.18.0, which is below the recommended minimum of 5.5.0; this can cause the process to hang. It is recommended to upgrade the kernel to the minimum version or higher.\n",
      "Some weights of MPNetForSequenceClassification were not initialized from the model checkpoint at microsoft/mpnet-base and are newly initialized: ['classifier.dense.bias', 'classifier.dense.weight', 'classifier.out_proj.bias', 'classifier.out_proj.weight']\n",
      "You should probably TRAIN this model on a down-stream task to be able to use it for predictions and inference.\n",
      "[I 2024-03-28 15:12:06,639] A new study created in memory with name: no-name-bd6af467-89a8-4b01-a7d6-1f50f7a8cb0b\n",
      "Detected kernel version 4.18.0, which is below the recommended minimum of 5.5.0; this can cause the process to hang. It is recommended to upgrade the kernel to the minimum version or higher.\n",
      "Some weights of MPNetForSequenceClassification were not initialized from the model checkpoint at microsoft/mpnet-base and are newly initialized: ['classifier.dense.bias', 'classifier.dense.weight', 'classifier.out_proj.bias', 'classifier.out_proj.weight']\n",
      "You should probably TRAIN this model on a down-stream task to be able to use it for predictions and inference.\n"
     ]
    },
    {
     "data": {
      "text/html": [
       "\n",
       "    <div>\n",
       "      \n",
       "      <progress value='1062' max='1062' style='width:300px; height:20px; vertical-align: middle;'></progress>\n",
       "      [1062/1062 10:14, Epoch 3/3]\n",
       "    </div>\n",
       "    <table border=\"1\" class=\"dataframe\">\n",
       "  <thead>\n",
       " <tr style=\"text-align: left;\">\n",
       "      <th>Epoch</th>\n",
       "      <th>Training Loss</th>\n",
       "      <th>Validation Loss</th>\n",
       "      <th>Rmse</th>\n",
       "    </tr>\n",
       "  </thead>\n",
       "  <tbody>\n",
       "    <tr>\n",
       "      <td>1</td>\n",
       "      <td>No log</td>\n",
       "      <td>0.230419</td>\n",
       "      <td>0.480019</td>\n",
       "    </tr>\n",
       "    <tr>\n",
       "      <td>2</td>\n",
       "      <td>0.353800</td>\n",
       "      <td>0.159682</td>\n",
       "      <td>0.399602</td>\n",
       "    </tr>\n",
       "    <tr>\n",
       "      <td>3</td>\n",
       "      <td>0.151500</td>\n",
       "      <td>0.167584</td>\n",
       "      <td>0.409370</td>\n",
       "    </tr>\n",
       "  </tbody>\n",
       "</table><p>"
      ],
      "text/plain": [
       "<IPython.core.display.HTML object>"
      ]
     },
     "metadata": {},
     "output_type": "display_data"
    },
    {
     "name": "stderr",
     "output_type": "stream",
     "text": [
      "Checkpoint destination directory mpnet-base-finetuned-suicide_risk/run-0/checkpoint-354 already exists and is non-empty. Saving will proceed but saved results may be invalid.\n",
      "[I 2024-03-28 15:22:26,952] Trial 0 finished with value: 0.409370094537735 and parameters: {'learning_rate': 4.980376208061437e-05, 'num_train_epochs': 3, 'weight_decay': 3.424749339110295e-07}. Best is trial 0 with value: 0.409370094537735.\n",
      "Detected kernel version 4.18.0, which is below the recommended minimum of 5.5.0; this can cause the process to hang. It is recommended to upgrade the kernel to the minimum version or higher.\n",
      "Some weights of MPNetForSequenceClassification were not initialized from the model checkpoint at microsoft/mpnet-base and are newly initialized: ['classifier.dense.bias', 'classifier.dense.weight', 'classifier.out_proj.bias', 'classifier.out_proj.weight']\n",
      "You should probably TRAIN this model on a down-stream task to be able to use it for predictions and inference.\n"
     ]
    },
    {
     "data": {
      "text/html": [
       "\n",
       "    <div>\n",
       "      \n",
       "      <progress value='1062' max='1062' style='width:300px; height:20px; vertical-align: middle;'></progress>\n",
       "      [1062/1062 10:14, Epoch 3/3]\n",
       "    </div>\n",
       "    <table border=\"1\" class=\"dataframe\">\n",
       "  <thead>\n",
       " <tr style=\"text-align: left;\">\n",
       "      <th>Epoch</th>\n",
       "      <th>Training Loss</th>\n",
       "      <th>Validation Loss</th>\n",
       "      <th>Rmse</th>\n",
       "    </tr>\n",
       "  </thead>\n",
       "  <tbody>\n",
       "    <tr>\n",
       "      <td>1</td>\n",
       "      <td>No log</td>\n",
       "      <td>0.488754</td>\n",
       "      <td>0.699109</td>\n",
       "    </tr>\n",
       "    <tr>\n",
       "      <td>2</td>\n",
       "      <td>0.578100</td>\n",
       "      <td>0.239916</td>\n",
       "      <td>0.489812</td>\n",
       "    </tr>\n",
       "    <tr>\n",
       "      <td>3</td>\n",
       "      <td>0.274300</td>\n",
       "      <td>0.199586</td>\n",
       "      <td>0.446751</td>\n",
       "    </tr>\n",
       "  </tbody>\n",
       "</table><p>"
      ],
      "text/plain": [
       "<IPython.core.display.HTML object>"
      ]
     },
     "metadata": {},
     "output_type": "display_data"
    },
    {
     "name": "stderr",
     "output_type": "stream",
     "text": [
      "Checkpoint destination directory mpnet-base-finetuned-suicide_risk/run-1/checkpoint-354 already exists and is non-empty. Saving will proceed but saved results may be invalid.\n",
      "Checkpoint destination directory mpnet-base-finetuned-suicide_risk/run-1/checkpoint-708 already exists and is non-empty. Saving will proceed but saved results may be invalid.\n",
      "[I 2024-03-28 15:32:45,311] Trial 1 finished with value: 0.4467505216598511 and parameters: {'learning_rate': 5.2266129747841734e-05, 'num_train_epochs': 3, 'weight_decay': 5.706920647219717e-05}. Best is trial 0 with value: 0.409370094537735.\n",
      "Detected kernel version 4.18.0, which is below the recommended minimum of 5.5.0; this can cause the process to hang. It is recommended to upgrade the kernel to the minimum version or higher.\n",
      "Some weights of MPNetForSequenceClassification were not initialized from the model checkpoint at microsoft/mpnet-base and are newly initialized: ['classifier.dense.bias', 'classifier.dense.weight', 'classifier.out_proj.bias', 'classifier.out_proj.weight']\n",
      "You should probably TRAIN this model on a down-stream task to be able to use it for predictions and inference.\n"
     ]
    },
    {
     "data": {
      "text/html": [
       "\n",
       "    <div>\n",
       "      \n",
       "      <progress value='1416' max='1416' style='width:300px; height:20px; vertical-align: middle;'></progress>\n",
       "      [1416/1416 13:42, Epoch 4/4]\n",
       "    </div>\n",
       "    <table border=\"1\" class=\"dataframe\">\n",
       "  <thead>\n",
       " <tr style=\"text-align: left;\">\n",
       "      <th>Epoch</th>\n",
       "      <th>Training Loss</th>\n",
       "      <th>Validation Loss</th>\n",
       "      <th>Rmse</th>\n",
       "    </tr>\n",
       "  </thead>\n",
       "  <tbody>\n",
       "    <tr>\n",
       "      <td>1</td>\n",
       "      <td>No log</td>\n",
       "      <td>0.211453</td>\n",
       "      <td>0.459840</td>\n",
       "    </tr>\n",
       "    <tr>\n",
       "      <td>2</td>\n",
       "      <td>0.372000</td>\n",
       "      <td>0.161371</td>\n",
       "      <td>0.401710</td>\n",
       "    </tr>\n",
       "    <tr>\n",
       "      <td>3</td>\n",
       "      <td>0.143800</td>\n",
       "      <td>0.204867</td>\n",
       "      <td>0.452622</td>\n",
       "    </tr>\n",
       "    <tr>\n",
       "      <td>4</td>\n",
       "      <td>0.143800</td>\n",
       "      <td>0.173986</td>\n",
       "      <td>0.417117</td>\n",
       "    </tr>\n",
       "  </tbody>\n",
       "</table><p>"
      ],
      "text/plain": [
       "<IPython.core.display.HTML object>"
      ]
     },
     "metadata": {},
     "output_type": "display_data"
    },
    {
     "name": "stderr",
     "output_type": "stream",
     "text": [
      "Checkpoint destination directory mpnet-base-finetuned-suicide_risk/run-2/checkpoint-354 already exists and is non-empty. Saving will proceed but saved results may be invalid.\n",
      "Checkpoint destination directory mpnet-base-finetuned-suicide_risk/run-2/checkpoint-708 already exists and is non-empty. Saving will proceed but saved results may be invalid.\n",
      "Checkpoint destination directory mpnet-base-finetuned-suicide_risk/run-2/checkpoint-1062 already exists and is non-empty. Saving will proceed but saved results may be invalid.\n",
      "Checkpoint destination directory mpnet-base-finetuned-suicide_risk/run-2/checkpoint-1416 already exists and is non-empty. Saving will proceed but saved results may be invalid.\n",
      "[I 2024-03-28 15:46:30,457] Trial 2 finished with value: 0.4171167016029358 and parameters: {'learning_rate': 2.5896990942534678e-05, 'num_train_epochs': 4, 'weight_decay': 5.095679433311665e-06}. Best is trial 0 with value: 0.409370094537735.\n",
      "Detected kernel version 4.18.0, which is below the recommended minimum of 5.5.0; this can cause the process to hang. It is recommended to upgrade the kernel to the minimum version or higher.\n",
      "Some weights of MPNetForSequenceClassification were not initialized from the model checkpoint at microsoft/mpnet-base and are newly initialized: ['classifier.dense.bias', 'classifier.dense.weight', 'classifier.out_proj.bias', 'classifier.out_proj.weight']\n",
      "You should probably TRAIN this model on a down-stream task to be able to use it for predictions and inference.\n"
     ]
    },
    {
     "data": {
      "text/html": [
       "\n",
       "    <div>\n",
       "      \n",
       "      <progress value='1416' max='1416' style='width:300px; height:20px; vertical-align: middle;'></progress>\n",
       "      [1416/1416 13:45, Epoch 4/4]\n",
       "    </div>\n",
       "    <table border=\"1\" class=\"dataframe\">\n",
       "  <thead>\n",
       " <tr style=\"text-align: left;\">\n",
       "      <th>Epoch</th>\n",
       "      <th>Training Loss</th>\n",
       "      <th>Validation Loss</th>\n",
       "      <th>Rmse</th>\n",
       "    </tr>\n",
       "  </thead>\n",
       "  <tbody>\n",
       "    <tr>\n",
       "      <td>1</td>\n",
       "      <td>No log</td>\n",
       "      <td>0.306468</td>\n",
       "      <td>0.553596</td>\n",
       "    </tr>\n",
       "    <tr>\n",
       "      <td>2</td>\n",
       "      <td>0.518100</td>\n",
       "      <td>0.217789</td>\n",
       "      <td>0.466679</td>\n",
       "    </tr>\n",
       "    <tr>\n",
       "      <td>3</td>\n",
       "      <td>0.264900</td>\n",
       "      <td>0.228614</td>\n",
       "      <td>0.478136</td>\n",
       "    </tr>\n",
       "    <tr>\n",
       "      <td>4</td>\n",
       "      <td>0.264900</td>\n",
       "      <td>0.173759</td>\n",
       "      <td>0.416845</td>\n",
       "    </tr>\n",
       "  </tbody>\n",
       "</table><p>"
      ],
      "text/plain": [
       "<IPython.core.display.HTML object>"
      ]
     },
     "metadata": {},
     "output_type": "display_data"
    },
    {
     "name": "stderr",
     "output_type": "stream",
     "text": [
      "Checkpoint destination directory mpnet-base-finetuned-suicide_risk/run-3/checkpoint-354 already exists and is non-empty. Saving will proceed but saved results may be invalid.\n",
      "[I 2024-03-28 16:00:19,259] Trial 3 finished with value: 0.4168446362018585 and parameters: {'learning_rate': 2.719476219975295e-05, 'num_train_epochs': 4, 'weight_decay': 1.0040971828746999e-09}. Best is trial 0 with value: 0.409370094537735.\n",
      "Detected kernel version 4.18.0, which is below the recommended minimum of 5.5.0; this can cause the process to hang. It is recommended to upgrade the kernel to the minimum version or higher.\n",
      "Some weights of MPNetForSequenceClassification were not initialized from the model checkpoint at microsoft/mpnet-base and are newly initialized: ['classifier.dense.bias', 'classifier.dense.weight', 'classifier.out_proj.bias', 'classifier.out_proj.weight']\n",
      "You should probably TRAIN this model on a down-stream task to be able to use it for predictions and inference.\n"
     ]
    },
    {
     "data": {
      "text/html": [
       "\n",
       "    <div>\n",
       "      \n",
       "      <progress value='1062' max='1062' style='width:300px; height:20px; vertical-align: middle;'></progress>\n",
       "      [1062/1062 10:15, Epoch 3/3]\n",
       "    </div>\n",
       "    <table border=\"1\" class=\"dataframe\">\n",
       "  <thead>\n",
       " <tr style=\"text-align: left;\">\n",
       "      <th>Epoch</th>\n",
       "      <th>Training Loss</th>\n",
       "      <th>Validation Loss</th>\n",
       "      <th>Rmse</th>\n",
       "    </tr>\n",
       "  </thead>\n",
       "  <tbody>\n",
       "    <tr>\n",
       "      <td>1</td>\n",
       "      <td>No log</td>\n",
       "      <td>0.218436</td>\n",
       "      <td>0.467372</td>\n",
       "    </tr>\n",
       "    <tr>\n",
       "      <td>2</td>\n",
       "      <td>0.492300</td>\n",
       "      <td>0.150146</td>\n",
       "      <td>0.387487</td>\n",
       "    </tr>\n",
       "    <tr>\n",
       "      <td>3</td>\n",
       "      <td>0.159700</td>\n",
       "      <td>0.155948</td>\n",
       "      <td>0.394902</td>\n",
       "    </tr>\n",
       "  </tbody>\n",
       "</table><p>"
      ],
      "text/plain": [
       "<IPython.core.display.HTML object>"
      ]
     },
     "metadata": {},
     "output_type": "display_data"
    },
    {
     "name": "stderr",
     "output_type": "stream",
     "text": [
      "Checkpoint destination directory mpnet-base-finetuned-suicide_risk/run-4/checkpoint-354 already exists and is non-empty. Saving will proceed but saved results may be invalid.\n",
      "Checkpoint destination directory mpnet-base-finetuned-suicide_risk/run-4/checkpoint-708 already exists and is non-empty. Saving will proceed but saved results may be invalid.\n",
      "Checkpoint destination directory mpnet-base-finetuned-suicide_risk/run-4/checkpoint-1062 already exists and is non-empty. Saving will proceed but saved results may be invalid.\n",
      "[I 2024-03-28 16:10:38,843] Trial 4 finished with value: 0.3949021100997925 and parameters: {'learning_rate': 1.1349462823973957e-05, 'num_train_epochs': 3, 'weight_decay': 0.000303520685423569}. Best is trial 4 with value: 0.3949021100997925.\n",
      "Detected kernel version 4.18.0, which is below the recommended minimum of 5.5.0; this can cause the process to hang. It is recommended to upgrade the kernel to the minimum version or higher.\n",
      "Some weights of MPNetForSequenceClassification were not initialized from the model checkpoint at microsoft/mpnet-base and are newly initialized: ['classifier.dense.bias', 'classifier.dense.weight', 'classifier.out_proj.bias', 'classifier.out_proj.weight']\n",
      "You should probably TRAIN this model on a down-stream task to be able to use it for predictions and inference.\n"
     ]
    },
    {
     "data": {
      "text/html": [
       "\n",
       "    <div>\n",
       "      \n",
       "      <progress value='708' max='1416' style='width:300px; height:20px; vertical-align: middle;'></progress>\n",
       "      [ 708/1416 06:44 < 06:45, 1.75 it/s, Epoch 2/4]\n",
       "    </div>\n",
       "    <table border=\"1\" class=\"dataframe\">\n",
       "  <thead>\n",
       " <tr style=\"text-align: left;\">\n",
       "      <th>Epoch</th>\n",
       "      <th>Training Loss</th>\n",
       "      <th>Validation Loss</th>\n",
       "      <th>Rmse</th>\n",
       "    </tr>\n",
       "  </thead>\n",
       "  <tbody>\n",
       "    <tr>\n",
       "      <td>1</td>\n",
       "      <td>No log</td>\n",
       "      <td>0.225077</td>\n",
       "      <td>0.474423</td>\n",
       "    </tr>\n",
       "    <tr>\n",
       "      <td>2</td>\n",
       "      <td>0.437900</td>\n",
       "      <td>0.191688</td>\n",
       "      <td>0.437821</td>\n",
       "    </tr>\n",
       "  </tbody>\n",
       "</table><p>"
      ],
      "text/plain": [
       "<IPython.core.display.HTML object>"
      ]
     },
     "metadata": {},
     "output_type": "display_data"
    },
    {
     "name": "stderr",
     "output_type": "stream",
     "text": [
      "Checkpoint destination directory mpnet-base-finetuned-suicide_risk/run-5/checkpoint-354 already exists and is non-empty. Saving will proceed but saved results may be invalid.\n",
      "[I 2024-03-28 16:17:25,792] Trial 5 pruned. \n",
      "Detected kernel version 4.18.0, which is below the recommended minimum of 5.5.0; this can cause the process to hang. It is recommended to upgrade the kernel to the minimum version or higher.\n",
      "Some weights of MPNetForSequenceClassification were not initialized from the model checkpoint at microsoft/mpnet-base and are newly initialized: ['classifier.dense.bias', 'classifier.dense.weight', 'classifier.out_proj.bias', 'classifier.out_proj.weight']\n",
      "You should probably TRAIN this model on a down-stream task to be able to use it for predictions and inference.\n"
     ]
    },
    {
     "data": {
      "text/html": [
       "\n",
       "    <div>\n",
       "      \n",
       "      <progress value='1062' max='1062' style='width:300px; height:20px; vertical-align: middle;'></progress>\n",
       "      [1062/1062 10:13, Epoch 3/3]\n",
       "    </div>\n",
       "    <table border=\"1\" class=\"dataframe\">\n",
       "  <thead>\n",
       " <tr style=\"text-align: left;\">\n",
       "      <th>Epoch</th>\n",
       "      <th>Training Loss</th>\n",
       "      <th>Validation Loss</th>\n",
       "      <th>Rmse</th>\n",
       "    </tr>\n",
       "  </thead>\n",
       "  <tbody>\n",
       "    <tr>\n",
       "      <td>1</td>\n",
       "      <td>No log</td>\n",
       "      <td>0.205805</td>\n",
       "      <td>0.453657</td>\n",
       "    </tr>\n",
       "    <tr>\n",
       "      <td>2</td>\n",
       "      <td>0.500400</td>\n",
       "      <td>0.159412</td>\n",
       "      <td>0.399264</td>\n",
       "    </tr>\n",
       "    <tr>\n",
       "      <td>3</td>\n",
       "      <td>0.157200</td>\n",
       "      <td>0.154902</td>\n",
       "      <td>0.393576</td>\n",
       "    </tr>\n",
       "  </tbody>\n",
       "</table><p>"
      ],
      "text/plain": [
       "<IPython.core.display.HTML object>"
      ]
     },
     "metadata": {},
     "output_type": "display_data"
    },
    {
     "name": "stderr",
     "output_type": "stream",
     "text": [
      "Checkpoint destination directory mpnet-base-finetuned-suicide_risk/run-6/checkpoint-354 already exists and is non-empty. Saving will proceed but saved results may be invalid.\n",
      "[I 2024-03-28 16:27:42,332] Trial 6 finished with value: 0.3935762643814087 and parameters: {'learning_rate': 1.0017951287372113e-05, 'num_train_epochs': 3, 'weight_decay': 3.5427810578107833e-06}. Best is trial 6 with value: 0.3935762643814087.\n",
      "Detected kernel version 4.18.0, which is below the recommended minimum of 5.5.0; this can cause the process to hang. It is recommended to upgrade the kernel to the minimum version or higher.\n",
      "Some weights of MPNetForSequenceClassification were not initialized from the model checkpoint at microsoft/mpnet-base and are newly initialized: ['classifier.dense.bias', 'classifier.dense.weight', 'classifier.out_proj.bias', 'classifier.out_proj.weight']\n",
      "You should probably TRAIN this model on a down-stream task to be able to use it for predictions and inference.\n"
     ]
    },
    {
     "data": {
      "text/html": [
       "\n",
       "    <div>\n",
       "      \n",
       "      <progress value='354' max='1062' style='width:300px; height:20px; vertical-align: middle;'></progress>\n",
       "      [ 354/1062 03:20 < 06:42, 1.76 it/s, Epoch 1/3]\n",
       "    </div>\n",
       "    <table border=\"1\" class=\"dataframe\">\n",
       "  <thead>\n",
       " <tr style=\"text-align: left;\">\n",
       "      <th>Epoch</th>\n",
       "      <th>Training Loss</th>\n",
       "      <th>Validation Loss</th>\n",
       "      <th>Rmse</th>\n",
       "    </tr>\n",
       "  </thead>\n",
       "  <tbody>\n",
       "    <tr>\n",
       "      <td>1</td>\n",
       "      <td>No log</td>\n",
       "      <td>0.850278</td>\n",
       "      <td>0.922105</td>\n",
       "    </tr>\n",
       "  </tbody>\n",
       "</table><p>"
      ],
      "text/plain": [
       "<IPython.core.display.HTML object>"
      ]
     },
     "metadata": {},
     "output_type": "display_data"
    },
    {
     "name": "stderr",
     "output_type": "stream",
     "text": [
      "[I 2024-03-28 16:31:04,345] Trial 7 pruned. \n",
      "Detected kernel version 4.18.0, which is below the recommended minimum of 5.5.0; this can cause the process to hang. It is recommended to upgrade the kernel to the minimum version or higher.\n",
      "Some weights of MPNetForSequenceClassification were not initialized from the model checkpoint at microsoft/mpnet-base and are newly initialized: ['classifier.dense.bias', 'classifier.dense.weight', 'classifier.out_proj.bias', 'classifier.out_proj.weight']\n",
      "You should probably TRAIN this model on a down-stream task to be able to use it for predictions and inference.\n"
     ]
    },
    {
     "data": {
      "text/html": [
       "\n",
       "    <div>\n",
       "      \n",
       "      <progress value='354' max='1770' style='width:300px; height:20px; vertical-align: middle;'></progress>\n",
       "      [ 354/1770 03:20 < 13:27, 1.75 it/s, Epoch 1/5]\n",
       "    </div>\n",
       "    <table border=\"1\" class=\"dataframe\">\n",
       "  <thead>\n",
       " <tr style=\"text-align: left;\">\n",
       "      <th>Epoch</th>\n",
       "      <th>Training Loss</th>\n",
       "      <th>Validation Loss</th>\n",
       "      <th>Rmse</th>\n",
       "    </tr>\n",
       "  </thead>\n",
       "  <tbody>\n",
       "    <tr>\n",
       "      <td>1</td>\n",
       "      <td>No log</td>\n",
       "      <td>0.521057</td>\n",
       "      <td>0.721843</td>\n",
       "    </tr>\n",
       "  </tbody>\n",
       "</table><p>"
      ],
      "text/plain": [
       "<IPython.core.display.HTML object>"
      ]
     },
     "metadata": {},
     "output_type": "display_data"
    },
    {
     "name": "stderr",
     "output_type": "stream",
     "text": [
      "[I 2024-03-28 16:34:26,586] Trial 8 pruned. \n",
      "Detected kernel version 4.18.0, which is below the recommended minimum of 5.5.0; this can cause the process to hang. It is recommended to upgrade the kernel to the minimum version or higher.\n",
      "Some weights of MPNetForSequenceClassification were not initialized from the model checkpoint at microsoft/mpnet-base and are newly initialized: ['classifier.dense.bias', 'classifier.dense.weight', 'classifier.out_proj.bias', 'classifier.out_proj.weight']\n",
      "You should probably TRAIN this model on a down-stream task to be able to use it for predictions and inference.\n"
     ]
    },
    {
     "data": {
      "text/html": [
       "\n",
       "    <div>\n",
       "      \n",
       "      <progress value='354' max='708' style='width:300px; height:20px; vertical-align: middle;'></progress>\n",
       "      [354/708 03:20 < 03:21, 1.76 it/s, Epoch 1/2]\n",
       "    </div>\n",
       "    <table border=\"1\" class=\"dataframe\">\n",
       "  <thead>\n",
       " <tr style=\"text-align: left;\">\n",
       "      <th>Epoch</th>\n",
       "      <th>Training Loss</th>\n",
       "      <th>Validation Loss</th>\n",
       "      <th>Rmse</th>\n",
       "    </tr>\n",
       "  </thead>\n",
       "  <tbody>\n",
       "    <tr>\n",
       "      <td>1</td>\n",
       "      <td>No log</td>\n",
       "      <td>0.966860</td>\n",
       "      <td>0.983290</td>\n",
       "    </tr>\n",
       "  </tbody>\n",
       "</table><p>"
      ],
      "text/plain": [
       "<IPython.core.display.HTML object>"
      ]
     },
     "metadata": {},
     "output_type": "display_data"
    },
    {
     "name": "stderr",
     "output_type": "stream",
     "text": [
      "[I 2024-03-28 16:37:53,997] Trial 9 pruned. \n",
      "Detected kernel version 4.18.0, which is below the recommended minimum of 5.5.0; this can cause the process to hang. It is recommended to upgrade the kernel to the minimum version or higher.\n"
     ]
    },
    {
     "name": "stdout",
     "output_type": "stream",
     "text": [
      "==== best run: BestRun(run_id='6', objective=0.3935762643814087, hyperparameters={'learning_rate': 1.0017951287372113e-05, 'num_train_epochs': 3, 'weight_decay': 3.5427810578107833e-06}, run_summary=None)\n",
      "\n"
     ]
    },
    {
     "name": "stderr",
     "output_type": "stream",
     "text": [
      "Some weights of MPNetForSequenceClassification were not initialized from the model checkpoint at microsoft/mpnet-base and are newly initialized: ['classifier.dense.bias', 'classifier.dense.weight', 'classifier.out_proj.bias', 'classifier.out_proj.weight']\n",
      "You should probably TRAIN this model on a down-stream task to be able to use it for predictions and inference.\n",
      "Some weights of MPNetForSequenceClassification were not initialized from the model checkpoint at microsoft/mpnet-base and are newly initialized: ['classifier.dense.bias', 'classifier.dense.weight', 'classifier.out_proj.bias', 'classifier.out_proj.weight']\n",
      "You should probably TRAIN this model on a down-stream task to be able to use it for predictions and inference.\n"
     ]
    },
    {
     "data": {
      "text/html": [
       "\n",
       "    <div>\n",
       "      \n",
       "      <progress value='1062' max='1062' style='width:300px; height:20px; vertical-align: middle;'></progress>\n",
       "      [1062/1062 10:13, Epoch 3/3]\n",
       "    </div>\n",
       "    <table border=\"1\" class=\"dataframe\">\n",
       "  <thead>\n",
       " <tr style=\"text-align: left;\">\n",
       "      <th>Epoch</th>\n",
       "      <th>Training Loss</th>\n",
       "      <th>Validation Loss</th>\n",
       "      <th>Rmse</th>\n",
       "    </tr>\n",
       "  </thead>\n",
       "  <tbody>\n",
       "    <tr>\n",
       "      <td>1</td>\n",
       "      <td>No log</td>\n",
       "      <td>0.205805</td>\n",
       "      <td>0.453657</td>\n",
       "    </tr>\n",
       "    <tr>\n",
       "      <td>2</td>\n",
       "      <td>0.500400</td>\n",
       "      <td>0.159412</td>\n",
       "      <td>0.399264</td>\n",
       "    </tr>\n",
       "    <tr>\n",
       "      <td>3</td>\n",
       "      <td>0.157200</td>\n",
       "      <td>0.154902</td>\n",
       "      <td>0.393576</td>\n",
       "    </tr>\n",
       "  </tbody>\n",
       "</table><p>"
      ],
      "text/plain": [
       "<IPython.core.display.HTML object>"
      ]
     },
     "metadata": {},
     "output_type": "display_data"
    },
    {
     "name": "stderr",
     "output_type": "stream",
     "text": [
      "Checkpoint destination directory mpnet-base-finetuned-suicide_risk/checkpoint-354 already exists and is non-empty. Saving will proceed but saved results may be invalid.\n",
      "Checkpoint destination directory mpnet-base-finetuned-suicide_risk/checkpoint-708 already exists and is non-empty. Saving will proceed but saved results may be invalid.\n",
      "Checkpoint destination directory mpnet-base-finetuned-suicide_risk/checkpoint-1062 already exists and is non-empty. Saving will proceed but saved results may be invalid.\n"
     ]
    },
    {
     "name": "stdout",
     "output_type": "stream",
     "text": [
      "CPU times: user 1h 36min 9s, sys: 58.7 s, total: 1h 37min 7s\n",
      "Wall time: 1h 36min 11s\n"
     ]
    }
   ],
   "source": [
    "%%time\n",
    "\n",
    "encoded_train_set = encoded_dataset[\"train\"]\n",
    "encoded_val_set = encoded_dataset[validation_key]\n",
    "\n",
    "if do_hyperparameter_search:\n",
    "    if hyperparameter_shards:\n",
    "        encoded_train_dataset_shards = encoded_train_set.shard(index=1, num_shards=hyperparameter_shards)\n",
    "        trainer = define_trainer(encoded_train_dataset_shards, encoded_val_set, model=model, model_init=model_init , compute_metrics = compute_metrics,imbalanced=imbalanced)\n",
    "    else:\n",
    "        trainer = define_trainer(encoded_train_set, encoded_val_set, model=model, model_init=model_init , compute_metrics = compute_metrics,imbalanced=imbalanced)\n",
    "    best_run = trainer.hyperparameter_search(n_trials=hyperparameter_search_n_trials,\n",
    "                                             direction=hyperparameter_search_direction,\n",
    "                                             backend='optuna',\n",
    "                                             hp_space = optuna_hp_space, # or will use default hp_space for whatever the backend is\n",
    "                                             )\n",
    "    print('==== best run:', best_run)\n",
    "    print()\n",
    "    \n",
    "#TODO: Use define_trainer() if custom_trainer is used   \n",
    "trainer = Trainer(\n",
    "    model = model,\n",
    "    model_init = model_init,\n",
    "    args = args,\n",
    "    train_dataset=encoded_train_set,\n",
    "    eval_dataset=encoded_val_set,\n",
    "    tokenizer=tokenizer,\n",
    "  compute_metrics=compute_metrics,\n",
    ")\n",
    "\n",
    "# Set best params\n",
    "for n, v in best_run.hyperparameters.items():\n",
    "     setattr(trainer.args, n, v)\n",
    "\n",
    "# Retrain with best params (not sure this is necessary if I use an external val set)\n",
    "trainer.train()\n",
    "\n",
    "\n",
    "ts_i = datetime.datetime.utcnow().strftime('%y-%m-%dT%H-%M-%S')\n",
    "\n",
    "if toy:\n",
    "  output_dir_i = output_dir + f'results_{ts_i}_toy/'\n",
    "else:\n",
    "  output_dir_i = output_dir + f'results_{ts_i}/'\n",
    "os.makedirs(output_dir_i, exist_ok=True)\n",
    "\n",
    "trainer.save_model(output_dir_i)\n",
    "# trainer.push_to_hub() # need to have added token above in TrainingArguments()\n"
   ]
  },
  {
   "cell_type": "code",
   "execution_count": 35,
   "metadata": {},
   "outputs": [],
   "source": [
    "if toy:\n",
    "  output_dir_i = output_dir + f'results_{ts_i}_toy/'\n",
    "else:\n",
    "  output_dir_i = output_dir + f'results_{ts_i}/'\n",
    "os.makedirs(output_dir_i, exist_ok=True)\n",
    "\n",
    "trainer.save_model(output_dir_i)"
   ]
  },
  {
   "cell_type": "code",
   "execution_count": 36,
   "metadata": {},
   "outputs": [
    {
     "data": {
      "text/plain": [
       "'/home/dlow/datum/lexicon/data/output/mpnet/'"
      ]
     },
     "execution_count": 36,
     "metadata": {},
     "output_type": "execute_result"
    }
   ],
   "source": [
    "output_dir"
   ]
  },
  {
   "cell_type": "code",
   "execution_count": 37,
   "metadata": {},
   "outputs": [
    {
     "data": {
      "text/plain": [
       "'/home/dlow/datum/lexicon/data/output/mpnet/results_24-03-28T20-48-09/'"
      ]
     },
     "execution_count": 37,
     "metadata": {},
     "output_type": "execute_result"
    }
   ],
   "source": [
    "output_dir_i"
   ]
  },
  {
   "cell_type": "code",
   "execution_count": 38,
   "metadata": {},
   "outputs": [
    {
     "data": {
      "text/plain": [
       "TrainingArguments(\n",
       "_n_gpu=1,\n",
       "accelerator_config={'split_batches': False, 'dispatch_batches': None, 'even_batches': True, 'use_seedable_sampler': True},\n",
       "adafactor=False,\n",
       "adam_beta1=0.9,\n",
       "adam_beta2=0.999,\n",
       "adam_epsilon=1e-08,\n",
       "auto_find_batch_size=False,\n",
       "bf16=False,\n",
       "bf16_full_eval=False,\n",
       "data_seed=None,\n",
       "dataloader_drop_last=False,\n",
       "dataloader_num_workers=0,\n",
       "dataloader_persistent_workers=False,\n",
       "dataloader_pin_memory=True,\n",
       "dataloader_prefetch_factor=None,\n",
       "ddp_backend=None,\n",
       "ddp_broadcast_buffers=None,\n",
       "ddp_bucket_cap_mb=None,\n",
       "ddp_find_unused_parameters=None,\n",
       "ddp_timeout=1800,\n",
       "debug=[],\n",
       "deepspeed=None,\n",
       "disable_tqdm=False,\n",
       "dispatch_batches=None,\n",
       "do_eval=True,\n",
       "do_predict=False,\n",
       "do_train=False,\n",
       "eval_accumulation_steps=None,\n",
       "eval_delay=0,\n",
       "eval_steps=None,\n",
       "evaluation_strategy=epoch,\n",
       "fp16=False,\n",
       "fp16_backend=auto,\n",
       "fp16_full_eval=False,\n",
       "fp16_opt_level=O1,\n",
       "fsdp=[],\n",
       "fsdp_config={'min_num_params': 0, 'xla': False, 'xla_fsdp_v2': False, 'xla_fsdp_grad_ckpt': False},\n",
       "fsdp_min_num_params=0,\n",
       "fsdp_transformer_layer_cls_to_wrap=None,\n",
       "full_determinism=False,\n",
       "gradient_accumulation_steps=1,\n",
       "gradient_checkpointing=False,\n",
       "gradient_checkpointing_kwargs=None,\n",
       "greater_is_better=True,\n",
       "group_by_length=False,\n",
       "half_precision_backend=auto,\n",
       "hub_always_push=False,\n",
       "hub_model_id=None,\n",
       "hub_private_repo=False,\n",
       "hub_strategy=every_save,\n",
       "hub_token=<HUB_TOKEN>,\n",
       "ignore_data_skip=False,\n",
       "include_inputs_for_metrics=False,\n",
       "include_num_input_tokens_seen=False,\n",
       "include_tokens_per_second=False,\n",
       "jit_mode_eval=False,\n",
       "label_names=None,\n",
       "label_smoothing_factor=0.0,\n",
       "learning_rate=1.0017951287372113e-05,\n",
       "length_column_name=length,\n",
       "load_best_model_at_end=True,\n",
       "local_rank=0,\n",
       "log_level=passive,\n",
       "log_level_replica=warning,\n",
       "log_on_each_node=True,\n",
       "logging_dir=mpnet-base-finetuned-suicide_risk/runs/Mar28_15-11-59_node088,\n",
       "logging_first_step=False,\n",
       "logging_nan_inf_filter=True,\n",
       "logging_steps=500,\n",
       "logging_strategy=steps,\n",
       "lr_scheduler_kwargs={},\n",
       "lr_scheduler_type=linear,\n",
       "max_grad_norm=1.0,\n",
       "max_steps=-1,\n",
       "metric_for_best_model=rmse,\n",
       "mp_parameters=,\n",
       "neftune_noise_alpha=None,\n",
       "no_cuda=False,\n",
       "num_train_epochs=3,\n",
       "optim=adamw_torch,\n",
       "optim_args=None,\n",
       "output_dir=mpnet-base-finetuned-suicide_risk,\n",
       "overwrite_output_dir=False,\n",
       "past_index=-1,\n",
       "per_device_eval_batch_size=16,\n",
       "per_device_train_batch_size=16,\n",
       "prediction_loss_only=False,\n",
       "push_to_hub=False,\n",
       "push_to_hub_model_id=None,\n",
       "push_to_hub_organization=None,\n",
       "push_to_hub_token=<PUSH_TO_HUB_TOKEN>,\n",
       "ray_scope=last,\n",
       "remove_unused_columns=True,\n",
       "report_to=[],\n",
       "resume_from_checkpoint=None,\n",
       "run_name=mpnet-base-finetuned-suicide_risk,\n",
       "save_on_each_node=False,\n",
       "save_only_model=False,\n",
       "save_safetensors=True,\n",
       "save_steps=500,\n",
       "save_strategy=epoch,\n",
       "save_total_limit=None,\n",
       "seed=42,\n",
       "skip_memory_metrics=True,\n",
       "split_batches=None,\n",
       "tf32=None,\n",
       "torch_compile=False,\n",
       "torch_compile_backend=None,\n",
       "torch_compile_mode=None,\n",
       "torchdynamo=None,\n",
       "tpu_metrics_debug=False,\n",
       "tpu_num_cores=None,\n",
       "use_cpu=False,\n",
       "use_ipex=False,\n",
       "use_legacy_prediction_loop=False,\n",
       "use_mps_device=False,\n",
       "warmup_ratio=0.0,\n",
       "warmup_steps=0,\n",
       "weight_decay=3.5427810578107833e-06,\n",
       ")"
      ]
     },
     "execution_count": 38,
     "metadata": {},
     "output_type": "execute_result"
    }
   ],
   "source": [
    "trainer.args"
   ]
  },
  {
   "cell_type": "code",
   "execution_count": 39,
   "metadata": {
    "id": "_78MUpiQHuo0"
   },
   "outputs": [],
   "source": [
    "# # Load\n",
    "# from transformers import AutoModel, AutoConfig\n",
    "# config = AutoModelForSequenceClassification.from_pretrained(output_dir_i)\n",
    "# model = AutoModelForSequenceClassification.from_pretrained(output_dir_i, config=config)"
   ]
  },
  {
   "cell_type": "code",
   "execution_count": 40,
   "metadata": {
    "id": "_ZxLA15SJ6vp"
   },
   "outputs": [],
   "source": [
    "# model = AutoModelForSequenceClassification.from_pretrained(model_checkpoint, num_labels=num_labels)\n",
    "# model_init=None\n",
    "\n",
    "\n",
    "# trainer = define_trainer(encoded_train_set, encoded_val_set, model=model, model_init=model_init, compute_metrics = compute_metrics, imbalanced = imbalanced)"
   ]
  },
  {
   "cell_type": "code",
   "execution_count": 41,
   "metadata": {
    "id": "8tXaD9d5GVdb"
   },
   "outputs": [],
   "source": [
    "# best_params = f\"weight_decay: {trainer.args.weight_decay}; num_train_epochs: {trainer.args.num_train_epochs}; learning_rate: {trainer.args.learning_rate}\"\n",
    "# best_params = \"weight_decay: 6.8120818721882775e-06; num_train_epochs: 4; learning_rate: 1.094605203258915e-06\"\n",
    "# best_params\n"
   ]
  },
  {
   "cell_type": "code",
   "execution_count": 42,
   "metadata": {},
   "outputs": [
    {
     "data": {
      "text/plain": [
       "\"[('learning_rate', 1.0017951287372113e-05), ('num_train_epochs', 3), ('weight_decay', 3.5427810578107833e-06)]\""
      ]
     },
     "execution_count": 42,
     "metadata": {},
     "output_type": "execute_result"
    }
   ],
   "source": [
    "best_params = str(list(best_run.hyperparameters.items()))\n",
    "best_params"
   ]
  },
  {
   "cell_type": "markdown",
   "metadata": {
    "id": "f_9N-YlXJYli"
   },
   "source": [
    "The best run was:\n",
    "\"[('learning_rate', 4.679949099914192e-05), ('num_train_epochs', 3), ('weight_decay', 1.0321016997943303e-10)]\"\n",
    "\n"
   ]
  },
  {
   "cell_type": "markdown",
   "metadata": {
    "id": "WXL9GD5z0d7z"
   },
   "source": [
    "# Evaluate on test set"
   ]
  },
  {
   "cell_type": "code",
   "execution_count": 43,
   "metadata": {
    "id": "HePLtETwCP8w"
   },
   "outputs": [
    {
     "data": {
      "text/html": [],
      "text/plain": [
       "<IPython.core.display.HTML object>"
      ]
     },
     "metadata": {},
     "output_type": "display_data"
    },
    {
     "data": {
      "text/html": [
       "<div>\n",
       "<style scoped>\n",
       "    .dataframe tbody tr th:only-of-type {\n",
       "        vertical-align: middle;\n",
       "    }\n",
       "\n",
       "    .dataframe tbody tr th {\n",
       "        vertical-align: top;\n",
       "    }\n",
       "\n",
       "    .dataframe thead th {\n",
       "        text-align: right;\n",
       "    }\n",
       "</style>\n",
       "<table border=\"1\" class=\"dataframe\">\n",
       "  <thead>\n",
       "    <tr style=\"text-align: right;\">\n",
       "      <th></th>\n",
       "      <th>Features</th>\n",
       "      <th>Estimator</th>\n",
       "      <th>n</th>\n",
       "      <th>y_train_min</th>\n",
       "      <th>y_train_max</th>\n",
       "      <th>RMSE</th>\n",
       "      <th>MAE</th>\n",
       "      <th>R^2</th>\n",
       "      <th>r</th>\n",
       "      <th>rho</th>\n",
       "      <th>gridsearch</th>\n",
       "      <th>Best parameters</th>\n",
       "      <th>RMSE per value</th>\n",
       "      <th>MAE per value</th>\n",
       "      <th>Macro avg. RMSE</th>\n",
       "      <th>Macro avg. MAE</th>\n",
       "    </tr>\n",
       "  </thead>\n",
       "  <tbody>\n",
       "    <tr>\n",
       "      <th>mpnet-base</th>\n",
       "      <td>None</td>\n",
       "      <td>mpnet-base</td>\n",
       "      <td>weight_decay</td>\n",
       "      <td>1.0</td>\n",
       "      <td>3.0</td>\n",
       "      <td>0.52</td>\n",
       "      <td>0.35</td>\n",
       "      <td>-0.23</td>\n",
       "      <td>0.68</td>\n",
       "      <td>0.59</td>\n",
       "      <td>True</td>\n",
       "      <td>[('learning_rate', 1.0017951287372113e-05), ('...</td>\n",
       "      <td>[0.52, 0.54, 0.32]</td>\n",
       "      <td>[0.32, 0.48, 0.26]</td>\n",
       "      <td>0.46</td>\n",
       "      <td>0.35</td>\n",
       "    </tr>\n",
       "  </tbody>\n",
       "</table>\n",
       "</div>"
      ],
      "text/plain": [
       "           Features   Estimator             n  y_train_min  y_train_max  RMSE  \\\n",
       "mpnet-base     None  mpnet-base  weight_decay          1.0          3.0  0.52   \n",
       "\n",
       "             MAE   R^2     r   rho  gridsearch  \\\n",
       "mpnet-base  0.35 -0.23  0.68  0.59        True   \n",
       "\n",
       "                                              Best parameters  \\\n",
       "mpnet-base  [('learning_rate', 1.0017951287372113e-05), ('...   \n",
       "\n",
       "                RMSE per value       MAE per value Macro avg. RMSE  \\\n",
       "mpnet-base  [0.52, 0.54, 0.32]  [0.32, 0.48, 0.26]            0.46   \n",
       "\n",
       "           Macro avg. MAE  \n",
       "mpnet-base           0.35  "
      ]
     },
     "metadata": {},
     "output_type": "display_data"
    },
    {
     "data": {
      "text/plain": [
       "<Figure size 640x480 with 0 Axes>"
      ]
     },
     "metadata": {},
     "output_type": "display_data"
    },
    {
     "data": {
      "image/png": "[encoded data removed]",
      "text/plain": [
       "<Figure size 400x800 with 1 Axes>"
      ]
     },
     "metadata": {},
     "output_type": "display_data"
    }
   ],
   "source": [
    "import datetime\n",
    "\n",
    "\n",
    "results = []\n",
    "\n",
    "\n",
    "\n",
    "\n",
    "# Regression\n",
    "if regression:\n",
    "  feature_vector = None\n",
    "  gridsearch = True\n",
    "\n",
    "  y_pred = trainer.predict(test_dataset=encoded_dataset[\"test\"]).predictions\n",
    "  y_pred = y_pred.reshape(1,-1)[0]\n",
    "\n",
    "\n",
    "  y_pred_df = pd.DataFrame(y_pred)\n",
    "  y_pred_df.to_csv(output_dir_i+f'y_pred_{model_name}_gridsearch-{gridsearch}_{ts_i}.csv', index=False)\n",
    "  path = output_dir_i + f'scatter_{model_name}_gridsearch-{gridsearch}_{ts_i}'\n",
    "\n",
    "  # Performance\n",
    "  results_i =regression_report(y_test,y_pred,y_train=y_train,\n",
    "                              metrics_to_report = metrics_to_report,\n",
    "                                gridsearch=gridsearch,\n",
    "                              best_params=best_params,feature_vector=feature_vector,model_name=model_name, n=n, plot = True, save_fig_path = path, round_to = 2)\n",
    "\n",
    "\n",
    "\n",
    "\n",
    "  results_i.to_csv(output_dir_i + f'results_{model_name}_gridsearch-{gridsearch}_{ts_i}.csv')\n",
    "  display(results_i)\n",
    "  results.append(results_i)\n",
    "  results_df = pd.concat(results)\n",
    "  results_df = results_df.reset_index(drop=True)\n",
    "  results_df.to_csv(output_dir_i + f'results_{ts_i}.csv', index=False)\n",
    "\n",
    "else:\n",
    "  # Classification\n",
    "  y_pred_proba = trainer.predict(test_dataset=encoded_dataset[\"test\"]).predictions\n",
    "\n",
    "  y_pred_proba = np.array(y_pred_proba)\n",
    "  y_pred_proba_1 = y_pred_proba[:,1]\n",
    "  y_pred = [np.argmax(n) for n in y_pred_proba]\n",
    "\n",
    "  test['y_pred_proba_0'] = y_pred_proba[:,0]\n",
    "  test['y_pred_proba_1'] = y_pred_proba[:,1]\n",
    "  test['y_pred'] = y_pred\n",
    "\n",
    "\n",
    "  test.to_csv(output_dir_i+'test_predictions.csv', index=False)\n",
    "\n",
    "  # y_pred = [int(np.argmax(n)) for n in y_pred_proba]\n",
    "  print(metrics.classification_report(y_pred=y_pred, y_true=y_test))\n",
    "  results = {}\n",
    "\n",
    "  clf_report_sklearn = metrics.classification_report(y_test,y_pred, output_dict=False) #evaluate #different than the output of cross_validate() above.\n",
    "  cm_df_meaning, cm_df, cm_df_norm = metrics_report_cm(y_test, y_pred, output_dir_results, model_name, ts, save=True)\n",
    "  clf_report = metrics_report_classification_report(y_test,y_pred,y_pred_proba_1, output_dir_results, model_name, ts)\n",
    "  # scores = cross_validate(pipe, X, y, scoring=['f1','precision', 'recall'], cv=cv, return_train_score=False) #train and evaluate\n",
    "  results[model_name] = {\n",
    "      'clf_report': clf_report,\n",
    "      'cm_df_meaning': cm_df_meaning,\n",
    "      'cm_df': cm_df,\n",
    "      'cm_df_norm': cm_df_norm,\n",
    "      'clf_report_sklearn': clf_report_sklearn\n",
    "\n",
    "  }\n",
    "  for k, v in results.get(model_name).items():\n",
    "    print(k)\n",
    "    if k != 'clf_report_sklearn':\n",
    "      display(v)\n",
    "    else:\n",
    "      print(v)\n",
    "    print()\n"
   ]
  },
  {
   "cell_type": "code",
   "execution_count": 44,
   "metadata": {
    "id": "mUw_6WnFIypk"
   },
   "outputs": [],
   "source": [
    "# trainer.evaluate(eval_dataset=encoded_dataset[\"test\"])\n",
    "# trainer.evaluate() # this is done on the validation set specificed in the Trainer()"
   ]
  },
  {
   "cell_type": "code",
   "execution_count": 45,
   "metadata": {
    "id": "kQprbY6aBd99"
   },
   "outputs": [],
   "source": [
    "# load model:\n",
    "#  - https://discuss.huggingface.co/t/how-to-save-my-model-to-use-it-later/20568/6\n",
    "# - model = AutoModelForSequenceClassification.from_pretrained(model_checkpoint, num_labels=num_labels)\n",
    "# - then just load the trainer, but instead of training you just predict (here I'm training to fine tune, but if we load the fine tuned model , there's no need)\n",
    "\n",
    "\n"
   ]
  }
 ],
 "metadata": {
  "accelerator": "GPU",
  "colab": {
   "gpuType": "T4",
   "provenance": []
  },
  "kernelspec": {
   "display_name": "Python 3 (ipykernel)",
   "language": "python",
   "name": "python3"
  },
  "language_info": {
   "codemirror_mode": {
    "name": "ipython",
    "version": 3
   },
   "file_extension": ".py",
   "mimetype": "text/x-python",
   "name": "python",
   "nbconvert_exporter": "python",
   "pygments_lexer": "ipython3",
   "version": "3.10.12"
  },
  "widgets": {
   "application/vnd.jupyter.widget-state+json": {
    "06485c02911746eaa33d042af7bee3bb": {
     "model_module": "@jupyter-widgets/base",
     "model_module_version": "1.2.0",
     "model_name": "LayoutModel",
     "state": {
      "_model_module": "@jupyter-widgets/base",
      "_model_module_version": "1.2.0",
      "_model_name": "LayoutModel",
      "_view_count": null,
      "_view_module": "@jupyter-widgets/base",
      "_view_module_version": "1.2.0",
      "_view_name": "LayoutView",
      "align_content": null,
      "align_items": null,
      "align_self": null,
      "border": null,
      "bottom": null,
      "display": null,
      "flex": null,
      "flex_flow": null,
      "grid_area": null,
      "grid_auto_columns": null,
      "grid_auto_flow": null,
      "grid_auto_rows": null,
      "grid_column": null,
      "grid_gap": null,
      "grid_row": null,
      "grid_template_areas": null,
      "grid_template_columns": null,
      "grid_template_rows": null,
      "height": null,
      "justify_content": null,
      "justify_items": null,
      "left": null,
      "margin": null,
      "max_height": null,
      "max_width": null,
      "min_height": null,
      "min_width": null,
      "object_fit": null,
      "object_position": null,
      "order": null,
      "overflow": null,
      "overflow_x": null,
      "overflow_y": null,
      "padding": null,
      "right": null,
      "top": null,
      "visibility": null,
      "width": null
     }
    },
    "0765ece58edd46d0926273a2d0d6de2e": {
     "model_module": "@jupyter-widgets/base",
     "model_module_version": "1.2.0",
     "model_name": "LayoutModel",
     "state": {
      "_model_module": "@jupyter-widgets/base",
      "_model_module_version": "1.2.0",
      "_model_name": "LayoutModel",
      "_view_count": null,
      "_view_module": "@jupyter-widgets/base",
      "_view_module_version": "1.2.0",
      "_view_name": "LayoutView",
      "align_content": null,
      "align_items": null,
      "align_self": null,
      "border": null,
      "bottom": null,
      "display": null,
      "flex": null,
      "flex_flow": null,
      "grid_area": null,
      "grid_auto_columns": null,
      "grid_auto_flow": null,
      "grid_auto_rows": null,
      "grid_column": null,
      "grid_gap": null,
      "grid_row": null,
      "grid_template_areas": null,
      "grid_template_columns": null,
      "grid_template_rows": null,
      "height": null,
      "justify_content": null,
      "justify_items": null,
      "left": null,
      "margin": null,
      "max_height": null,
      "max_width": null,
      "min_height": null,
      "min_width": null,
      "object_fit": null,
      "object_position": null,
      "order": null,
      "overflow": null,
      "overflow_x": null,
      "overflow_y": null,
      "padding": null,
      "right": null,
      "top": null,
      "visibility": null,
      "width": null
     }
    },
    "09aeb9597a934e039144f2e6978b8759": {
     "model_module": "@jupyter-widgets/base",
     "model_module_version": "1.2.0",
     "model_name": "LayoutModel",
     "state": {
      "_model_module": "@jupyter-widgets/base",
      "_model_module_version": "1.2.0",
      "_model_name": "LayoutModel",
      "_view_count": null,
      "_view_module": "@jupyter-widgets/base",
      "_view_module_version": "1.2.0",
      "_view_name": "LayoutView",
      "align_content": null,
      "align_items": null,
      "align_self": null,
      "border": null,
      "bottom": null,
      "display": null,
      "flex": null,
      "flex_flow": null,
      "grid_area": null,
      "grid_auto_columns": null,
      "grid_auto_flow": null,
      "grid_auto_rows": null,
      "grid_column": null,
      "grid_gap": null,
      "grid_row": null,
      "grid_template_areas": null,
      "grid_template_columns": null,
      "grid_template_rows": null,
      "height": null,
      "justify_content": null,
      "justify_items": null,
      "left": null,
      "margin": null,
      "max_height": null,
      "max_width": null,
      "min_height": null,
      "min_width": null,
      "object_fit": null,
      "object_position": null,
      "order": null,
      "overflow": null,
      "overflow_x": null,
      "overflow_y": null,
      "padding": null,
      "right": null,
      "top": null,
      "visibility": null,
      "width": null
     }
    },
    "0b9e8523a4dd4563933913e64672fb0c": {
     "model_module": "@jupyter-widgets/base",
     "model_module_version": "1.2.0",
     "model_name": "LayoutModel",
     "state": {
      "_model_module": "@jupyter-widgets/base",
      "_model_module_version": "1.2.0",
      "_model_name": "LayoutModel",
      "_view_count": null,
      "_view_module": "@jupyter-widgets/base",
      "_view_module_version": "1.2.0",
      "_view_name": "LayoutView",
      "align_content": null,
      "align_items": null,
      "align_self": null,
      "border": null,
      "bottom": null,
      "display": null,
      "flex": null,
      "flex_flow": null,
      "grid_area": null,
      "grid_auto_columns": null,
      "grid_auto_flow": null,
      "grid_auto_rows": null,
      "grid_column": null,
      "grid_gap": null,
      "grid_row": null,
      "grid_template_areas": null,
      "grid_template_columns": null,
      "grid_template_rows": null,
      "height": null,
      "justify_content": null,
      "justify_items": null,
      "left": null,
      "margin": null,
      "max_height": null,
      "max_width": null,
      "min_height": null,
      "min_width": null,
      "object_fit": null,
      "object_position": null,
      "order": null,
      "overflow": null,
      "overflow_x": null,
      "overflow_y": null,
      "padding": null,
      "right": null,
      "top": null,
      "visibility": null,
      "width": null
     }
    },
    "117eb0476cdb4ba8b4f1e15f568d7aa7": {
     "model_module": "@jupyter-widgets/controls",
     "model_module_version": "1.5.0",
     "model_name": "HTMLModel",
     "state": {
      "_dom_classes": [],
      "_model_module": "@jupyter-widgets/controls",
      "_model_module_version": "1.5.0",
      "_model_name": "HTMLModel",
      "_view_count": null,
      "_view_module": "@jupyter-widgets/controls",
      "_view_module_version": "1.5.0",
      "_view_name": "HTMLView",
      "description": "",
      "description_tooltip": null,
      "layout": "IPY_MODEL_a233edfff7e24a779486e27865c42cd7",
      "placeholder": "​",
      "style": "IPY_MODEL_ced3d8a4eede48af9c37981c85abb633",
      "value": " 5353/5353 [00:04&lt;00:00, 1173.13 examples/s]"
     }
    },
    "126d38f77f7d421ca9b4e720cab76fef": {
     "model_module": "@jupyter-widgets/base",
     "model_module_version": "1.2.0",
     "model_name": "LayoutModel",
     "state": {
      "_model_module": "@jupyter-widgets/base",
      "_model_module_version": "1.2.0",
      "_model_name": "LayoutModel",
      "_view_count": null,
      "_view_module": "@jupyter-widgets/base",
      "_view_module_version": "1.2.0",
      "_view_name": "LayoutView",
      "align_content": null,
      "align_items": null,
      "align_self": null,
      "border": null,
      "bottom": null,
      "display": null,
      "flex": null,
      "flex_flow": null,
      "grid_area": null,
      "grid_auto_columns": null,
      "grid_auto_flow": null,
      "grid_auto_rows": null,
      "grid_column": null,
      "grid_gap": null,
      "grid_row": null,
      "grid_template_areas": null,
      "grid_template_columns": null,
      "grid_template_rows": null,
      "height": null,
      "justify_content": null,
      "justify_items": null,
      "left": null,
      "margin": null,
      "max_height": null,
      "max_width": null,
      "min_height": null,
      "min_width": null,
      "object_fit": null,
      "object_position": null,
      "order": null,
      "overflow": null,
      "overflow_x": null,
      "overflow_y": null,
      "padding": null,
      "right": null,
      "top": null,
      "visibility": null,
      "width": null
     }
    },
    "1412a65e79a74d29a2d8956f64641850": {
     "model_module": "@jupyter-widgets/controls",
     "model_module_version": "1.5.0",
     "model_name": "ProgressStyleModel",
     "state": {
      "_model_module": "@jupyter-widgets/controls",
      "_model_module_version": "1.5.0",
      "_model_name": "ProgressStyleModel",
      "_view_count": null,
      "_view_module": "@jupyter-widgets/base",
      "_view_module_version": "1.2.0",
      "_view_name": "StyleView",
      "bar_color": null,
      "description_width": ""
     }
    },
    "152e390d5c6c47fc94900e92068b263b": {
     "model_module": "@jupyter-widgets/base",
     "model_module_version": "1.2.0",
     "model_name": "LayoutModel",
     "state": {
      "_model_module": "@jupyter-widgets/base",
      "_model_module_version": "1.2.0",
      "_model_name": "LayoutModel",
      "_view_count": null,
      "_view_module": "@jupyter-widgets/base",
      "_view_module_version": "1.2.0",
      "_view_name": "LayoutView",
      "align_content": null,
      "align_items": null,
      "align_self": null,
      "border": null,
      "bottom": null,
      "display": null,
      "flex": null,
      "flex_flow": null,
      "grid_area": null,
      "grid_auto_columns": null,
      "grid_auto_flow": null,
      "grid_auto_rows": null,
      "grid_column": null,
      "grid_gap": null,
      "grid_row": null,
      "grid_template_areas": null,
      "grid_template_columns": null,
      "grid_template_rows": null,
      "height": null,
      "justify_content": null,
      "justify_items": null,
      "left": null,
      "margin": null,
      "max_height": null,
      "max_width": null,
      "min_height": null,
      "min_width": null,
      "object_fit": null,
      "object_position": null,
      "order": null,
      "overflow": null,
      "overflow_x": null,
      "overflow_y": null,
      "padding": null,
      "right": null,
      "top": null,
      "visibility": null,
      "width": null
     }
    },
    "16d3c5934cc445118cb85cd1528c553f": {
     "model_module": "@jupyter-widgets/controls",
     "model_module_version": "1.5.0",
     "model_name": "HTMLModel",
     "state": {
      "_dom_classes": [],
      "_model_module": "@jupyter-widgets/controls",
      "_model_module_version": "1.5.0",
      "_model_name": "HTMLModel",
      "_view_count": null,
      "_view_module": "@jupyter-widgets/controls",
      "_view_module_version": "1.5.0",
      "_view_name": "HTMLView",
      "description": "",
      "description_tooltip": null,
      "layout": "IPY_MODEL_8c02566cc69543eead529b189b5608b4",
      "placeholder": "​",
      "style": "IPY_MODEL_593a3e5d6d2b474a86d29f0bd11f2e47",
      "value": " 5654/5654 [00:03&lt;00:00, 1423.12 examples/s]"
     }
    },
    "1c688ff37a2a4ae9b68b4d13fec3f299": {
     "model_module": "@jupyter-widgets/controls",
     "model_module_version": "1.5.0",
     "model_name": "FloatProgressModel",
     "state": {
      "_dom_classes": [],
      "_model_module": "@jupyter-widgets/controls",
      "_model_module_version": "1.5.0",
      "_model_name": "FloatProgressModel",
      "_view_count": null,
      "_view_module": "@jupyter-widgets/controls",
      "_view_module_version": "1.5.0",
      "_view_name": "ProgressView",
      "bar_style": "success",
      "description": "",
      "description_tooltip": null,
      "layout": "IPY_MODEL_399ae801d983450a86a912b0a34928e7",
      "max": 5353,
      "min": 0,
      "orientation": "horizontal",
      "style": "IPY_MODEL_1412a65e79a74d29a2d8956f64641850",
      "value": 5353
     }
    },
    "259cf20ba07b463c880927c780167ba3": {
     "model_module": "@jupyter-widgets/controls",
     "model_module_version": "1.5.0",
     "model_name": "HTMLModel",
     "state": {
      "_dom_classes": [],
      "_model_module": "@jupyter-widgets/controls",
      "_model_module_version": "1.5.0",
      "_model_name": "HTMLModel",
      "_view_count": null,
      "_view_module": "@jupyter-widgets/controls",
      "_view_module_version": "1.5.0",
      "_view_name": "HTMLView",
      "description": "",
      "description_tooltip": null,
      "layout": "IPY_MODEL_d7880ee40fb9429cb0038d5a70f5a8a0",
      "placeholder": "​",
      "style": "IPY_MODEL_69325dbe2afb4ccdb49fa48a1d0adf80",
      "value": "Map: 100%"
     }
    },
    "2d03412a552b4726a7aaba7781c3245d": {
     "model_module": "@jupyter-widgets/controls",
     "model_module_version": "1.5.0",
     "model_name": "DescriptionStyleModel",
     "state": {
      "_model_module": "@jupyter-widgets/controls",
      "_model_module_version": "1.5.0",
      "_model_name": "DescriptionStyleModel",
      "_view_count": null,
      "_view_module": "@jupyter-widgets/base",
      "_view_module_version": "1.2.0",
      "_view_name": "StyleView",
      "description_width": ""
     }
    },
    "2d43e5c57d394b61aa43142354025d75": {
     "model_module": "@jupyter-widgets/controls",
     "model_module_version": "1.5.0",
     "model_name": "FloatProgressModel",
     "state": {
      "_dom_classes": [],
      "_model_module": "@jupyter-widgets/controls",
      "_model_module_version": "1.5.0",
      "_model_name": "FloatProgressModel",
      "_view_count": null,
      "_view_module": "@jupyter-widgets/controls",
      "_view_module_version": "1.5.0",
      "_view_name": "ProgressView",
      "bar_style": "success",
      "description": "",
      "description_tooltip": null,
      "layout": "IPY_MODEL_09aeb9597a934e039144f2e6978b8759",
      "max": 498818054,
      "min": 0,
      "orientation": "horizontal",
      "style": "IPY_MODEL_e6eeadbcae61444ab07189813f8465e7",
      "value": 498818054
     }
    },
    "30cadd7a903c47f9888afd3e2cd18a99": {
     "model_module": "@jupyter-widgets/controls",
     "model_module_version": "1.5.0",
     "model_name": "HBoxModel",
     "state": {
      "_dom_classes": [],
      "_model_module": "@jupyter-widgets/controls",
      "_model_module_version": "1.5.0",
      "_model_name": "HBoxModel",
      "_view_count": null,
      "_view_module": "@jupyter-widgets/controls",
      "_view_module_version": "1.5.0",
      "_view_name": "HBoxView",
      "box_style": "",
      "children": [
       "IPY_MODEL_ff196cc6b6c942eaa7500693f76896b8",
       "IPY_MODEL_70eaaf65de72421e8702ff49244a9850",
       "IPY_MODEL_9e9fcf8256c944a18767b7b08735e839"
      ],
      "layout": "IPY_MODEL_152e390d5c6c47fc94900e92068b263b"
     }
    },
    "310f2c2d45b94f73b2cb992af57f9da4": {
     "model_module": "@jupyter-widgets/controls",
     "model_module_version": "1.5.0",
     "model_name": "FloatProgressModel",
     "state": {
      "_dom_classes": [],
      "_model_module": "@jupyter-widgets/controls",
      "_model_module_version": "1.5.0",
      "_model_name": "FloatProgressModel",
      "_view_count": null,
      "_view_module": "@jupyter-widgets/controls",
      "_view_module_version": "1.5.0",
      "_view_name": "ProgressView",
      "bar_style": "success",
      "description": "",
      "description_tooltip": null,
      "layout": "IPY_MODEL_7e58d327a050456da4e08c674b599b44",
      "max": 5654,
      "min": 0,
      "orientation": "horizontal",
      "style": "IPY_MODEL_6dffb73c9f3d4b5395fcd6be6552c6a0",
      "value": 5654
     }
    },
    "31bcd229aea640ffb0218616a911da24": {
     "model_module": "@jupyter-widgets/base",
     "model_module_version": "1.2.0",
     "model_name": "LayoutModel",
     "state": {
      "_model_module": "@jupyter-widgets/base",
      "_model_module_version": "1.2.0",
      "_model_name": "LayoutModel",
      "_view_count": null,
      "_view_module": "@jupyter-widgets/base",
      "_view_module_version": "1.2.0",
      "_view_name": "LayoutView",
      "align_content": null,
      "align_items": null,
      "align_self": null,
      "border": null,
      "bottom": null,
      "display": null,
      "flex": null,
      "flex_flow": null,
      "grid_area": null,
      "grid_auto_columns": null,
      "grid_auto_flow": null,
      "grid_auto_rows": null,
      "grid_column": null,
      "grid_gap": null,
      "grid_row": null,
      "grid_template_areas": null,
      "grid_template_columns": null,
      "grid_template_rows": null,
      "height": null,
      "justify_content": null,
      "justify_items": null,
      "left": null,
      "margin": null,
      "max_height": null,
      "max_width": null,
      "min_height": null,
      "min_width": null,
      "object_fit": null,
      "object_position": null,
      "order": null,
      "overflow": null,
      "overflow_x": null,
      "overflow_y": null,
      "padding": null,
      "right": null,
      "top": null,
      "visibility": null,
      "width": null
     }
    },
    "343c514d132e497899d7b29a4dd88e3f": {
     "model_module": "@jupyter-widgets/controls",
     "model_module_version": "1.5.0",
     "model_name": "HTMLModel",
     "state": {
      "_dom_classes": [],
      "_model_module": "@jupyter-widgets/controls",
      "_model_module_version": "1.5.0",
      "_model_name": "HTMLModel",
      "_view_count": null,
      "_view_module": "@jupyter-widgets/controls",
      "_view_module_version": "1.5.0",
      "_view_name": "HTMLView",
      "description": "",
      "description_tooltip": null,
      "layout": "IPY_MODEL_06485c02911746eaa33d042af7bee3bb",
      "placeholder": "​",
      "style": "IPY_MODEL_5218f4d8361043d3b2d0f832557efdf8",
      "value": "Map: 100%"
     }
    },
    "378876fa9111413dbba4e21ed49e60bd": {
     "model_module": "@jupyter-widgets/controls",
     "model_module_version": "1.5.0",
     "model_name": "DescriptionStyleModel",
     "state": {
      "_model_module": "@jupyter-widgets/controls",
      "_model_module_version": "1.5.0",
      "_model_name": "DescriptionStyleModel",
      "_view_count": null,
      "_view_module": "@jupyter-widgets/base",
      "_view_module_version": "1.2.0",
      "_view_name": "StyleView",
      "description_width": ""
     }
    },
    "399ae801d983450a86a912b0a34928e7": {
     "model_module": "@jupyter-widgets/base",
     "model_module_version": "1.2.0",
     "model_name": "LayoutModel",
     "state": {
      "_model_module": "@jupyter-widgets/base",
      "_model_module_version": "1.2.0",
      "_model_name": "LayoutModel",
      "_view_count": null,
      "_view_module": "@jupyter-widgets/base",
      "_view_module_version": "1.2.0",
      "_view_name": "LayoutView",
      "align_content": null,
      "align_items": null,
      "align_self": null,
      "border": null,
      "bottom": null,
      "display": null,
      "flex": null,
      "flex_flow": null,
      "grid_area": null,
      "grid_auto_columns": null,
      "grid_auto_flow": null,
      "grid_auto_rows": null,
      "grid_column": null,
      "grid_gap": null,
      "grid_row": null,
      "grid_template_areas": null,
      "grid_template_columns": null,
      "grid_template_rows": null,
      "height": null,
      "justify_content": null,
      "justify_items": null,
      "left": null,
      "margin": null,
      "max_height": null,
      "max_width": null,
      "min_height": null,
      "min_width": null,
      "object_fit": null,
      "object_position": null,
      "order": null,
      "overflow": null,
      "overflow_x": null,
      "overflow_y": null,
      "padding": null,
      "right": null,
      "top": null,
      "visibility": null,
      "width": null
     }
    },
    "39b7bdf6dd314ee284536bf94ccf86e8": {
     "model_module": "@jupyter-widgets/base",
     "model_module_version": "1.2.0",
     "model_name": "LayoutModel",
     "state": {
      "_model_module": "@jupyter-widgets/base",
      "_model_module_version": "1.2.0",
      "_model_name": "LayoutModel",
      "_view_count": null,
      "_view_module": "@jupyter-widgets/base",
      "_view_module_version": "1.2.0",
      "_view_name": "LayoutView",
      "align_content": null,
      "align_items": null,
      "align_self": null,
      "border": null,
      "bottom": null,
      "display": null,
      "flex": null,
      "flex_flow": null,
      "grid_area": null,
      "grid_auto_columns": null,
      "grid_auto_flow": null,
      "grid_auto_rows": null,
      "grid_column": null,
      "grid_gap": null,
      "grid_row": null,
      "grid_template_areas": null,
      "grid_template_columns": null,
      "grid_template_rows": null,
      "height": null,
      "justify_content": null,
      "justify_items": null,
      "left": null,
      "margin": null,
      "max_height": null,
      "max_width": null,
      "min_height": null,
      "min_width": null,
      "object_fit": null,
      "object_position": null,
      "order": null,
      "overflow": null,
      "overflow_x": null,
      "overflow_y": null,
      "padding": null,
      "right": null,
      "top": null,
      "visibility": null,
      "width": null
     }
    },
    "3bc1c71238dc44a385fbfc31fce7f285": {
     "model_module": "@jupyter-widgets/controls",
     "model_module_version": "1.5.0",
     "model_name": "DescriptionStyleModel",
     "state": {
      "_model_module": "@jupyter-widgets/controls",
      "_model_module_version": "1.5.0",
      "_model_name": "DescriptionStyleModel",
      "_view_count": null,
      "_view_module": "@jupyter-widgets/base",
      "_view_module_version": "1.2.0",
      "_view_name": "StyleView",
      "description_width": ""
     }
    },
    "3d3edc4164394d8cae4f585ff1a90023": {
     "model_module": "@jupyter-widgets/base",
     "model_module_version": "1.2.0",
     "model_name": "LayoutModel",
     "state": {
      "_model_module": "@jupyter-widgets/base",
      "_model_module_version": "1.2.0",
      "_model_name": "LayoutModel",
      "_view_count": null,
      "_view_module": "@jupyter-widgets/base",
      "_view_module_version": "1.2.0",
      "_view_name": "LayoutView",
      "align_content": null,
      "align_items": null,
      "align_self": null,
      "border": null,
      "bottom": null,
      "display": null,
      "flex": null,
      "flex_flow": null,
      "grid_area": null,
      "grid_auto_columns": null,
      "grid_auto_flow": null,
      "grid_auto_rows": null,
      "grid_column": null,
      "grid_gap": null,
      "grid_row": null,
      "grid_template_areas": null,
      "grid_template_columns": null,
      "grid_template_rows": null,
      "height": null,
      "justify_content": null,
      "justify_items": null,
      "left": null,
      "margin": null,
      "max_height": null,
      "max_width": null,
      "min_height": null,
      "min_width": null,
      "object_fit": null,
      "object_position": null,
      "order": null,
      "overflow": null,
      "overflow_x": null,
      "overflow_y": null,
      "padding": null,
      "right": null,
      "top": null,
      "visibility": null,
      "width": null
     }
    },
    "3d43aa6ba7564880875f33b34ea5b2d5": {
     "model_module": "@jupyter-widgets/controls",
     "model_module_version": "1.5.0",
     "model_name": "DescriptionStyleModel",
     "state": {
      "_model_module": "@jupyter-widgets/controls",
      "_model_module_version": "1.5.0",
      "_model_name": "DescriptionStyleModel",
      "_view_count": null,
      "_view_module": "@jupyter-widgets/base",
      "_view_module_version": "1.2.0",
      "_view_name": "StyleView",
      "description_width": ""
     }
    },
    "47bc4cef398d47119be3ee5b973f24ae": {
     "model_module": "@jupyter-widgets/base",
     "model_module_version": "1.2.0",
     "model_name": "LayoutModel",
     "state": {
      "_model_module": "@jupyter-widgets/base",
      "_model_module_version": "1.2.0",
      "_model_name": "LayoutModel",
      "_view_count": null,
      "_view_module": "@jupyter-widgets/base",
      "_view_module_version": "1.2.0",
      "_view_name": "LayoutView",
      "align_content": null,
      "align_items": null,
      "align_self": null,
      "border": null,
      "bottom": null,
      "display": null,
      "flex": null,
      "flex_flow": null,
      "grid_area": null,
      "grid_auto_columns": null,
      "grid_auto_flow": null,
      "grid_auto_rows": null,
      "grid_column": null,
      "grid_gap": null,
      "grid_row": null,
      "grid_template_areas": null,
      "grid_template_columns": null,
      "grid_template_rows": null,
      "height": null,
      "justify_content": null,
      "justify_items": null,
      "left": null,
      "margin": null,
      "max_height": null,
      "max_width": null,
      "min_height": null,
      "min_width": null,
      "object_fit": null,
      "object_position": null,
      "order": null,
      "overflow": null,
      "overflow_x": null,
      "overflow_y": null,
      "padding": null,
      "right": null,
      "top": null,
      "visibility": null,
      "width": null
     }
    },
    "48dc7ba6ed2f49c7bd288f6b05f51f06": {
     "model_module": "@jupyter-widgets/controls",
     "model_module_version": "1.5.0",
     "model_name": "HTMLModel",
     "state": {
      "_dom_classes": [],
      "_model_module": "@jupyter-widgets/controls",
      "_model_module_version": "1.5.0",
      "_model_name": "HTMLModel",
      "_view_count": null,
      "_view_module": "@jupyter-widgets/controls",
      "_view_module_version": "1.5.0",
      "_view_name": "HTMLView",
      "description": "",
      "description_tooltip": null,
      "layout": "IPY_MODEL_e2cd4ce9e0c9407c9a2fdb1122d66b72",
      "placeholder": "​",
      "style": "IPY_MODEL_3d43aa6ba7564880875f33b34ea5b2d5",
      "value": " 499M/499M [00:02&lt;00:00, 219MB/s]"
     }
    },
    "49ff7090d4134f94819619d48ef69f72": {
     "model_module": "@jupyter-widgets/controls",
     "model_module_version": "1.5.0",
     "model_name": "FloatProgressModel",
     "state": {
      "_dom_classes": [],
      "_model_module": "@jupyter-widgets/controls",
      "_model_module_version": "1.5.0",
      "_model_name": "FloatProgressModel",
      "_view_count": null,
      "_view_module": "@jupyter-widgets/controls",
      "_view_module_version": "1.5.0",
      "_view_name": "ProgressView",
      "bar_style": "success",
      "description": "",
      "description_tooltip": null,
      "layout": "IPY_MODEL_8a83b6e282c2493f92b48d37a660254e",
      "max": 898823,
      "min": 0,
      "orientation": "horizontal",
      "style": "IPY_MODEL_e0c9b3e78f8f4be7adea14ee3c67228d",
      "value": 898823
     }
    },
    "4c0350e476124b5598a1c888955c052b": {
     "model_module": "@jupyter-widgets/controls",
     "model_module_version": "1.5.0",
     "model_name": "HTMLModel",
     "state": {
      "_dom_classes": [],
      "_model_module": "@jupyter-widgets/controls",
      "_model_module_version": "1.5.0",
      "_model_name": "HTMLModel",
      "_view_count": null,
      "_view_module": "@jupyter-widgets/controls",
      "_view_module_version": "1.5.0",
      "_view_name": "HTMLView",
      "description": "",
      "description_tooltip": null,
      "layout": "IPY_MODEL_f5d27449ce594a15a02bbca028264e01",
      "placeholder": "​",
      "style": "IPY_MODEL_74773b19035d4c82838d4013e8a855ac",
      "value": " 5353/5353 [00:02&lt;00:00, 1941.39 examples/s]"
     }
    },
    "4cdd5620181a4475baed987ffa3aba0d": {
     "model_module": "@jupyter-widgets/controls",
     "model_module_version": "1.5.0",
     "model_name": "FloatProgressModel",
     "state": {
      "_dom_classes": [],
      "_model_module": "@jupyter-widgets/controls",
      "_model_module_version": "1.5.0",
      "_model_name": "FloatProgressModel",
      "_view_count": null,
      "_view_module": "@jupyter-widgets/controls",
      "_view_module_version": "1.5.0",
      "_view_name": "ProgressView",
      "bar_style": "success",
      "description": "",
      "description_tooltip": null,
      "layout": "IPY_MODEL_126d38f77f7d421ca9b4e720cab76fef",
      "max": 481,
      "min": 0,
      "orientation": "horizontal",
      "style": "IPY_MODEL_6828ac88a2b54a1dbe96b3b2a6b0da5b",
      "value": 481
     }
    },
    "4ff105f2848e48f4a6c992448ceb0dc5": {
     "model_module": "@jupyter-widgets/controls",
     "model_module_version": "1.5.0",
     "model_name": "HTMLModel",
     "state": {
      "_dom_classes": [],
      "_model_module": "@jupyter-widgets/controls",
      "_model_module_version": "1.5.0",
      "_model_name": "HTMLModel",
      "_view_count": null,
      "_view_module": "@jupyter-widgets/controls",
      "_view_module_version": "1.5.0",
      "_view_name": "HTMLView",
      "description": "",
      "description_tooltip": null,
      "layout": "IPY_MODEL_e68cc1b1bb434bc4ae18171d8cacedac",
      "placeholder": "​",
      "style": "IPY_MODEL_d2a86f063a0c431981230192de901f65",
      "value": " 899k/899k [00:00&lt;00:00, 8.80MB/s]"
     }
    },
    "5218f4d8361043d3b2d0f832557efdf8": {
     "model_module": "@jupyter-widgets/controls",
     "model_module_version": "1.5.0",
     "model_name": "DescriptionStyleModel",
     "state": {
      "_model_module": "@jupyter-widgets/controls",
      "_model_module_version": "1.5.0",
      "_model_name": "DescriptionStyleModel",
      "_view_count": null,
      "_view_module": "@jupyter-widgets/base",
      "_view_module_version": "1.2.0",
      "_view_name": "StyleView",
      "description_width": ""
     }
    },
    "53c6fbe23a7649e3b824fbf51b9d8a2b": {
     "model_module": "@jupyter-widgets/controls",
     "model_module_version": "1.5.0",
     "model_name": "HBoxModel",
     "state": {
      "_dom_classes": [],
      "_model_module": "@jupyter-widgets/controls",
      "_model_module_version": "1.5.0",
      "_model_name": "HBoxModel",
      "_view_count": null,
      "_view_module": "@jupyter-widgets/controls",
      "_view_module_version": "1.5.0",
      "_view_name": "HBoxView",
      "box_style": "",
      "children": [
       "IPY_MODEL_85cac5af0dc9496f8deddf03fe8658e4",
       "IPY_MODEL_2d43e5c57d394b61aa43142354025d75",
       "IPY_MODEL_48dc7ba6ed2f49c7bd288f6b05f51f06"
      ],
      "layout": "IPY_MODEL_d45b46ea1a684f2599b627a5fef59afb"
     }
    },
    "58193ea4533b4403ae12659bca64f6bc": {
     "model_module": "@jupyter-widgets/controls",
     "model_module_version": "1.5.0",
     "model_name": "DescriptionStyleModel",
     "state": {
      "_model_module": "@jupyter-widgets/controls",
      "_model_module_version": "1.5.0",
      "_model_name": "DescriptionStyleModel",
      "_view_count": null,
      "_view_module": "@jupyter-widgets/base",
      "_view_module_version": "1.2.0",
      "_view_name": "StyleView",
      "description_width": ""
     }
    },
    "593a3e5d6d2b474a86d29f0bd11f2e47": {
     "model_module": "@jupyter-widgets/controls",
     "model_module_version": "1.5.0",
     "model_name": "DescriptionStyleModel",
     "state": {
      "_model_module": "@jupyter-widgets/controls",
      "_model_module_version": "1.5.0",
      "_model_name": "DescriptionStyleModel",
      "_view_count": null,
      "_view_module": "@jupyter-widgets/base",
      "_view_module_version": "1.2.0",
      "_view_name": "StyleView",
      "description_width": ""
     }
    },
    "5a5c10df54f24f4c9f7320463b6fbcc1": {
     "model_module": "@jupyter-widgets/controls",
     "model_module_version": "1.5.0",
     "model_name": "HTMLModel",
     "state": {
      "_dom_classes": [],
      "_model_module": "@jupyter-widgets/controls",
      "_model_module_version": "1.5.0",
      "_model_name": "HTMLModel",
      "_view_count": null,
      "_view_module": "@jupyter-widgets/controls",
      "_view_module_version": "1.5.0",
      "_view_name": "HTMLView",
      "description": "",
      "description_tooltip": null,
      "layout": "IPY_MODEL_39b7bdf6dd314ee284536bf94ccf86e8",
      "placeholder": "​",
      "style": "IPY_MODEL_58193ea4533b4403ae12659bca64f6bc",
      "value": "Map: 100%"
     }
    },
    "5a6eb86157d94d6bbbab2ff845421b43": {
     "model_module": "@jupyter-widgets/controls",
     "model_module_version": "1.5.0",
     "model_name": "DescriptionStyleModel",
     "state": {
      "_model_module": "@jupyter-widgets/controls",
      "_model_module_version": "1.5.0",
      "_model_name": "DescriptionStyleModel",
      "_view_count": null,
      "_view_module": "@jupyter-widgets/base",
      "_view_module_version": "1.2.0",
      "_view_name": "StyleView",
      "description_width": ""
     }
    },
    "5b3d813f029c43ca84e71e32004af539": {
     "model_module": "@jupyter-widgets/base",
     "model_module_version": "1.2.0",
     "model_name": "LayoutModel",
     "state": {
      "_model_module": "@jupyter-widgets/base",
      "_model_module_version": "1.2.0",
      "_model_name": "LayoutModel",
      "_view_count": null,
      "_view_module": "@jupyter-widgets/base",
      "_view_module_version": "1.2.0",
      "_view_name": "LayoutView",
      "align_content": null,
      "align_items": null,
      "align_self": null,
      "border": null,
      "bottom": null,
      "display": null,
      "flex": null,
      "flex_flow": null,
      "grid_area": null,
      "grid_auto_columns": null,
      "grid_auto_flow": null,
      "grid_auto_rows": null,
      "grid_column": null,
      "grid_gap": null,
      "grid_row": null,
      "grid_template_areas": null,
      "grid_template_columns": null,
      "grid_template_rows": null,
      "height": null,
      "justify_content": null,
      "justify_items": null,
      "left": null,
      "margin": null,
      "max_height": null,
      "max_width": null,
      "min_height": null,
      "min_width": null,
      "object_fit": null,
      "object_position": null,
      "order": null,
      "overflow": null,
      "overflow_x": null,
      "overflow_y": null,
      "padding": null,
      "right": null,
      "top": null,
      "visibility": null,
      "width": null
     }
    },
    "65629f70cb0d47dbb49ee2cc1eeef9a5": {
     "model_module": "@jupyter-widgets/controls",
     "model_module_version": "1.5.0",
     "model_name": "DescriptionStyleModel",
     "state": {
      "_model_module": "@jupyter-widgets/controls",
      "_model_module_version": "1.5.0",
      "_model_name": "DescriptionStyleModel",
      "_view_count": null,
      "_view_module": "@jupyter-widgets/base",
      "_view_module_version": "1.2.0",
      "_view_name": "StyleView",
      "description_width": ""
     }
    },
    "673b18442a334a0c9b82caa05592838f": {
     "model_module": "@jupyter-widgets/controls",
     "model_module_version": "1.5.0",
     "model_name": "HBoxModel",
     "state": {
      "_dom_classes": [],
      "_model_module": "@jupyter-widgets/controls",
      "_model_module_version": "1.5.0",
      "_model_name": "HBoxModel",
      "_view_count": null,
      "_view_module": "@jupyter-widgets/controls",
      "_view_module_version": "1.5.0",
      "_view_name": "HBoxView",
      "box_style": "",
      "children": [
       "IPY_MODEL_9a8f178e44d541cfba0678e0b7554020",
       "IPY_MODEL_f4408edbff1e4435808e0ac0f331990b",
       "IPY_MODEL_8de1a27343cc40bc91d332325155ad84"
      ],
      "layout": "IPY_MODEL_c88959dfaaac459d8ce9bbef6b756943"
     }
    },
    "6828ac88a2b54a1dbe96b3b2a6b0da5b": {
     "model_module": "@jupyter-widgets/controls",
     "model_module_version": "1.5.0",
     "model_name": "ProgressStyleModel",
     "state": {
      "_model_module": "@jupyter-widgets/controls",
      "_model_module_version": "1.5.0",
      "_model_name": "ProgressStyleModel",
      "_view_count": null,
      "_view_module": "@jupyter-widgets/base",
      "_view_module_version": "1.2.0",
      "_view_name": "StyleView",
      "bar_color": null,
      "description_width": ""
     }
    },
    "69325dbe2afb4ccdb49fa48a1d0adf80": {
     "model_module": "@jupyter-widgets/controls",
     "model_module_version": "1.5.0",
     "model_name": "DescriptionStyleModel",
     "state": {
      "_model_module": "@jupyter-widgets/controls",
      "_model_module_version": "1.5.0",
      "_model_name": "DescriptionStyleModel",
      "_view_count": null,
      "_view_module": "@jupyter-widgets/base",
      "_view_module_version": "1.2.0",
      "_view_name": "StyleView",
      "description_width": ""
     }
    },
    "6c40b2a4562541feb56a330894936d54": {
     "model_module": "@jupyter-widgets/controls",
     "model_module_version": "1.5.0",
     "model_name": "HBoxModel",
     "state": {
      "_dom_classes": [],
      "_model_module": "@jupyter-widgets/controls",
      "_model_module_version": "1.5.0",
      "_model_name": "HBoxModel",
      "_view_count": null,
      "_view_module": "@jupyter-widgets/controls",
      "_view_module_version": "1.5.0",
      "_view_name": "HBoxView",
      "box_style": "",
      "children": [
       "IPY_MODEL_6e29b06b65d0410182b20a6fc0447179",
       "IPY_MODEL_954e5aecb42f42f6a660523aed7151c6",
       "IPY_MODEL_a096bc06c9664a8db17a611746c5c1ff"
      ],
      "layout": "IPY_MODEL_a250af98945c4793b5de4b2659fe5116"
     }
    },
    "6dffb73c9f3d4b5395fcd6be6552c6a0": {
     "model_module": "@jupyter-widgets/controls",
     "model_module_version": "1.5.0",
     "model_name": "ProgressStyleModel",
     "state": {
      "_model_module": "@jupyter-widgets/controls",
      "_model_module_version": "1.5.0",
      "_model_name": "ProgressStyleModel",
      "_view_count": null,
      "_view_module": "@jupyter-widgets/base",
      "_view_module_version": "1.2.0",
      "_view_name": "StyleView",
      "bar_color": null,
      "description_width": ""
     }
    },
    "6e29b06b65d0410182b20a6fc0447179": {
     "model_module": "@jupyter-widgets/controls",
     "model_module_version": "1.5.0",
     "model_name": "HTMLModel",
     "state": {
      "_dom_classes": [],
      "_model_module": "@jupyter-widgets/controls",
      "_model_module_version": "1.5.0",
      "_model_name": "HTMLModel",
      "_view_count": null,
      "_view_module": "@jupyter-widgets/controls",
      "_view_module_version": "1.5.0",
      "_view_name": "HTMLView",
      "description": "",
      "description_tooltip": null,
      "layout": "IPY_MODEL_820671d161374250ac943393b9824c15",
      "placeholder": "​",
      "style": "IPY_MODEL_ef54818c883f4324a68a7cbcf72f61f7",
      "value": "merges.txt: 100%"
     }
    },
    "6e2cce7d913a43b6997f365971cfd9ec": {
     "model_module": "@jupyter-widgets/base",
     "model_module_version": "1.2.0",
     "model_name": "LayoutModel",
     "state": {
      "_model_module": "@jupyter-widgets/base",
      "_model_module_version": "1.2.0",
      "_model_name": "LayoutModel",
      "_view_count": null,
      "_view_module": "@jupyter-widgets/base",
      "_view_module_version": "1.2.0",
      "_view_name": "LayoutView",
      "align_content": null,
      "align_items": null,
      "align_self": null,
      "border": null,
      "bottom": null,
      "display": null,
      "flex": null,
      "flex_flow": null,
      "grid_area": null,
      "grid_auto_columns": null,
      "grid_auto_flow": null,
      "grid_auto_rows": null,
      "grid_column": null,
      "grid_gap": null,
      "grid_row": null,
      "grid_template_areas": null,
      "grid_template_columns": null,
      "grid_template_rows": null,
      "height": null,
      "justify_content": null,
      "justify_items": null,
      "left": null,
      "margin": null,
      "max_height": null,
      "max_width": null,
      "min_height": null,
      "min_width": null,
      "object_fit": null,
      "object_position": null,
      "order": null,
      "overflow": null,
      "overflow_x": null,
      "overflow_y": null,
      "padding": null,
      "right": null,
      "top": null,
      "visibility": null,
      "width": null
     }
    },
    "6fbee1fd037f4767b57ae0033144bad4": {
     "model_module": "@jupyter-widgets/controls",
     "model_module_version": "1.5.0",
     "model_name": "HTMLModel",
     "state": {
      "_dom_classes": [],
      "_model_module": "@jupyter-widgets/controls",
      "_model_module_version": "1.5.0",
      "_model_name": "HTMLModel",
      "_view_count": null,
      "_view_module": "@jupyter-widgets/controls",
      "_view_module_version": "1.5.0",
      "_view_name": "HTMLView",
      "description": "",
      "description_tooltip": null,
      "layout": "IPY_MODEL_816258ace26b4f219640c1a010fbaf18",
      "placeholder": "​",
      "style": "IPY_MODEL_84af485e67d14294a79d59b32c7ce610",
      "value": " 481/481 [00:00&lt;00:00, 35.5kB/s]"
     }
    },
    "70eaaf65de72421e8702ff49244a9850": {
     "model_module": "@jupyter-widgets/controls",
     "model_module_version": "1.5.0",
     "model_name": "FloatProgressModel",
     "state": {
      "_dom_classes": [],
      "_model_module": "@jupyter-widgets/controls",
      "_model_module_version": "1.5.0",
      "_model_name": "FloatProgressModel",
      "_view_count": null,
      "_view_module": "@jupyter-widgets/controls",
      "_view_module_version": "1.5.0",
      "_view_name": "ProgressView",
      "bar_style": "success",
      "description": "",
      "description_tooltip": null,
      "layout": "IPY_MODEL_c624aa25ad62468fb1a844664a700502",
      "max": 1355863,
      "min": 0,
      "orientation": "horizontal",
      "style": "IPY_MODEL_a56b93011d3448b2a10eba8fd685f2d4",
      "value": 1355863
     }
    },
    "74773b19035d4c82838d4013e8a855ac": {
     "model_module": "@jupyter-widgets/controls",
     "model_module_version": "1.5.0",
     "model_name": "DescriptionStyleModel",
     "state": {
      "_model_module": "@jupyter-widgets/controls",
      "_model_module_version": "1.5.0",
      "_model_name": "DescriptionStyleModel",
      "_view_count": null,
      "_view_module": "@jupyter-widgets/base",
      "_view_module_version": "1.2.0",
      "_view_name": "StyleView",
      "description_width": ""
     }
    },
    "751e9763024743129a68331dc5226589": {
     "model_module": "@jupyter-widgets/base",
     "model_module_version": "1.2.0",
     "model_name": "LayoutModel",
     "state": {
      "_model_module": "@jupyter-widgets/base",
      "_model_module_version": "1.2.0",
      "_model_name": "LayoutModel",
      "_view_count": null,
      "_view_module": "@jupyter-widgets/base",
      "_view_module_version": "1.2.0",
      "_view_name": "LayoutView",
      "align_content": null,
      "align_items": null,
      "align_self": null,
      "border": null,
      "bottom": null,
      "display": null,
      "flex": null,
      "flex_flow": null,
      "grid_area": null,
      "grid_auto_columns": null,
      "grid_auto_flow": null,
      "grid_auto_rows": null,
      "grid_column": null,
      "grid_gap": null,
      "grid_row": null,
      "grid_template_areas": null,
      "grid_template_columns": null,
      "grid_template_rows": null,
      "height": null,
      "justify_content": null,
      "justify_items": null,
      "left": null,
      "margin": null,
      "max_height": null,
      "max_width": null,
      "min_height": null,
      "min_width": null,
      "object_fit": null,
      "object_position": null,
      "order": null,
      "overflow": null,
      "overflow_x": null,
      "overflow_y": null,
      "padding": null,
      "right": null,
      "top": null,
      "visibility": null,
      "width": null
     }
    },
    "752472f007894371997f6498776d4e19": {
     "model_module": "@jupyter-widgets/controls",
     "model_module_version": "1.5.0",
     "model_name": "HBoxModel",
     "state": {
      "_dom_classes": [],
      "_model_module": "@jupyter-widgets/controls",
      "_model_module_version": "1.5.0",
      "_model_name": "HBoxModel",
      "_view_count": null,
      "_view_module": "@jupyter-widgets/controls",
      "_view_module_version": "1.5.0",
      "_view_name": "HBoxView",
      "box_style": "",
      "children": [
       "IPY_MODEL_e8ec57893e3646cab01bdc6a89183268",
       "IPY_MODEL_49ff7090d4134f94819619d48ef69f72",
       "IPY_MODEL_4ff105f2848e48f4a6c992448ceb0dc5"
      ],
      "layout": "IPY_MODEL_b4d802b70d454afeb9b068f7d13c4d08"
     }
    },
    "78bbc50c7ba04c9785979ac5bf011952": {
     "model_module": "@jupyter-widgets/controls",
     "model_module_version": "1.5.0",
     "model_name": "HBoxModel",
     "state": {
      "_dom_classes": [],
      "_model_module": "@jupyter-widgets/controls",
      "_model_module_version": "1.5.0",
      "_model_name": "HBoxModel",
      "_view_count": null,
      "_view_module": "@jupyter-widgets/controls",
      "_view_module_version": "1.5.0",
      "_view_name": "HBoxView",
      "box_style": "",
      "children": [
       "IPY_MODEL_259cf20ba07b463c880927c780167ba3",
       "IPY_MODEL_e06be40484834d1d8e0ed5e741025e40",
       "IPY_MODEL_117eb0476cdb4ba8b4f1e15f568d7aa7"
      ],
      "layout": "IPY_MODEL_b542d1e759aa418a87049dcbe3589bb0"
     }
    },
    "7d2a4322115840e1af2c96b81c13e744": {
     "model_module": "@jupyter-widgets/base",
     "model_module_version": "1.2.0",
     "model_name": "LayoutModel",
     "state": {
      "_model_module": "@jupyter-widgets/base",
      "_model_module_version": "1.2.0",
      "_model_name": "LayoutModel",
      "_view_count": null,
      "_view_module": "@jupyter-widgets/base",
      "_view_module_version": "1.2.0",
      "_view_name": "LayoutView",
      "align_content": null,
      "align_items": null,
      "align_self": null,
      "border": null,
      "bottom": null,
      "display": null,
      "flex": null,
      "flex_flow": null,
      "grid_area": null,
      "grid_auto_columns": null,
      "grid_auto_flow": null,
      "grid_auto_rows": null,
      "grid_column": null,
      "grid_gap": null,
      "grid_row": null,
      "grid_template_areas": null,
      "grid_template_columns": null,
      "grid_template_rows": null,
      "height": null,
      "justify_content": null,
      "justify_items": null,
      "left": null,
      "margin": null,
      "max_height": null,
      "max_width": null,
      "min_height": null,
      "min_width": null,
      "object_fit": null,
      "object_position": null,
      "order": null,
      "overflow": null,
      "overflow_x": null,
      "overflow_y": null,
      "padding": null,
      "right": null,
      "top": null,
      "visibility": null,
      "width": null
     }
    },
    "7e58d327a050456da4e08c674b599b44": {
     "model_module": "@jupyter-widgets/base",
     "model_module_version": "1.2.0",
     "model_name": "LayoutModel",
     "state": {
      "_model_module": "@jupyter-widgets/base",
      "_model_module_version": "1.2.0",
      "_model_name": "LayoutModel",
      "_view_count": null,
      "_view_module": "@jupyter-widgets/base",
      "_view_module_version": "1.2.0",
      "_view_name": "LayoutView",
      "align_content": null,
      "align_items": null,
      "align_self": null,
      "border": null,
      "bottom": null,
      "display": null,
      "flex": null,
      "flex_flow": null,
      "grid_area": null,
      "grid_auto_columns": null,
      "grid_auto_flow": null,
      "grid_auto_rows": null,
      "grid_column": null,
      "grid_gap": null,
      "grid_row": null,
      "grid_template_areas": null,
      "grid_template_columns": null,
      "grid_template_rows": null,
      "height": null,
      "justify_content": null,
      "justify_items": null,
      "left": null,
      "margin": null,
      "max_height": null,
      "max_width": null,
      "min_height": null,
      "min_width": null,
      "object_fit": null,
      "object_position": null,
      "order": null,
      "overflow": null,
      "overflow_x": null,
      "overflow_y": null,
      "padding": null,
      "right": null,
      "top": null,
      "visibility": null,
      "width": null
     }
    },
    "816258ace26b4f219640c1a010fbaf18": {
     "model_module": "@jupyter-widgets/base",
     "model_module_version": "1.2.0",
     "model_name": "LayoutModel",
     "state": {
      "_model_module": "@jupyter-widgets/base",
      "_model_module_version": "1.2.0",
      "_model_name": "LayoutModel",
      "_view_count": null,
      "_view_module": "@jupyter-widgets/base",
      "_view_module_version": "1.2.0",
      "_view_name": "LayoutView",
      "align_content": null,
      "align_items": null,
      "align_self": null,
      "border": null,
      "bottom": null,
      "display": null,
      "flex": null,
      "flex_flow": null,
      "grid_area": null,
      "grid_auto_columns": null,
      "grid_auto_flow": null,
      "grid_auto_rows": null,
      "grid_column": null,
      "grid_gap": null,
      "grid_row": null,
      "grid_template_areas": null,
      "grid_template_columns": null,
      "grid_template_rows": null,
      "height": null,
      "justify_content": null,
      "justify_items": null,
      "left": null,
      "margin": null,
      "max_height": null,
      "max_width": null,
      "min_height": null,
      "min_width": null,
      "object_fit": null,
      "object_position": null,
      "order": null,
      "overflow": null,
      "overflow_x": null,
      "overflow_y": null,
      "padding": null,
      "right": null,
      "top": null,
      "visibility": null,
      "width": null
     }
    },
    "820671d161374250ac943393b9824c15": {
     "model_module": "@jupyter-widgets/base",
     "model_module_version": "1.2.0",
     "model_name": "LayoutModel",
     "state": {
      "_model_module": "@jupyter-widgets/base",
      "_model_module_version": "1.2.0",
      "_model_name": "LayoutModel",
      "_view_count": null,
      "_view_module": "@jupyter-widgets/base",
      "_view_module_version": "1.2.0",
      "_view_name": "LayoutView",
      "align_content": null,
      "align_items": null,
      "align_self": null,
      "border": null,
      "bottom": null,
      "display": null,
      "flex": null,
      "flex_flow": null,
      "grid_area": null,
      "grid_auto_columns": null,
      "grid_auto_flow": null,
      "grid_auto_rows": null,
      "grid_column": null,
      "grid_gap": null,
      "grid_row": null,
      "grid_template_areas": null,
      "grid_template_columns": null,
      "grid_template_rows": null,
      "height": null,
      "justify_content": null,
      "justify_items": null,
      "left": null,
      "margin": null,
      "max_height": null,
      "max_width": null,
      "min_height": null,
      "min_width": null,
      "object_fit": null,
      "object_position": null,
      "order": null,
      "overflow": null,
      "overflow_x": null,
      "overflow_y": null,
      "padding": null,
      "right": null,
      "top": null,
      "visibility": null,
      "width": null
     }
    },
    "84af485e67d14294a79d59b32c7ce610": {
     "model_module": "@jupyter-widgets/controls",
     "model_module_version": "1.5.0",
     "model_name": "DescriptionStyleModel",
     "state": {
      "_model_module": "@jupyter-widgets/controls",
      "_model_module_version": "1.5.0",
      "_model_name": "DescriptionStyleModel",
      "_view_count": null,
      "_view_module": "@jupyter-widgets/base",
      "_view_module_version": "1.2.0",
      "_view_name": "StyleView",
      "description_width": ""
     }
    },
    "85cac5af0dc9496f8deddf03fe8658e4": {
     "model_module": "@jupyter-widgets/controls",
     "model_module_version": "1.5.0",
     "model_name": "HTMLModel",
     "state": {
      "_dom_classes": [],
      "_model_module": "@jupyter-widgets/controls",
      "_model_module_version": "1.5.0",
      "_model_name": "HTMLModel",
      "_view_count": null,
      "_view_module": "@jupyter-widgets/controls",
      "_view_module_version": "1.5.0",
      "_view_name": "HTMLView",
      "description": "",
      "description_tooltip": null,
      "layout": "IPY_MODEL_31bcd229aea640ffb0218616a911da24",
      "placeholder": "​",
      "style": "IPY_MODEL_378876fa9111413dbba4e21ed49e60bd",
      "value": "model.safetensors: 100%"
     }
    },
    "89dc733ddfcc4d77b35c4d9c7d2c0b9e": {
     "model_module": "@jupyter-widgets/base",
     "model_module_version": "1.2.0",
     "model_name": "LayoutModel",
     "state": {
      "_model_module": "@jupyter-widgets/base",
      "_model_module_version": "1.2.0",
      "_model_name": "LayoutModel",
      "_view_count": null,
      "_view_module": "@jupyter-widgets/base",
      "_view_module_version": "1.2.0",
      "_view_name": "LayoutView",
      "align_content": null,
      "align_items": null,
      "align_self": null,
      "border": null,
      "bottom": null,
      "display": null,
      "flex": null,
      "flex_flow": null,
      "grid_area": null,
      "grid_auto_columns": null,
      "grid_auto_flow": null,
      "grid_auto_rows": null,
      "grid_column": null,
      "grid_gap": null,
      "grid_row": null,
      "grid_template_areas": null,
      "grid_template_columns": null,
      "grid_template_rows": null,
      "height": null,
      "justify_content": null,
      "justify_items": null,
      "left": null,
      "margin": null,
      "max_height": null,
      "max_width": null,
      "min_height": null,
      "min_width": null,
      "object_fit": null,
      "object_position": null,
      "order": null,
      "overflow": null,
      "overflow_x": null,
      "overflow_y": null,
      "padding": null,
      "right": null,
      "top": null,
      "visibility": null,
      "width": null
     }
    },
    "8a83b6e282c2493f92b48d37a660254e": {
     "model_module": "@jupyter-widgets/base",
     "model_module_version": "1.2.0",
     "model_name": "LayoutModel",
     "state": {
      "_model_module": "@jupyter-widgets/base",
      "_model_module_version": "1.2.0",
      "_model_name": "LayoutModel",
      "_view_count": null,
      "_view_module": "@jupyter-widgets/base",
      "_view_module_version": "1.2.0",
      "_view_name": "LayoutView",
      "align_content": null,
      "align_items": null,
      "align_self": null,
      "border": null,
      "bottom": null,
      "display": null,
      "flex": null,
      "flex_flow": null,
      "grid_area": null,
      "grid_auto_columns": null,
      "grid_auto_flow": null,
      "grid_auto_rows": null,
      "grid_column": null,
      "grid_gap": null,
      "grid_row": null,
      "grid_template_areas": null,
      "grid_template_columns": null,
      "grid_template_rows": null,
      "height": null,
      "justify_content": null,
      "justify_items": null,
      "left": null,
      "margin": null,
      "max_height": null,
      "max_width": null,
      "min_height": null,
      "min_width": null,
      "object_fit": null,
      "object_position": null,
      "order": null,
      "overflow": null,
      "overflow_x": null,
      "overflow_y": null,
      "padding": null,
      "right": null,
      "top": null,
      "visibility": null,
      "width": null
     }
    },
    "8c02566cc69543eead529b189b5608b4": {
     "model_module": "@jupyter-widgets/base",
     "model_module_version": "1.2.0",
     "model_name": "LayoutModel",
     "state": {
      "_model_module": "@jupyter-widgets/base",
      "_model_module_version": "1.2.0",
      "_model_name": "LayoutModel",
      "_view_count": null,
      "_view_module": "@jupyter-widgets/base",
      "_view_module_version": "1.2.0",
      "_view_name": "LayoutView",
      "align_content": null,
      "align_items": null,
      "align_self": null,
      "border": null,
      "bottom": null,
      "display": null,
      "flex": null,
      "flex_flow": null,
      "grid_area": null,
      "grid_auto_columns": null,
      "grid_auto_flow": null,
      "grid_auto_rows": null,
      "grid_column": null,
      "grid_gap": null,
      "grid_row": null,
      "grid_template_areas": null,
      "grid_template_columns": null,
      "grid_template_rows": null,
      "height": null,
      "justify_content": null,
      "justify_items": null,
      "left": null,
      "margin": null,
      "max_height": null,
      "max_width": null,
      "min_height": null,
      "min_width": null,
      "object_fit": null,
      "object_position": null,
      "order": null,
      "overflow": null,
      "overflow_x": null,
      "overflow_y": null,
      "padding": null,
      "right": null,
      "top": null,
      "visibility": null,
      "width": null
     }
    },
    "8de1a27343cc40bc91d332325155ad84": {
     "model_module": "@jupyter-widgets/controls",
     "model_module_version": "1.5.0",
     "model_name": "HTMLModel",
     "state": {
      "_dom_classes": [],
      "_model_module": "@jupyter-widgets/controls",
      "_model_module_version": "1.5.0",
      "_model_name": "HTMLModel",
      "_view_count": null,
      "_view_module": "@jupyter-widgets/controls",
      "_view_module_version": "1.5.0",
      "_view_name": "HTMLView",
      "description": "",
      "description_tooltip": null,
      "layout": "IPY_MODEL_7d2a4322115840e1af2c96b81c13e744",
      "placeholder": "​",
      "style": "IPY_MODEL_a47c6bd118f54b84b9681575759c0452",
      "value": " 4.55k/4.55k [00:00&lt;00:00, 209kB/s]"
     }
    },
    "954e5aecb42f42f6a660523aed7151c6": {
     "model_module": "@jupyter-widgets/controls",
     "model_module_version": "1.5.0",
     "model_name": "FloatProgressModel",
     "state": {
      "_dom_classes": [],
      "_model_module": "@jupyter-widgets/controls",
      "_model_module_version": "1.5.0",
      "_model_name": "FloatProgressModel",
      "_view_count": null,
      "_view_module": "@jupyter-widgets/controls",
      "_view_module_version": "1.5.0",
      "_view_name": "ProgressView",
      "bar_style": "success",
      "description": "",
      "description_tooltip": null,
      "layout": "IPY_MODEL_3d3edc4164394d8cae4f585ff1a90023",
      "max": 456318,
      "min": 0,
      "orientation": "horizontal",
      "style": "IPY_MODEL_ca139a49b31a4bc9a36de7ff52fa4b69",
      "value": 456318
     }
    },
    "95c386ba5c064567a6e33a847caca751": {
     "model_module": "@jupyter-widgets/controls",
     "model_module_version": "1.5.0",
     "model_name": "DescriptionStyleModel",
     "state": {
      "_model_module": "@jupyter-widgets/controls",
      "_model_module_version": "1.5.0",
      "_model_name": "DescriptionStyleModel",
      "_view_count": null,
      "_view_module": "@jupyter-widgets/base",
      "_view_module_version": "1.2.0",
      "_view_name": "StyleView",
      "description_width": ""
     }
    },
    "9a8f178e44d541cfba0678e0b7554020": {
     "model_module": "@jupyter-widgets/controls",
     "model_module_version": "1.5.0",
     "model_name": "HTMLModel",
     "state": {
      "_dom_classes": [],
      "_model_module": "@jupyter-widgets/controls",
      "_model_module_version": "1.5.0",
      "_model_name": "HTMLModel",
      "_view_count": null,
      "_view_module": "@jupyter-widgets/controls",
      "_view_module_version": "1.5.0",
      "_view_name": "HTMLView",
      "description": "",
      "description_tooltip": null,
      "layout": "IPY_MODEL_47bc4cef398d47119be3ee5b973f24ae",
      "placeholder": "​",
      "style": "IPY_MODEL_cece95f0bb134c3ab60758b5ca42fe2c",
      "value": "Downloading builder script: 100%"
     }
    },
    "9e9fcf8256c944a18767b7b08735e839": {
     "model_module": "@jupyter-widgets/controls",
     "model_module_version": "1.5.0",
     "model_name": "HTMLModel",
     "state": {
      "_dom_classes": [],
      "_model_module": "@jupyter-widgets/controls",
      "_model_module_version": "1.5.0",
      "_model_name": "HTMLModel",
      "_view_count": null,
      "_view_module": "@jupyter-widgets/controls",
      "_view_module_version": "1.5.0",
      "_view_name": "HTMLView",
      "description": "",
      "description_tooltip": null,
      "layout": "IPY_MODEL_e787149cd6214f29977b690f0f161770",
      "placeholder": "​",
      "style": "IPY_MODEL_3bc1c71238dc44a385fbfc31fce7f285",
      "value": " 1.36M/1.36M [00:00&lt;00:00, 6.73MB/s]"
     }
    },
    "a096bc06c9664a8db17a611746c5c1ff": {
     "model_module": "@jupyter-widgets/controls",
     "model_module_version": "1.5.0",
     "model_name": "HTMLModel",
     "state": {
      "_dom_classes": [],
      "_model_module": "@jupyter-widgets/controls",
      "_model_module_version": "1.5.0",
      "_model_name": "HTMLModel",
      "_view_count": null,
      "_view_module": "@jupyter-widgets/controls",
      "_view_module_version": "1.5.0",
      "_view_name": "HTMLView",
      "description": "",
      "description_tooltip": null,
      "layout": "IPY_MODEL_0765ece58edd46d0926273a2d0d6de2e",
      "placeholder": "​",
      "style": "IPY_MODEL_95c386ba5c064567a6e33a847caca751",
      "value": " 456k/456k [00:00&lt;00:00, 3.17MB/s]"
     }
    },
    "a233edfff7e24a779486e27865c42cd7": {
     "model_module": "@jupyter-widgets/base",
     "model_module_version": "1.2.0",
     "model_name": "LayoutModel",
     "state": {
      "_model_module": "@jupyter-widgets/base",
      "_model_module_version": "1.2.0",
      "_model_name": "LayoutModel",
      "_view_count": null,
      "_view_module": "@jupyter-widgets/base",
      "_view_module_version": "1.2.0",
      "_view_name": "LayoutView",
      "align_content": null,
      "align_items": null,
      "align_self": null,
      "border": null,
      "bottom": null,
      "display": null,
      "flex": null,
      "flex_flow": null,
      "grid_area": null,
      "grid_auto_columns": null,
      "grid_auto_flow": null,
      "grid_auto_rows": null,
      "grid_column": null,
      "grid_gap": null,
      "grid_row": null,
      "grid_template_areas": null,
      "grid_template_columns": null,
      "grid_template_rows": null,
      "height": null,
      "justify_content": null,
      "justify_items": null,
      "left": null,
      "margin": null,
      "max_height": null,
      "max_width": null,
      "min_height": null,
      "min_width": null,
      "object_fit": null,
      "object_position": null,
      "order": null,
      "overflow": null,
      "overflow_x": null,
      "overflow_y": null,
      "padding": null,
      "right": null,
      "top": null,
      "visibility": null,
      "width": null
     }
    },
    "a250af98945c4793b5de4b2659fe5116": {
     "model_module": "@jupyter-widgets/base",
     "model_module_version": "1.2.0",
     "model_name": "LayoutModel",
     "state": {
      "_model_module": "@jupyter-widgets/base",
      "_model_module_version": "1.2.0",
      "_model_name": "LayoutModel",
      "_view_count": null,
      "_view_module": "@jupyter-widgets/base",
      "_view_module_version": "1.2.0",
      "_view_name": "LayoutView",
      "align_content": null,
      "align_items": null,
      "align_self": null,
      "border": null,
      "bottom": null,
      "display": null,
      "flex": null,
      "flex_flow": null,
      "grid_area": null,
      "grid_auto_columns": null,
      "grid_auto_flow": null,
      "grid_auto_rows": null,
      "grid_column": null,
      "grid_gap": null,
      "grid_row": null,
      "grid_template_areas": null,
      "grid_template_columns": null,
      "grid_template_rows": null,
      "height": null,
      "justify_content": null,
      "justify_items": null,
      "left": null,
      "margin": null,
      "max_height": null,
      "max_width": null,
      "min_height": null,
      "min_width": null,
      "object_fit": null,
      "object_position": null,
      "order": null,
      "overflow": null,
      "overflow_x": null,
      "overflow_y": null,
      "padding": null,
      "right": null,
      "top": null,
      "visibility": null,
      "width": null
     }
    },
    "a47c6bd118f54b84b9681575759c0452": {
     "model_module": "@jupyter-widgets/controls",
     "model_module_version": "1.5.0",
     "model_name": "DescriptionStyleModel",
     "state": {
      "_model_module": "@jupyter-widgets/controls",
      "_model_module_version": "1.5.0",
      "_model_name": "DescriptionStyleModel",
      "_view_count": null,
      "_view_module": "@jupyter-widgets/base",
      "_view_module_version": "1.2.0",
      "_view_name": "StyleView",
      "description_width": ""
     }
    },
    "a56b93011d3448b2a10eba8fd685f2d4": {
     "model_module": "@jupyter-widgets/controls",
     "model_module_version": "1.5.0",
     "model_name": "ProgressStyleModel",
     "state": {
      "_model_module": "@jupyter-widgets/controls",
      "_model_module_version": "1.5.0",
      "_model_name": "ProgressStyleModel",
      "_view_count": null,
      "_view_module": "@jupyter-widgets/base",
      "_view_module_version": "1.2.0",
      "_view_name": "StyleView",
      "bar_color": null,
      "description_width": ""
     }
    },
    "a7824de558a043bb8ec9d93cb95eb6ff": {
     "model_module": "@jupyter-widgets/controls",
     "model_module_version": "1.5.0",
     "model_name": "HBoxModel",
     "state": {
      "_dom_classes": [],
      "_model_module": "@jupyter-widgets/controls",
      "_model_module_version": "1.5.0",
      "_model_name": "HBoxModel",
      "_view_count": null,
      "_view_module": "@jupyter-widgets/controls",
      "_view_module_version": "1.5.0",
      "_view_name": "HBoxView",
      "box_style": "",
      "children": [
       "IPY_MODEL_5a5c10df54f24f4c9f7320463b6fbcc1",
       "IPY_MODEL_310f2c2d45b94f73b2cb992af57f9da4",
       "IPY_MODEL_16d3c5934cc445118cb85cd1528c553f"
      ],
      "layout": "IPY_MODEL_751e9763024743129a68331dc5226589"
     }
    },
    "a786a0912e4d45a6b50c64989a067ca6": {
     "model_module": "@jupyter-widgets/base",
     "model_module_version": "1.2.0",
     "model_name": "LayoutModel",
     "state": {
      "_model_module": "@jupyter-widgets/base",
      "_model_module_version": "1.2.0",
      "_model_name": "LayoutModel",
      "_view_count": null,
      "_view_module": "@jupyter-widgets/base",
      "_view_module_version": "1.2.0",
      "_view_name": "LayoutView",
      "align_content": null,
      "align_items": null,
      "align_self": null,
      "border": null,
      "bottom": null,
      "display": null,
      "flex": null,
      "flex_flow": null,
      "grid_area": null,
      "grid_auto_columns": null,
      "grid_auto_flow": null,
      "grid_auto_rows": null,
      "grid_column": null,
      "grid_gap": null,
      "grid_row": null,
      "grid_template_areas": null,
      "grid_template_columns": null,
      "grid_template_rows": null,
      "height": null,
      "justify_content": null,
      "justify_items": null,
      "left": null,
      "margin": null,
      "max_height": null,
      "max_width": null,
      "min_height": null,
      "min_width": null,
      "object_fit": null,
      "object_position": null,
      "order": null,
      "overflow": null,
      "overflow_x": null,
      "overflow_y": null,
      "padding": null,
      "right": null,
      "top": null,
      "visibility": null,
      "width": null
     }
    },
    "aceecde2ef1844da90967172f503e1ab": {
     "model_module": "@jupyter-widgets/controls",
     "model_module_version": "1.5.0",
     "model_name": "HBoxModel",
     "state": {
      "_dom_classes": [],
      "_model_module": "@jupyter-widgets/controls",
      "_model_module_version": "1.5.0",
      "_model_name": "HBoxModel",
      "_view_count": null,
      "_view_module": "@jupyter-widgets/controls",
      "_view_module_version": "1.5.0",
      "_view_name": "HBoxView",
      "box_style": "",
      "children": [
       "IPY_MODEL_343c514d132e497899d7b29a4dd88e3f",
       "IPY_MODEL_1c688ff37a2a4ae9b68b4d13fec3f299",
       "IPY_MODEL_4c0350e476124b5598a1c888955c052b"
      ],
      "layout": "IPY_MODEL_a786a0912e4d45a6b50c64989a067ca6"
     }
    },
    "b4d802b70d454afeb9b068f7d13c4d08": {
     "model_module": "@jupyter-widgets/base",
     "model_module_version": "1.2.0",
     "model_name": "LayoutModel",
     "state": {
      "_model_module": "@jupyter-widgets/base",
      "_model_module_version": "1.2.0",
      "_model_name": "LayoutModel",
      "_view_count": null,
      "_view_module": "@jupyter-widgets/base",
      "_view_module_version": "1.2.0",
      "_view_name": "LayoutView",
      "align_content": null,
      "align_items": null,
      "align_self": null,
      "border": null,
      "bottom": null,
      "display": null,
      "flex": null,
      "flex_flow": null,
      "grid_area": null,
      "grid_auto_columns": null,
      "grid_auto_flow": null,
      "grid_auto_rows": null,
      "grid_column": null,
      "grid_gap": null,
      "grid_row": null,
      "grid_template_areas": null,
      "grid_template_columns": null,
      "grid_template_rows": null,
      "height": null,
      "justify_content": null,
      "justify_items": null,
      "left": null,
      "margin": null,
      "max_height": null,
      "max_width": null,
      "min_height": null,
      "min_width": null,
      "object_fit": null,
      "object_position": null,
      "order": null,
      "overflow": null,
      "overflow_x": null,
      "overflow_y": null,
      "padding": null,
      "right": null,
      "top": null,
      "visibility": null,
      "width": null
     }
    },
    "b542d1e759aa418a87049dcbe3589bb0": {
     "model_module": "@jupyter-widgets/base",
     "model_module_version": "1.2.0",
     "model_name": "LayoutModel",
     "state": {
      "_model_module": "@jupyter-widgets/base",
      "_model_module_version": "1.2.0",
      "_model_name": "LayoutModel",
      "_view_count": null,
      "_view_module": "@jupyter-widgets/base",
      "_view_module_version": "1.2.0",
      "_view_name": "LayoutView",
      "align_content": null,
      "align_items": null,
      "align_self": null,
      "border": null,
      "bottom": null,
      "display": null,
      "flex": null,
      "flex_flow": null,
      "grid_area": null,
      "grid_auto_columns": null,
      "grid_auto_flow": null,
      "grid_auto_rows": null,
      "grid_column": null,
      "grid_gap": null,
      "grid_row": null,
      "grid_template_areas": null,
      "grid_template_columns": null,
      "grid_template_rows": null,
      "height": null,
      "justify_content": null,
      "justify_items": null,
      "left": null,
      "margin": null,
      "max_height": null,
      "max_width": null,
      "min_height": null,
      "min_width": null,
      "object_fit": null,
      "object_position": null,
      "order": null,
      "overflow": null,
      "overflow_x": null,
      "overflow_y": null,
      "padding": null,
      "right": null,
      "top": null,
      "visibility": null,
      "width": null
     }
    },
    "babfe22387d24874a455402662e5ba6d": {
     "model_module": "@jupyter-widgets/controls",
     "model_module_version": "1.5.0",
     "model_name": "HBoxModel",
     "state": {
      "_dom_classes": [],
      "_model_module": "@jupyter-widgets/controls",
      "_model_module_version": "1.5.0",
      "_model_name": "HBoxModel",
      "_view_count": null,
      "_view_module": "@jupyter-widgets/controls",
      "_view_module_version": "1.5.0",
      "_view_name": "HBoxView",
      "box_style": "",
      "children": [
       "IPY_MODEL_bd20aff07a744d1787590d6088a4fafa",
       "IPY_MODEL_4cdd5620181a4475baed987ffa3aba0d",
       "IPY_MODEL_6fbee1fd037f4767b57ae0033144bad4"
      ],
      "layout": "IPY_MODEL_0b9e8523a4dd4563933913e64672fb0c"
     }
    },
    "bc9525f120484f7f85e5642791b5ca5b": {
     "model_module": "@jupyter-widgets/controls",
     "model_module_version": "1.5.0",
     "model_name": "ProgressStyleModel",
     "state": {
      "_model_module": "@jupyter-widgets/controls",
      "_model_module_version": "1.5.0",
      "_model_name": "ProgressStyleModel",
      "_view_count": null,
      "_view_module": "@jupyter-widgets/base",
      "_view_module_version": "1.2.0",
      "_view_name": "StyleView",
      "bar_color": null,
      "description_width": ""
     }
    },
    "bd20aff07a744d1787590d6088a4fafa": {
     "model_module": "@jupyter-widgets/controls",
     "model_module_version": "1.5.0",
     "model_name": "HTMLModel",
     "state": {
      "_dom_classes": [],
      "_model_module": "@jupyter-widgets/controls",
      "_model_module_version": "1.5.0",
      "_model_name": "HTMLModel",
      "_view_count": null,
      "_view_module": "@jupyter-widgets/controls",
      "_view_module_version": "1.5.0",
      "_view_name": "HTMLView",
      "description": "",
      "description_tooltip": null,
      "layout": "IPY_MODEL_6e2cce7d913a43b6997f365971cfd9ec",
      "placeholder": "​",
      "style": "IPY_MODEL_65629f70cb0d47dbb49ee2cc1eeef9a5",
      "value": "config.json: 100%"
     }
    },
    "c624aa25ad62468fb1a844664a700502": {
     "model_module": "@jupyter-widgets/base",
     "model_module_version": "1.2.0",
     "model_name": "LayoutModel",
     "state": {
      "_model_module": "@jupyter-widgets/base",
      "_model_module_version": "1.2.0",
      "_model_name": "LayoutModel",
      "_view_count": null,
      "_view_module": "@jupyter-widgets/base",
      "_view_module_version": "1.2.0",
      "_view_name": "LayoutView",
      "align_content": null,
      "align_items": null,
      "align_self": null,
      "border": null,
      "bottom": null,
      "display": null,
      "flex": null,
      "flex_flow": null,
      "grid_area": null,
      "grid_auto_columns": null,
      "grid_auto_flow": null,
      "grid_auto_rows": null,
      "grid_column": null,
      "grid_gap": null,
      "grid_row": null,
      "grid_template_areas": null,
      "grid_template_columns": null,
      "grid_template_rows": null,
      "height": null,
      "justify_content": null,
      "justify_items": null,
      "left": null,
      "margin": null,
      "max_height": null,
      "max_width": null,
      "min_height": null,
      "min_width": null,
      "object_fit": null,
      "object_position": null,
      "order": null,
      "overflow": null,
      "overflow_x": null,
      "overflow_y": null,
      "padding": null,
      "right": null,
      "top": null,
      "visibility": null,
      "width": null
     }
    },
    "c88959dfaaac459d8ce9bbef6b756943": {
     "model_module": "@jupyter-widgets/base",
     "model_module_version": "1.2.0",
     "model_name": "LayoutModel",
     "state": {
      "_model_module": "@jupyter-widgets/base",
      "_model_module_version": "1.2.0",
      "_model_name": "LayoutModel",
      "_view_count": null,
      "_view_module": "@jupyter-widgets/base",
      "_view_module_version": "1.2.0",
      "_view_name": "LayoutView",
      "align_content": null,
      "align_items": null,
      "align_self": null,
      "border": null,
      "bottom": null,
      "display": null,
      "flex": null,
      "flex_flow": null,
      "grid_area": null,
      "grid_auto_columns": null,
      "grid_auto_flow": null,
      "grid_auto_rows": null,
      "grid_column": null,
      "grid_gap": null,
      "grid_row": null,
      "grid_template_areas": null,
      "grid_template_columns": null,
      "grid_template_rows": null,
      "height": null,
      "justify_content": null,
      "justify_items": null,
      "left": null,
      "margin": null,
      "max_height": null,
      "max_width": null,
      "min_height": null,
      "min_width": null,
      "object_fit": null,
      "object_position": null,
      "order": null,
      "overflow": null,
      "overflow_x": null,
      "overflow_y": null,
      "padding": null,
      "right": null,
      "top": null,
      "visibility": null,
      "width": null
     }
    },
    "ca139a49b31a4bc9a36de7ff52fa4b69": {
     "model_module": "@jupyter-widgets/controls",
     "model_module_version": "1.5.0",
     "model_name": "ProgressStyleModel",
     "state": {
      "_model_module": "@jupyter-widgets/controls",
      "_model_module_version": "1.5.0",
      "_model_name": "ProgressStyleModel",
      "_view_count": null,
      "_view_module": "@jupyter-widgets/base",
      "_view_module_version": "1.2.0",
      "_view_name": "StyleView",
      "bar_color": null,
      "description_width": ""
     }
    },
    "cece95f0bb134c3ab60758b5ca42fe2c": {
     "model_module": "@jupyter-widgets/controls",
     "model_module_version": "1.5.0",
     "model_name": "DescriptionStyleModel",
     "state": {
      "_model_module": "@jupyter-widgets/controls",
      "_model_module_version": "1.5.0",
      "_model_name": "DescriptionStyleModel",
      "_view_count": null,
      "_view_module": "@jupyter-widgets/base",
      "_view_module_version": "1.2.0",
      "_view_name": "StyleView",
      "description_width": ""
     }
    },
    "ced3d8a4eede48af9c37981c85abb633": {
     "model_module": "@jupyter-widgets/controls",
     "model_module_version": "1.5.0",
     "model_name": "DescriptionStyleModel",
     "state": {
      "_model_module": "@jupyter-widgets/controls",
      "_model_module_version": "1.5.0",
      "_model_name": "DescriptionStyleModel",
      "_view_count": null,
      "_view_module": "@jupyter-widgets/base",
      "_view_module_version": "1.2.0",
      "_view_name": "StyleView",
      "description_width": ""
     }
    },
    "d2a86f063a0c431981230192de901f65": {
     "model_module": "@jupyter-widgets/controls",
     "model_module_version": "1.5.0",
     "model_name": "DescriptionStyleModel",
     "state": {
      "_model_module": "@jupyter-widgets/controls",
      "_model_module_version": "1.5.0",
      "_model_name": "DescriptionStyleModel",
      "_view_count": null,
      "_view_module": "@jupyter-widgets/base",
      "_view_module_version": "1.2.0",
      "_view_name": "StyleView",
      "description_width": ""
     }
    },
    "d45b46ea1a684f2599b627a5fef59afb": {
     "model_module": "@jupyter-widgets/base",
     "model_module_version": "1.2.0",
     "model_name": "LayoutModel",
     "state": {
      "_model_module": "@jupyter-widgets/base",
      "_model_module_version": "1.2.0",
      "_model_name": "LayoutModel",
      "_view_count": null,
      "_view_module": "@jupyter-widgets/base",
      "_view_module_version": "1.2.0",
      "_view_name": "LayoutView",
      "align_content": null,
      "align_items": null,
      "align_self": null,
      "border": null,
      "bottom": null,
      "display": null,
      "flex": null,
      "flex_flow": null,
      "grid_area": null,
      "grid_auto_columns": null,
      "grid_auto_flow": null,
      "grid_auto_rows": null,
      "grid_column": null,
      "grid_gap": null,
      "grid_row": null,
      "grid_template_areas": null,
      "grid_template_columns": null,
      "grid_template_rows": null,
      "height": null,
      "justify_content": null,
      "justify_items": null,
      "left": null,
      "margin": null,
      "max_height": null,
      "max_width": null,
      "min_height": null,
      "min_width": null,
      "object_fit": null,
      "object_position": null,
      "order": null,
      "overflow": null,
      "overflow_x": null,
      "overflow_y": null,
      "padding": null,
      "right": null,
      "top": null,
      "visibility": null,
      "width": null
     }
    },
    "d7880ee40fb9429cb0038d5a70f5a8a0": {
     "model_module": "@jupyter-widgets/base",
     "model_module_version": "1.2.0",
     "model_name": "LayoutModel",
     "state": {
      "_model_module": "@jupyter-widgets/base",
      "_model_module_version": "1.2.0",
      "_model_name": "LayoutModel",
      "_view_count": null,
      "_view_module": "@jupyter-widgets/base",
      "_view_module_version": "1.2.0",
      "_view_name": "LayoutView",
      "align_content": null,
      "align_items": null,
      "align_self": null,
      "border": null,
      "bottom": null,
      "display": null,
      "flex": null,
      "flex_flow": null,
      "grid_area": null,
      "grid_auto_columns": null,
      "grid_auto_flow": null,
      "grid_auto_rows": null,
      "grid_column": null,
      "grid_gap": null,
      "grid_row": null,
      "grid_template_areas": null,
      "grid_template_columns": null,
      "grid_template_rows": null,
      "height": null,
      "justify_content": null,
      "justify_items": null,
      "left": null,
      "margin": null,
      "max_height": null,
      "max_width": null,
      "min_height": null,
      "min_width": null,
      "object_fit": null,
      "object_position": null,
      "order": null,
      "overflow": null,
      "overflow_x": null,
      "overflow_y": null,
      "padding": null,
      "right": null,
      "top": null,
      "visibility": null,
      "width": null
     }
    },
    "e06be40484834d1d8e0ed5e741025e40": {
     "model_module": "@jupyter-widgets/controls",
     "model_module_version": "1.5.0",
     "model_name": "FloatProgressModel",
     "state": {
      "_dom_classes": [],
      "_model_module": "@jupyter-widgets/controls",
      "_model_module_version": "1.5.0",
      "_model_name": "FloatProgressModel",
      "_view_count": null,
      "_view_module": "@jupyter-widgets/controls",
      "_view_module_version": "1.5.0",
      "_view_name": "ProgressView",
      "bar_style": "success",
      "description": "",
      "description_tooltip": null,
      "layout": "IPY_MODEL_e9a81ce557ad434ab3e13d59370102db",
      "max": 5353,
      "min": 0,
      "orientation": "horizontal",
      "style": "IPY_MODEL_bc9525f120484f7f85e5642791b5ca5b",
      "value": 5353
     }
    },
    "e0c9b3e78f8f4be7adea14ee3c67228d": {
     "model_module": "@jupyter-widgets/controls",
     "model_module_version": "1.5.0",
     "model_name": "ProgressStyleModel",
     "state": {
      "_model_module": "@jupyter-widgets/controls",
      "_model_module_version": "1.5.0",
      "_model_name": "ProgressStyleModel",
      "_view_count": null,
      "_view_module": "@jupyter-widgets/base",
      "_view_module_version": "1.2.0",
      "_view_name": "StyleView",
      "bar_color": null,
      "description_width": ""
     }
    },
    "e2cd4ce9e0c9407c9a2fdb1122d66b72": {
     "model_module": "@jupyter-widgets/base",
     "model_module_version": "1.2.0",
     "model_name": "LayoutModel",
     "state": {
      "_model_module": "@jupyter-widgets/base",
      "_model_module_version": "1.2.0",
      "_model_name": "LayoutModel",
      "_view_count": null,
      "_view_module": "@jupyter-widgets/base",
      "_view_module_version": "1.2.0",
      "_view_name": "LayoutView",
      "align_content": null,
      "align_items": null,
      "align_self": null,
      "border": null,
      "bottom": null,
      "display": null,
      "flex": null,
      "flex_flow": null,
      "grid_area": null,
      "grid_auto_columns": null,
      "grid_auto_flow": null,
      "grid_auto_rows": null,
      "grid_column": null,
      "grid_gap": null,
      "grid_row": null,
      "grid_template_areas": null,
      "grid_template_columns": null,
      "grid_template_rows": null,
      "height": null,
      "justify_content": null,
      "justify_items": null,
      "left": null,
      "margin": null,
      "max_height": null,
      "max_width": null,
      "min_height": null,
      "min_width": null,
      "object_fit": null,
      "object_position": null,
      "order": null,
      "overflow": null,
      "overflow_x": null,
      "overflow_y": null,
      "padding": null,
      "right": null,
      "top": null,
      "visibility": null,
      "width": null
     }
    },
    "e68cc1b1bb434bc4ae18171d8cacedac": {
     "model_module": "@jupyter-widgets/base",
     "model_module_version": "1.2.0",
     "model_name": "LayoutModel",
     "state": {
      "_model_module": "@jupyter-widgets/base",
      "_model_module_version": "1.2.0",
      "_model_name": "LayoutModel",
      "_view_count": null,
      "_view_module": "@jupyter-widgets/base",
      "_view_module_version": "1.2.0",
      "_view_name": "LayoutView",
      "align_content": null,
      "align_items": null,
      "align_self": null,
      "border": null,
      "bottom": null,
      "display": null,
      "flex": null,
      "flex_flow": null,
      "grid_area": null,
      "grid_auto_columns": null,
      "grid_auto_flow": null,
      "grid_auto_rows": null,
      "grid_column": null,
      "grid_gap": null,
      "grid_row": null,
      "grid_template_areas": null,
      "grid_template_columns": null,
      "grid_template_rows": null,
      "height": null,
      "justify_content": null,
      "justify_items": null,
      "left": null,
      "margin": null,
      "max_height": null,
      "max_width": null,
      "min_height": null,
      "min_width": null,
      "object_fit": null,
      "object_position": null,
      "order": null,
      "overflow": null,
      "overflow_x": null,
      "overflow_y": null,
      "padding": null,
      "right": null,
      "top": null,
      "visibility": null,
      "width": null
     }
    },
    "e6eeadbcae61444ab07189813f8465e7": {
     "model_module": "@jupyter-widgets/controls",
     "model_module_version": "1.5.0",
     "model_name": "ProgressStyleModel",
     "state": {
      "_model_module": "@jupyter-widgets/controls",
      "_model_module_version": "1.5.0",
      "_model_name": "ProgressStyleModel",
      "_view_count": null,
      "_view_module": "@jupyter-widgets/base",
      "_view_module_version": "1.2.0",
      "_view_name": "StyleView",
      "bar_color": null,
      "description_width": ""
     }
    },
    "e787149cd6214f29977b690f0f161770": {
     "model_module": "@jupyter-widgets/base",
     "model_module_version": "1.2.0",
     "model_name": "LayoutModel",
     "state": {
      "_model_module": "@jupyter-widgets/base",
      "_model_module_version": "1.2.0",
      "_model_name": "LayoutModel",
      "_view_count": null,
      "_view_module": "@jupyter-widgets/base",
      "_view_module_version": "1.2.0",
      "_view_name": "LayoutView",
      "align_content": null,
      "align_items": null,
      "align_self": null,
      "border": null,
      "bottom": null,
      "display": null,
      "flex": null,
      "flex_flow": null,
      "grid_area": null,
      "grid_auto_columns": null,
      "grid_auto_flow": null,
      "grid_auto_rows": null,
      "grid_column": null,
      "grid_gap": null,
      "grid_row": null,
      "grid_template_areas": null,
      "grid_template_columns": null,
      "grid_template_rows": null,
      "height": null,
      "justify_content": null,
      "justify_items": null,
      "left": null,
      "margin": null,
      "max_height": null,
      "max_width": null,
      "min_height": null,
      "min_width": null,
      "object_fit": null,
      "object_position": null,
      "order": null,
      "overflow": null,
      "overflow_x": null,
      "overflow_y": null,
      "padding": null,
      "right": null,
      "top": null,
      "visibility": null,
      "width": null
     }
    },
    "e8ec57893e3646cab01bdc6a89183268": {
     "model_module": "@jupyter-widgets/controls",
     "model_module_version": "1.5.0",
     "model_name": "HTMLModel",
     "state": {
      "_dom_classes": [],
      "_model_module": "@jupyter-widgets/controls",
      "_model_module_version": "1.5.0",
      "_model_name": "HTMLModel",
      "_view_count": null,
      "_view_module": "@jupyter-widgets/controls",
      "_view_module_version": "1.5.0",
      "_view_name": "HTMLView",
      "description": "",
      "description_tooltip": null,
      "layout": "IPY_MODEL_5b3d813f029c43ca84e71e32004af539",
      "placeholder": "​",
      "style": "IPY_MODEL_2d03412a552b4726a7aaba7781c3245d",
      "value": "vocab.json: 100%"
     }
    },
    "e9a81ce557ad434ab3e13d59370102db": {
     "model_module": "@jupyter-widgets/base",
     "model_module_version": "1.2.0",
     "model_name": "LayoutModel",
     "state": {
      "_model_module": "@jupyter-widgets/base",
      "_model_module_version": "1.2.0",
      "_model_name": "LayoutModel",
      "_view_count": null,
      "_view_module": "@jupyter-widgets/base",
      "_view_module_version": "1.2.0",
      "_view_name": "LayoutView",
      "align_content": null,
      "align_items": null,
      "align_self": null,
      "border": null,
      "bottom": null,
      "display": null,
      "flex": null,
      "flex_flow": null,
      "grid_area": null,
      "grid_auto_columns": null,
      "grid_auto_flow": null,
      "grid_auto_rows": null,
      "grid_column": null,
      "grid_gap": null,
      "grid_row": null,
      "grid_template_areas": null,
      "grid_template_columns": null,
      "grid_template_rows": null,
      "height": null,
      "justify_content": null,
      "justify_items": null,
      "left": null,
      "margin": null,
      "max_height": null,
      "max_width": null,
      "min_height": null,
      "min_width": null,
      "object_fit": null,
      "object_position": null,
      "order": null,
      "overflow": null,
      "overflow_x": null,
      "overflow_y": null,
      "padding": null,
      "right": null,
      "top": null,
      "visibility": null,
      "width": null
     }
    },
    "ef54818c883f4324a68a7cbcf72f61f7": {
     "model_module": "@jupyter-widgets/controls",
     "model_module_version": "1.5.0",
     "model_name": "DescriptionStyleModel",
     "state": {
      "_model_module": "@jupyter-widgets/controls",
      "_model_module_version": "1.5.0",
      "_model_name": "DescriptionStyleModel",
      "_view_count": null,
      "_view_module": "@jupyter-widgets/base",
      "_view_module_version": "1.2.0",
      "_view_name": "StyleView",
      "description_width": ""
     }
    },
    "f02419ba317a4e8f8af8eb347274f710": {
     "model_module": "@jupyter-widgets/controls",
     "model_module_version": "1.5.0",
     "model_name": "ProgressStyleModel",
     "state": {
      "_model_module": "@jupyter-widgets/controls",
      "_model_module_version": "1.5.0",
      "_model_name": "ProgressStyleModel",
      "_view_count": null,
      "_view_module": "@jupyter-widgets/base",
      "_view_module_version": "1.2.0",
      "_view_name": "StyleView",
      "bar_color": null,
      "description_width": ""
     }
    },
    "f4408edbff1e4435808e0ac0f331990b": {
     "model_module": "@jupyter-widgets/controls",
     "model_module_version": "1.5.0",
     "model_name": "FloatProgressModel",
     "state": {
      "_dom_classes": [],
      "_model_module": "@jupyter-widgets/controls",
      "_model_module_version": "1.5.0",
      "_model_name": "FloatProgressModel",
      "_view_count": null,
      "_view_module": "@jupyter-widgets/controls",
      "_view_module_version": "1.5.0",
      "_view_name": "ProgressView",
      "bar_style": "success",
      "description": "",
      "description_tooltip": null,
      "layout": "IPY_MODEL_89dc733ddfcc4d77b35c4d9c7d2c0b9e",
      "max": 4546,
      "min": 0,
      "orientation": "horizontal",
      "style": "IPY_MODEL_f02419ba317a4e8f8af8eb347274f710",
      "value": 4546
     }
    },
    "f5d27449ce594a15a02bbca028264e01": {
     "model_module": "@jupyter-widgets/base",
     "model_module_version": "1.2.0",
     "model_name": "LayoutModel",
     "state": {
      "_model_module": "@jupyter-widgets/base",
      "_model_module_version": "1.2.0",
      "_model_name": "LayoutModel",
      "_view_count": null,
      "_view_module": "@jupyter-widgets/base",
      "_view_module_version": "1.2.0",
      "_view_name": "LayoutView",
      "align_content": null,
      "align_items": null,
      "align_self": null,
      "border": null,
      "bottom": null,
      "display": null,
      "flex": null,
      "flex_flow": null,
      "grid_area": null,
      "grid_auto_columns": null,
      "grid_auto_flow": null,
      "grid_auto_rows": null,
      "grid_column": null,
      "grid_gap": null,
      "grid_row": null,
      "grid_template_areas": null,
      "grid_template_columns": null,
      "grid_template_rows": null,
      "height": null,
      "justify_content": null,
      "justify_items": null,
      "left": null,
      "margin": null,
      "max_height": null,
      "max_width": null,
      "min_height": null,
      "min_width": null,
      "object_fit": null,
      "object_position": null,
      "order": null,
      "overflow": null,
      "overflow_x": null,
      "overflow_y": null,
      "padding": null,
      "right": null,
      "top": null,
      "visibility": null,
      "width": null
     }
    },
    "fb7502847dc8427f9aa3b572beec533e": {
     "model_module": "@jupyter-widgets/base",
     "model_module_version": "1.2.0",
     "model_name": "LayoutModel",
     "state": {
      "_model_module": "@jupyter-widgets/base",
      "_model_module_version": "1.2.0",
      "_model_name": "LayoutModel",
      "_view_count": null,
      "_view_module": "@jupyter-widgets/base",
      "_view_module_version": "1.2.0",
      "_view_name": "LayoutView",
      "align_content": null,
      "align_items": null,
      "align_self": null,
      "border": null,
      "bottom": null,
      "display": null,
      "flex": null,
      "flex_flow": null,
      "grid_area": null,
      "grid_auto_columns": null,
      "grid_auto_flow": null,
      "grid_auto_rows": null,
      "grid_column": null,
      "grid_gap": null,
      "grid_row": null,
      "grid_template_areas": null,
      "grid_template_columns": null,
      "grid_template_rows": null,
      "height": null,
      "justify_content": null,
      "justify_items": null,
      "left": null,
      "margin": null,
      "max_height": null,
      "max_width": null,
      "min_height": null,
      "min_width": null,
      "object_fit": null,
      "object_position": null,
      "order": null,
      "overflow": null,
      "overflow_x": null,
      "overflow_y": null,
      "padding": null,
      "right": null,
      "top": null,
      "visibility": null,
      "width": null
     }
    },
    "ff196cc6b6c942eaa7500693f76896b8": {
     "model_module": "@jupyter-widgets/controls",
     "model_module_version": "1.5.0",
     "model_name": "HTMLModel",
     "state": {
      "_dom_classes": [],
      "_model_module": "@jupyter-widgets/controls",
      "_model_module_version": "1.5.0",
      "_model_name": "HTMLModel",
      "_view_count": null,
      "_view_module": "@jupyter-widgets/controls",
      "_view_module_version": "1.5.0",
      "_view_name": "HTMLView",
      "description": "",
      "description_tooltip": null,
      "layout": "IPY_MODEL_fb7502847dc8427f9aa3b572beec533e",
      "placeholder": "​",
      "style": "IPY_MODEL_5a6eb86157d94d6bbbab2ff845421b43",
      "value": "tokenizer.json: 100%"
     }
    }
   }
  }
 },
 "nbformat": 4,
 "nbformat_minor": 1
}
